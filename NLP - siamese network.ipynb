{
  "nbformat": 4,
  "nbformat_minor": 0,
  "metadata": {
    "colab": {
      "name": "deepLearning3.ipynb",
      "provenance": [],
      "collapsed_sections": [],
      "toc_visible": true
    },
    "kernelspec": {
      "name": "python3",
      "display_name": "Python 3"
    },
    "accelerator": "GPU",
    "widgets": {
      "application/vnd.jupyter.widget-state+json": {
        "46e46ccb026a4397bca93ea1420c9be9": {
          "model_module": "@jupyter-widgets/controls",
          "model_name": "HBoxModel",
          "state": {
            "_view_name": "HBoxView",
            "_dom_classes": [],
            "_model_name": "HBoxModel",
            "_view_module": "@jupyter-widgets/controls",
            "_model_module_version": "1.5.0",
            "_view_count": null,
            "_view_module_version": "1.5.0",
            "box_style": "",
            "layout": "IPY_MODEL_fe6b77ab52884a89b31ca15c537b12bb",
            "_model_module": "@jupyter-widgets/controls",
            "children": [
              "IPY_MODEL_1db78e96301840619e10dcfddc89c65f",
              "IPY_MODEL_46cd63d92e944a78918dd9d6505a6f9e"
            ]
          }
        },
        "fe6b77ab52884a89b31ca15c537b12bb": {
          "model_module": "@jupyter-widgets/base",
          "model_name": "LayoutModel",
          "state": {
            "_view_name": "LayoutView",
            "grid_template_rows": null,
            "right": null,
            "justify_content": null,
            "_view_module": "@jupyter-widgets/base",
            "overflow": null,
            "_model_module_version": "1.2.0",
            "_view_count": null,
            "flex_flow": null,
            "width": null,
            "min_width": null,
            "border": null,
            "align_items": null,
            "bottom": null,
            "_model_module": "@jupyter-widgets/base",
            "top": null,
            "grid_column": null,
            "overflow_y": null,
            "overflow_x": null,
            "grid_auto_flow": null,
            "grid_area": null,
            "grid_template_columns": null,
            "flex": null,
            "_model_name": "LayoutModel",
            "justify_items": null,
            "grid_row": null,
            "max_height": null,
            "align_content": null,
            "visibility": null,
            "align_self": null,
            "height": null,
            "min_height": null,
            "padding": null,
            "grid_auto_rows": null,
            "grid_gap": null,
            "max_width": null,
            "order": null,
            "_view_module_version": "1.2.0",
            "grid_template_areas": null,
            "object_position": null,
            "object_fit": null,
            "grid_auto_columns": null,
            "margin": null,
            "display": null,
            "left": null
          }
        },
        "1db78e96301840619e10dcfddc89c65f": {
          "model_module": "@jupyter-widgets/controls",
          "model_name": "FloatProgressModel",
          "state": {
            "_view_name": "ProgressView",
            "style": "IPY_MODEL_085a0cdd7e204297a7b5612b241627a4",
            "_dom_classes": [],
            "description": "Downloading: 100%",
            "_model_name": "FloatProgressModel",
            "bar_style": "success",
            "max": 433,
            "_view_module": "@jupyter-widgets/controls",
            "_model_module_version": "1.5.0",
            "value": 433,
            "_view_count": null,
            "_view_module_version": "1.5.0",
            "orientation": "horizontal",
            "min": 0,
            "description_tooltip": null,
            "_model_module": "@jupyter-widgets/controls",
            "layout": "IPY_MODEL_441a2558d0344845b08f111a2ded8869"
          }
        },
        "46cd63d92e944a78918dd9d6505a6f9e": {
          "model_module": "@jupyter-widgets/controls",
          "model_name": "HTMLModel",
          "state": {
            "_view_name": "HTMLView",
            "style": "IPY_MODEL_cdd39f5c9f8345a5982a2a7022e2e09a",
            "_dom_classes": [],
            "description": "",
            "_model_name": "HTMLModel",
            "placeholder": "​",
            "_view_module": "@jupyter-widgets/controls",
            "_model_module_version": "1.5.0",
            "value": " 433/433 [00:04&lt;00:00, 108B/s]",
            "_view_count": null,
            "_view_module_version": "1.5.0",
            "description_tooltip": null,
            "_model_module": "@jupyter-widgets/controls",
            "layout": "IPY_MODEL_af8ef5c5fac04e30ae2e4feb01479bbc"
          }
        },
        "085a0cdd7e204297a7b5612b241627a4": {
          "model_module": "@jupyter-widgets/controls",
          "model_name": "ProgressStyleModel",
          "state": {
            "_view_name": "StyleView",
            "_model_name": "ProgressStyleModel",
            "description_width": "initial",
            "_view_module": "@jupyter-widgets/base",
            "_model_module_version": "1.5.0",
            "_view_count": null,
            "_view_module_version": "1.2.0",
            "bar_color": null,
            "_model_module": "@jupyter-widgets/controls"
          }
        },
        "441a2558d0344845b08f111a2ded8869": {
          "model_module": "@jupyter-widgets/base",
          "model_name": "LayoutModel",
          "state": {
            "_view_name": "LayoutView",
            "grid_template_rows": null,
            "right": null,
            "justify_content": null,
            "_view_module": "@jupyter-widgets/base",
            "overflow": null,
            "_model_module_version": "1.2.0",
            "_view_count": null,
            "flex_flow": null,
            "width": null,
            "min_width": null,
            "border": null,
            "align_items": null,
            "bottom": null,
            "_model_module": "@jupyter-widgets/base",
            "top": null,
            "grid_column": null,
            "overflow_y": null,
            "overflow_x": null,
            "grid_auto_flow": null,
            "grid_area": null,
            "grid_template_columns": null,
            "flex": null,
            "_model_name": "LayoutModel",
            "justify_items": null,
            "grid_row": null,
            "max_height": null,
            "align_content": null,
            "visibility": null,
            "align_self": null,
            "height": null,
            "min_height": null,
            "padding": null,
            "grid_auto_rows": null,
            "grid_gap": null,
            "max_width": null,
            "order": null,
            "_view_module_version": "1.2.0",
            "grid_template_areas": null,
            "object_position": null,
            "object_fit": null,
            "grid_auto_columns": null,
            "margin": null,
            "display": null,
            "left": null
          }
        },
        "cdd39f5c9f8345a5982a2a7022e2e09a": {
          "model_module": "@jupyter-widgets/controls",
          "model_name": "DescriptionStyleModel",
          "state": {
            "_view_name": "StyleView",
            "_model_name": "DescriptionStyleModel",
            "description_width": "",
            "_view_module": "@jupyter-widgets/base",
            "_model_module_version": "1.5.0",
            "_view_count": null,
            "_view_module_version": "1.2.0",
            "_model_module": "@jupyter-widgets/controls"
          }
        },
        "af8ef5c5fac04e30ae2e4feb01479bbc": {
          "model_module": "@jupyter-widgets/base",
          "model_name": "LayoutModel",
          "state": {
            "_view_name": "LayoutView",
            "grid_template_rows": null,
            "right": null,
            "justify_content": null,
            "_view_module": "@jupyter-widgets/base",
            "overflow": null,
            "_model_module_version": "1.2.0",
            "_view_count": null,
            "flex_flow": null,
            "width": null,
            "min_width": null,
            "border": null,
            "align_items": null,
            "bottom": null,
            "_model_module": "@jupyter-widgets/base",
            "top": null,
            "grid_column": null,
            "overflow_y": null,
            "overflow_x": null,
            "grid_auto_flow": null,
            "grid_area": null,
            "grid_template_columns": null,
            "flex": null,
            "_model_name": "LayoutModel",
            "justify_items": null,
            "grid_row": null,
            "max_height": null,
            "align_content": null,
            "visibility": null,
            "align_self": null,
            "height": null,
            "min_height": null,
            "padding": null,
            "grid_auto_rows": null,
            "grid_gap": null,
            "max_width": null,
            "order": null,
            "_view_module_version": "1.2.0",
            "grid_template_areas": null,
            "object_position": null,
            "object_fit": null,
            "grid_auto_columns": null,
            "margin": null,
            "display": null,
            "left": null
          }
        },
        "e5879a6d8e9d4cfcbf048b36046748e5": {
          "model_module": "@jupyter-widgets/controls",
          "model_name": "HBoxModel",
          "state": {
            "_view_name": "HBoxView",
            "_dom_classes": [],
            "_model_name": "HBoxModel",
            "_view_module": "@jupyter-widgets/controls",
            "_model_module_version": "1.5.0",
            "_view_count": null,
            "_view_module_version": "1.5.0",
            "box_style": "",
            "layout": "IPY_MODEL_eae404e33dd74cc2a71b39d04098b23e",
            "_model_module": "@jupyter-widgets/controls",
            "children": [
              "IPY_MODEL_a6f516813dd94093b1e2ac61937041f7",
              "IPY_MODEL_cea2624f678f4c9ba61bbea7825b3e1b"
            ]
          }
        },
        "eae404e33dd74cc2a71b39d04098b23e": {
          "model_module": "@jupyter-widgets/base",
          "model_name": "LayoutModel",
          "state": {
            "_view_name": "LayoutView",
            "grid_template_rows": null,
            "right": null,
            "justify_content": null,
            "_view_module": "@jupyter-widgets/base",
            "overflow": null,
            "_model_module_version": "1.2.0",
            "_view_count": null,
            "flex_flow": null,
            "width": null,
            "min_width": null,
            "border": null,
            "align_items": null,
            "bottom": null,
            "_model_module": "@jupyter-widgets/base",
            "top": null,
            "grid_column": null,
            "overflow_y": null,
            "overflow_x": null,
            "grid_auto_flow": null,
            "grid_area": null,
            "grid_template_columns": null,
            "flex": null,
            "_model_name": "LayoutModel",
            "justify_items": null,
            "grid_row": null,
            "max_height": null,
            "align_content": null,
            "visibility": null,
            "align_self": null,
            "height": null,
            "min_height": null,
            "padding": null,
            "grid_auto_rows": null,
            "grid_gap": null,
            "max_width": null,
            "order": null,
            "_view_module_version": "1.2.0",
            "grid_template_areas": null,
            "object_position": null,
            "object_fit": null,
            "grid_auto_columns": null,
            "margin": null,
            "display": null,
            "left": null
          }
        },
        "a6f516813dd94093b1e2ac61937041f7": {
          "model_module": "@jupyter-widgets/controls",
          "model_name": "FloatProgressModel",
          "state": {
            "_view_name": "ProgressView",
            "style": "IPY_MODEL_c7120e4f10e54c3e891fbaf3b42fd5d6",
            "_dom_classes": [],
            "description": "Downloading: 100%",
            "_model_name": "FloatProgressModel",
            "bar_style": "success",
            "max": 231508,
            "_view_module": "@jupyter-widgets/controls",
            "_model_module_version": "1.5.0",
            "value": 231508,
            "_view_count": null,
            "_view_module_version": "1.5.0",
            "orientation": "horizontal",
            "min": 0,
            "description_tooltip": null,
            "_model_module": "@jupyter-widgets/controls",
            "layout": "IPY_MODEL_2f49353ee870498bb8a2afa7f68e8a30"
          }
        },
        "cea2624f678f4c9ba61bbea7825b3e1b": {
          "model_module": "@jupyter-widgets/controls",
          "model_name": "HTMLModel",
          "state": {
            "_view_name": "HTMLView",
            "style": "IPY_MODEL_9e6a23119fca447fad0dc9d0a723d1cc",
            "_dom_classes": [],
            "description": "",
            "_model_name": "HTMLModel",
            "placeholder": "​",
            "_view_module": "@jupyter-widgets/controls",
            "_model_module_version": "1.5.0",
            "value": " 232k/232k [00:00&lt;00:00, 2.22MB/s]",
            "_view_count": null,
            "_view_module_version": "1.5.0",
            "description_tooltip": null,
            "_model_module": "@jupyter-widgets/controls",
            "layout": "IPY_MODEL_9ad9fe6ad455400686c373a5f04d66e8"
          }
        },
        "c7120e4f10e54c3e891fbaf3b42fd5d6": {
          "model_module": "@jupyter-widgets/controls",
          "model_name": "ProgressStyleModel",
          "state": {
            "_view_name": "StyleView",
            "_model_name": "ProgressStyleModel",
            "description_width": "initial",
            "_view_module": "@jupyter-widgets/base",
            "_model_module_version": "1.5.0",
            "_view_count": null,
            "_view_module_version": "1.2.0",
            "bar_color": null,
            "_model_module": "@jupyter-widgets/controls"
          }
        },
        "2f49353ee870498bb8a2afa7f68e8a30": {
          "model_module": "@jupyter-widgets/base",
          "model_name": "LayoutModel",
          "state": {
            "_view_name": "LayoutView",
            "grid_template_rows": null,
            "right": null,
            "justify_content": null,
            "_view_module": "@jupyter-widgets/base",
            "overflow": null,
            "_model_module_version": "1.2.0",
            "_view_count": null,
            "flex_flow": null,
            "width": null,
            "min_width": null,
            "border": null,
            "align_items": null,
            "bottom": null,
            "_model_module": "@jupyter-widgets/base",
            "top": null,
            "grid_column": null,
            "overflow_y": null,
            "overflow_x": null,
            "grid_auto_flow": null,
            "grid_area": null,
            "grid_template_columns": null,
            "flex": null,
            "_model_name": "LayoutModel",
            "justify_items": null,
            "grid_row": null,
            "max_height": null,
            "align_content": null,
            "visibility": null,
            "align_self": null,
            "height": null,
            "min_height": null,
            "padding": null,
            "grid_auto_rows": null,
            "grid_gap": null,
            "max_width": null,
            "order": null,
            "_view_module_version": "1.2.0",
            "grid_template_areas": null,
            "object_position": null,
            "object_fit": null,
            "grid_auto_columns": null,
            "margin": null,
            "display": null,
            "left": null
          }
        },
        "9e6a23119fca447fad0dc9d0a723d1cc": {
          "model_module": "@jupyter-widgets/controls",
          "model_name": "DescriptionStyleModel",
          "state": {
            "_view_name": "StyleView",
            "_model_name": "DescriptionStyleModel",
            "description_width": "",
            "_view_module": "@jupyter-widgets/base",
            "_model_module_version": "1.5.0",
            "_view_count": null,
            "_view_module_version": "1.2.0",
            "_model_module": "@jupyter-widgets/controls"
          }
        },
        "9ad9fe6ad455400686c373a5f04d66e8": {
          "model_module": "@jupyter-widgets/base",
          "model_name": "LayoutModel",
          "state": {
            "_view_name": "LayoutView",
            "grid_template_rows": null,
            "right": null,
            "justify_content": null,
            "_view_module": "@jupyter-widgets/base",
            "overflow": null,
            "_model_module_version": "1.2.0",
            "_view_count": null,
            "flex_flow": null,
            "width": null,
            "min_width": null,
            "border": null,
            "align_items": null,
            "bottom": null,
            "_model_module": "@jupyter-widgets/base",
            "top": null,
            "grid_column": null,
            "overflow_y": null,
            "overflow_x": null,
            "grid_auto_flow": null,
            "grid_area": null,
            "grid_template_columns": null,
            "flex": null,
            "_model_name": "LayoutModel",
            "justify_items": null,
            "grid_row": null,
            "max_height": null,
            "align_content": null,
            "visibility": null,
            "align_self": null,
            "height": null,
            "min_height": null,
            "padding": null,
            "grid_auto_rows": null,
            "grid_gap": null,
            "max_width": null,
            "order": null,
            "_view_module_version": "1.2.0",
            "grid_template_areas": null,
            "object_position": null,
            "object_fit": null,
            "grid_auto_columns": null,
            "margin": null,
            "display": null,
            "left": null
          }
        },
        "44f6ec7760bb4148a3e963e1086df4d4": {
          "model_module": "@jupyter-widgets/controls",
          "model_name": "HBoxModel",
          "state": {
            "_view_name": "HBoxView",
            "_dom_classes": [],
            "_model_name": "HBoxModel",
            "_view_module": "@jupyter-widgets/controls",
            "_model_module_version": "1.5.0",
            "_view_count": null,
            "_view_module_version": "1.5.0",
            "box_style": "",
            "layout": "IPY_MODEL_7f92e66a17a74ca6b99769aba2f3bd32",
            "_model_module": "@jupyter-widgets/controls",
            "children": [
              "IPY_MODEL_ed8eaca42d9445c7acaab49079a27c0f",
              "IPY_MODEL_a049f1e466224f718438d2b49543fea9"
            ]
          }
        },
        "7f92e66a17a74ca6b99769aba2f3bd32": {
          "model_module": "@jupyter-widgets/base",
          "model_name": "LayoutModel",
          "state": {
            "_view_name": "LayoutView",
            "grid_template_rows": null,
            "right": null,
            "justify_content": null,
            "_view_module": "@jupyter-widgets/base",
            "overflow": null,
            "_model_module_version": "1.2.0",
            "_view_count": null,
            "flex_flow": null,
            "width": null,
            "min_width": null,
            "border": null,
            "align_items": null,
            "bottom": null,
            "_model_module": "@jupyter-widgets/base",
            "top": null,
            "grid_column": null,
            "overflow_y": null,
            "overflow_x": null,
            "grid_auto_flow": null,
            "grid_area": null,
            "grid_template_columns": null,
            "flex": null,
            "_model_name": "LayoutModel",
            "justify_items": null,
            "grid_row": null,
            "max_height": null,
            "align_content": null,
            "visibility": null,
            "align_self": null,
            "height": null,
            "min_height": null,
            "padding": null,
            "grid_auto_rows": null,
            "grid_gap": null,
            "max_width": null,
            "order": null,
            "_view_module_version": "1.2.0",
            "grid_template_areas": null,
            "object_position": null,
            "object_fit": null,
            "grid_auto_columns": null,
            "margin": null,
            "display": null,
            "left": null
          }
        },
        "ed8eaca42d9445c7acaab49079a27c0f": {
          "model_module": "@jupyter-widgets/controls",
          "model_name": "FloatProgressModel",
          "state": {
            "_view_name": "ProgressView",
            "style": "IPY_MODEL_a4d93fc9793f425a8c9f1bb22e6de3ba",
            "_dom_classes": [],
            "description": "Downloading: 100%",
            "_model_name": "FloatProgressModel",
            "bar_style": "success",
            "max": 466062,
            "_view_module": "@jupyter-widgets/controls",
            "_model_module_version": "1.5.0",
            "value": 466062,
            "_view_count": null,
            "_view_module_version": "1.5.0",
            "orientation": "horizontal",
            "min": 0,
            "description_tooltip": null,
            "_model_module": "@jupyter-widgets/controls",
            "layout": "IPY_MODEL_1d0be03ad923400ebc01dc42882a07e2"
          }
        },
        "a049f1e466224f718438d2b49543fea9": {
          "model_module": "@jupyter-widgets/controls",
          "model_name": "HTMLModel",
          "state": {
            "_view_name": "HTMLView",
            "style": "IPY_MODEL_3b7945cb395649a0823e84bb2a78354b",
            "_dom_classes": [],
            "description": "",
            "_model_name": "HTMLModel",
            "placeholder": "​",
            "_view_module": "@jupyter-widgets/controls",
            "_model_module_version": "1.5.0",
            "value": " 466k/466k [00:03&lt;00:00, 121kB/s]",
            "_view_count": null,
            "_view_module_version": "1.5.0",
            "description_tooltip": null,
            "_model_module": "@jupyter-widgets/controls",
            "layout": "IPY_MODEL_4b32eeef15bb41ab856dec09d57c3c6d"
          }
        },
        "a4d93fc9793f425a8c9f1bb22e6de3ba": {
          "model_module": "@jupyter-widgets/controls",
          "model_name": "ProgressStyleModel",
          "state": {
            "_view_name": "StyleView",
            "_model_name": "ProgressStyleModel",
            "description_width": "initial",
            "_view_module": "@jupyter-widgets/base",
            "_model_module_version": "1.5.0",
            "_view_count": null,
            "_view_module_version": "1.2.0",
            "bar_color": null,
            "_model_module": "@jupyter-widgets/controls"
          }
        },
        "1d0be03ad923400ebc01dc42882a07e2": {
          "model_module": "@jupyter-widgets/base",
          "model_name": "LayoutModel",
          "state": {
            "_view_name": "LayoutView",
            "grid_template_rows": null,
            "right": null,
            "justify_content": null,
            "_view_module": "@jupyter-widgets/base",
            "overflow": null,
            "_model_module_version": "1.2.0",
            "_view_count": null,
            "flex_flow": null,
            "width": null,
            "min_width": null,
            "border": null,
            "align_items": null,
            "bottom": null,
            "_model_module": "@jupyter-widgets/base",
            "top": null,
            "grid_column": null,
            "overflow_y": null,
            "overflow_x": null,
            "grid_auto_flow": null,
            "grid_area": null,
            "grid_template_columns": null,
            "flex": null,
            "_model_name": "LayoutModel",
            "justify_items": null,
            "grid_row": null,
            "max_height": null,
            "align_content": null,
            "visibility": null,
            "align_self": null,
            "height": null,
            "min_height": null,
            "padding": null,
            "grid_auto_rows": null,
            "grid_gap": null,
            "max_width": null,
            "order": null,
            "_view_module_version": "1.2.0",
            "grid_template_areas": null,
            "object_position": null,
            "object_fit": null,
            "grid_auto_columns": null,
            "margin": null,
            "display": null,
            "left": null
          }
        },
        "3b7945cb395649a0823e84bb2a78354b": {
          "model_module": "@jupyter-widgets/controls",
          "model_name": "DescriptionStyleModel",
          "state": {
            "_view_name": "StyleView",
            "_model_name": "DescriptionStyleModel",
            "description_width": "",
            "_view_module": "@jupyter-widgets/base",
            "_model_module_version": "1.5.0",
            "_view_count": null,
            "_view_module_version": "1.2.0",
            "_model_module": "@jupyter-widgets/controls"
          }
        },
        "4b32eeef15bb41ab856dec09d57c3c6d": {
          "model_module": "@jupyter-widgets/base",
          "model_name": "LayoutModel",
          "state": {
            "_view_name": "LayoutView",
            "grid_template_rows": null,
            "right": null,
            "justify_content": null,
            "_view_module": "@jupyter-widgets/base",
            "overflow": null,
            "_model_module_version": "1.2.0",
            "_view_count": null,
            "flex_flow": null,
            "width": null,
            "min_width": null,
            "border": null,
            "align_items": null,
            "bottom": null,
            "_model_module": "@jupyter-widgets/base",
            "top": null,
            "grid_column": null,
            "overflow_y": null,
            "overflow_x": null,
            "grid_auto_flow": null,
            "grid_area": null,
            "grid_template_columns": null,
            "flex": null,
            "_model_name": "LayoutModel",
            "justify_items": null,
            "grid_row": null,
            "max_height": null,
            "align_content": null,
            "visibility": null,
            "align_self": null,
            "height": null,
            "min_height": null,
            "padding": null,
            "grid_auto_rows": null,
            "grid_gap": null,
            "max_width": null,
            "order": null,
            "_view_module_version": "1.2.0",
            "grid_template_areas": null,
            "object_position": null,
            "object_fit": null,
            "grid_auto_columns": null,
            "margin": null,
            "display": null,
            "left": null
          }
        },
        "f35ef79c4a4446728400a011982527a3": {
          "model_module": "@jupyter-widgets/controls",
          "model_name": "HBoxModel",
          "state": {
            "_view_name": "HBoxView",
            "_dom_classes": [],
            "_model_name": "HBoxModel",
            "_view_module": "@jupyter-widgets/controls",
            "_model_module_version": "1.5.0",
            "_view_count": null,
            "_view_module_version": "1.5.0",
            "box_style": "",
            "layout": "IPY_MODEL_c83a650e8b834ab28a7d8a698c23b531",
            "_model_module": "@jupyter-widgets/controls",
            "children": [
              "IPY_MODEL_baafc5d40eae4e068be98a7fd32852c3",
              "IPY_MODEL_203e32f7158d48d18aef9184e796678a"
            ]
          }
        },
        "c83a650e8b834ab28a7d8a698c23b531": {
          "model_module": "@jupyter-widgets/base",
          "model_name": "LayoutModel",
          "state": {
            "_view_name": "LayoutView",
            "grid_template_rows": null,
            "right": null,
            "justify_content": null,
            "_view_module": "@jupyter-widgets/base",
            "overflow": null,
            "_model_module_version": "1.2.0",
            "_view_count": null,
            "flex_flow": null,
            "width": null,
            "min_width": null,
            "border": null,
            "align_items": null,
            "bottom": null,
            "_model_module": "@jupyter-widgets/base",
            "top": null,
            "grid_column": null,
            "overflow_y": null,
            "overflow_x": null,
            "grid_auto_flow": null,
            "grid_area": null,
            "grid_template_columns": null,
            "flex": null,
            "_model_name": "LayoutModel",
            "justify_items": null,
            "grid_row": null,
            "max_height": null,
            "align_content": null,
            "visibility": null,
            "align_self": null,
            "height": null,
            "min_height": null,
            "padding": null,
            "grid_auto_rows": null,
            "grid_gap": null,
            "max_width": null,
            "order": null,
            "_view_module_version": "1.2.0",
            "grid_template_areas": null,
            "object_position": null,
            "object_fit": null,
            "grid_auto_columns": null,
            "margin": null,
            "display": null,
            "left": null
          }
        },
        "baafc5d40eae4e068be98a7fd32852c3": {
          "model_module": "@jupyter-widgets/controls",
          "model_name": "FloatProgressModel",
          "state": {
            "_view_name": "ProgressView",
            "style": "IPY_MODEL_e705b8541c8445bb9e48a3b56012b9bb",
            "_dom_classes": [],
            "description": "100%",
            "_model_name": "FloatProgressModel",
            "bar_style": "success",
            "max": 74067,
            "_view_module": "@jupyter-widgets/controls",
            "_model_module_version": "1.5.0",
            "value": 74067,
            "_view_count": null,
            "_view_module_version": "1.5.0",
            "orientation": "horizontal",
            "min": 0,
            "description_tooltip": null,
            "_model_module": "@jupyter-widgets/controls",
            "layout": "IPY_MODEL_40432dbac042467c9b8519d33c09fb80"
          }
        },
        "203e32f7158d48d18aef9184e796678a": {
          "model_module": "@jupyter-widgets/controls",
          "model_name": "HTMLModel",
          "state": {
            "_view_name": "HTMLView",
            "style": "IPY_MODEL_097b12d6c93a4663a6ce070f1961e793",
            "_dom_classes": [],
            "description": "",
            "_model_name": "HTMLModel",
            "placeholder": "​",
            "_view_module": "@jupyter-widgets/controls",
            "_model_module_version": "1.5.0",
            "value": " 74067/74067 [01:20&lt;00:00, 916.98it/s]",
            "_view_count": null,
            "_view_module_version": "1.5.0",
            "description_tooltip": null,
            "_model_module": "@jupyter-widgets/controls",
            "layout": "IPY_MODEL_6023ed472f85432e8493df1a469e9ca2"
          }
        },
        "e705b8541c8445bb9e48a3b56012b9bb": {
          "model_module": "@jupyter-widgets/controls",
          "model_name": "ProgressStyleModel",
          "state": {
            "_view_name": "StyleView",
            "_model_name": "ProgressStyleModel",
            "description_width": "initial",
            "_view_module": "@jupyter-widgets/base",
            "_model_module_version": "1.5.0",
            "_view_count": null,
            "_view_module_version": "1.2.0",
            "bar_color": null,
            "_model_module": "@jupyter-widgets/controls"
          }
        },
        "40432dbac042467c9b8519d33c09fb80": {
          "model_module": "@jupyter-widgets/base",
          "model_name": "LayoutModel",
          "state": {
            "_view_name": "LayoutView",
            "grid_template_rows": null,
            "right": null,
            "justify_content": null,
            "_view_module": "@jupyter-widgets/base",
            "overflow": null,
            "_model_module_version": "1.2.0",
            "_view_count": null,
            "flex_flow": null,
            "width": null,
            "min_width": null,
            "border": null,
            "align_items": null,
            "bottom": null,
            "_model_module": "@jupyter-widgets/base",
            "top": null,
            "grid_column": null,
            "overflow_y": null,
            "overflow_x": null,
            "grid_auto_flow": null,
            "grid_area": null,
            "grid_template_columns": null,
            "flex": null,
            "_model_name": "LayoutModel",
            "justify_items": null,
            "grid_row": null,
            "max_height": null,
            "align_content": null,
            "visibility": null,
            "align_self": null,
            "height": null,
            "min_height": null,
            "padding": null,
            "grid_auto_rows": null,
            "grid_gap": null,
            "max_width": null,
            "order": null,
            "_view_module_version": "1.2.0",
            "grid_template_areas": null,
            "object_position": null,
            "object_fit": null,
            "grid_auto_columns": null,
            "margin": null,
            "display": null,
            "left": null
          }
        },
        "097b12d6c93a4663a6ce070f1961e793": {
          "model_module": "@jupyter-widgets/controls",
          "model_name": "DescriptionStyleModel",
          "state": {
            "_view_name": "StyleView",
            "_model_name": "DescriptionStyleModel",
            "description_width": "",
            "_view_module": "@jupyter-widgets/base",
            "_model_module_version": "1.5.0",
            "_view_count": null,
            "_view_module_version": "1.2.0",
            "_model_module": "@jupyter-widgets/controls"
          }
        },
        "6023ed472f85432e8493df1a469e9ca2": {
          "model_module": "@jupyter-widgets/base",
          "model_name": "LayoutModel",
          "state": {
            "_view_name": "LayoutView",
            "grid_template_rows": null,
            "right": null,
            "justify_content": null,
            "_view_module": "@jupyter-widgets/base",
            "overflow": null,
            "_model_module_version": "1.2.0",
            "_view_count": null,
            "flex_flow": null,
            "width": null,
            "min_width": null,
            "border": null,
            "align_items": null,
            "bottom": null,
            "_model_module": "@jupyter-widgets/base",
            "top": null,
            "grid_column": null,
            "overflow_y": null,
            "overflow_x": null,
            "grid_auto_flow": null,
            "grid_area": null,
            "grid_template_columns": null,
            "flex": null,
            "_model_name": "LayoutModel",
            "justify_items": null,
            "grid_row": null,
            "max_height": null,
            "align_content": null,
            "visibility": null,
            "align_self": null,
            "height": null,
            "min_height": null,
            "padding": null,
            "grid_auto_rows": null,
            "grid_gap": null,
            "max_width": null,
            "order": null,
            "_view_module_version": "1.2.0",
            "grid_template_areas": null,
            "object_position": null,
            "object_fit": null,
            "grid_auto_columns": null,
            "margin": null,
            "display": null,
            "left": null
          }
        },
        "682fc5ec93cb4de78b0063b0da2ad6fc": {
          "model_module": "@jupyter-widgets/controls",
          "model_name": "HBoxModel",
          "state": {
            "_view_name": "HBoxView",
            "_dom_classes": [],
            "_model_name": "HBoxModel",
            "_view_module": "@jupyter-widgets/controls",
            "_model_module_version": "1.5.0",
            "_view_count": null,
            "_view_module_version": "1.5.0",
            "box_style": "",
            "layout": "IPY_MODEL_9c90925670b04750b298e52ae13a156d",
            "_model_module": "@jupyter-widgets/controls",
            "children": [
              "IPY_MODEL_5df091f0df1049449a025d680627e717",
              "IPY_MODEL_8de7fe8817f24a6ba1c1b8fea19e2354"
            ]
          }
        },
        "9c90925670b04750b298e52ae13a156d": {
          "model_module": "@jupyter-widgets/base",
          "model_name": "LayoutModel",
          "state": {
            "_view_name": "LayoutView",
            "grid_template_rows": null,
            "right": null,
            "justify_content": null,
            "_view_module": "@jupyter-widgets/base",
            "overflow": null,
            "_model_module_version": "1.2.0",
            "_view_count": null,
            "flex_flow": null,
            "width": null,
            "min_width": null,
            "border": null,
            "align_items": null,
            "bottom": null,
            "_model_module": "@jupyter-widgets/base",
            "top": null,
            "grid_column": null,
            "overflow_y": null,
            "overflow_x": null,
            "grid_auto_flow": null,
            "grid_area": null,
            "grid_template_columns": null,
            "flex": null,
            "_model_name": "LayoutModel",
            "justify_items": null,
            "grid_row": null,
            "max_height": null,
            "align_content": null,
            "visibility": null,
            "align_self": null,
            "height": null,
            "min_height": null,
            "padding": null,
            "grid_auto_rows": null,
            "grid_gap": null,
            "max_width": null,
            "order": null,
            "_view_module_version": "1.2.0",
            "grid_template_areas": null,
            "object_position": null,
            "object_fit": null,
            "grid_auto_columns": null,
            "margin": null,
            "display": null,
            "left": null
          }
        },
        "5df091f0df1049449a025d680627e717": {
          "model_module": "@jupyter-widgets/controls",
          "model_name": "FloatProgressModel",
          "state": {
            "_view_name": "ProgressView",
            "style": "IPY_MODEL_065790b8019d4e9e920ab9e8be7fc9d6",
            "_dom_classes": [],
            "description": "100%",
            "_model_name": "FloatProgressModel",
            "bar_style": "success",
            "max": 74067,
            "_view_module": "@jupyter-widgets/controls",
            "_model_module_version": "1.5.0",
            "value": 74067,
            "_view_count": null,
            "_view_module_version": "1.5.0",
            "orientation": "horizontal",
            "min": 0,
            "description_tooltip": null,
            "_model_module": "@jupyter-widgets/controls",
            "layout": "IPY_MODEL_250db55651d3449483aa2000358552ad"
          }
        },
        "8de7fe8817f24a6ba1c1b8fea19e2354": {
          "model_module": "@jupyter-widgets/controls",
          "model_name": "HTMLModel",
          "state": {
            "_view_name": "HTMLView",
            "style": "IPY_MODEL_353fe6220dba489594c7e5abe597257f",
            "_dom_classes": [],
            "description": "",
            "_model_name": "HTMLModel",
            "placeholder": "​",
            "_view_module": "@jupyter-widgets/controls",
            "_model_module_version": "1.5.0",
            "value": " 74067/74067 [00:31&lt;00:00, 2356.34it/s]",
            "_view_count": null,
            "_view_module_version": "1.5.0",
            "description_tooltip": null,
            "_model_module": "@jupyter-widgets/controls",
            "layout": "IPY_MODEL_e1b4f940f908461fa627610b3b851751"
          }
        },
        "065790b8019d4e9e920ab9e8be7fc9d6": {
          "model_module": "@jupyter-widgets/controls",
          "model_name": "ProgressStyleModel",
          "state": {
            "_view_name": "StyleView",
            "_model_name": "ProgressStyleModel",
            "description_width": "initial",
            "_view_module": "@jupyter-widgets/base",
            "_model_module_version": "1.5.0",
            "_view_count": null,
            "_view_module_version": "1.2.0",
            "bar_color": null,
            "_model_module": "@jupyter-widgets/controls"
          }
        },
        "250db55651d3449483aa2000358552ad": {
          "model_module": "@jupyter-widgets/base",
          "model_name": "LayoutModel",
          "state": {
            "_view_name": "LayoutView",
            "grid_template_rows": null,
            "right": null,
            "justify_content": null,
            "_view_module": "@jupyter-widgets/base",
            "overflow": null,
            "_model_module_version": "1.2.0",
            "_view_count": null,
            "flex_flow": null,
            "width": null,
            "min_width": null,
            "border": null,
            "align_items": null,
            "bottom": null,
            "_model_module": "@jupyter-widgets/base",
            "top": null,
            "grid_column": null,
            "overflow_y": null,
            "overflow_x": null,
            "grid_auto_flow": null,
            "grid_area": null,
            "grid_template_columns": null,
            "flex": null,
            "_model_name": "LayoutModel",
            "justify_items": null,
            "grid_row": null,
            "max_height": null,
            "align_content": null,
            "visibility": null,
            "align_self": null,
            "height": null,
            "min_height": null,
            "padding": null,
            "grid_auto_rows": null,
            "grid_gap": null,
            "max_width": null,
            "order": null,
            "_view_module_version": "1.2.0",
            "grid_template_areas": null,
            "object_position": null,
            "object_fit": null,
            "grid_auto_columns": null,
            "margin": null,
            "display": null,
            "left": null
          }
        },
        "353fe6220dba489594c7e5abe597257f": {
          "model_module": "@jupyter-widgets/controls",
          "model_name": "DescriptionStyleModel",
          "state": {
            "_view_name": "StyleView",
            "_model_name": "DescriptionStyleModel",
            "description_width": "",
            "_view_module": "@jupyter-widgets/base",
            "_model_module_version": "1.5.0",
            "_view_count": null,
            "_view_module_version": "1.2.0",
            "_model_module": "@jupyter-widgets/controls"
          }
        },
        "e1b4f940f908461fa627610b3b851751": {
          "model_module": "@jupyter-widgets/base",
          "model_name": "LayoutModel",
          "state": {
            "_view_name": "LayoutView",
            "grid_template_rows": null,
            "right": null,
            "justify_content": null,
            "_view_module": "@jupyter-widgets/base",
            "overflow": null,
            "_model_module_version": "1.2.0",
            "_view_count": null,
            "flex_flow": null,
            "width": null,
            "min_width": null,
            "border": null,
            "align_items": null,
            "bottom": null,
            "_model_module": "@jupyter-widgets/base",
            "top": null,
            "grid_column": null,
            "overflow_y": null,
            "overflow_x": null,
            "grid_auto_flow": null,
            "grid_area": null,
            "grid_template_columns": null,
            "flex": null,
            "_model_name": "LayoutModel",
            "justify_items": null,
            "grid_row": null,
            "max_height": null,
            "align_content": null,
            "visibility": null,
            "align_self": null,
            "height": null,
            "min_height": null,
            "padding": null,
            "grid_auto_rows": null,
            "grid_gap": null,
            "max_width": null,
            "order": null,
            "_view_module_version": "1.2.0",
            "grid_template_areas": null,
            "object_position": null,
            "object_fit": null,
            "grid_auto_columns": null,
            "margin": null,
            "display": null,
            "left": null
          }
        },
        "c6e45fc918c04d2da4841d796cc39ea3": {
          "model_module": "@jupyter-widgets/controls",
          "model_name": "HBoxModel",
          "state": {
            "_view_name": "HBoxView",
            "_dom_classes": [],
            "_model_name": "HBoxModel",
            "_view_module": "@jupyter-widgets/controls",
            "_model_module_version": "1.5.0",
            "_view_count": null,
            "_view_module_version": "1.5.0",
            "box_style": "",
            "layout": "IPY_MODEL_6a27ac6b36154a16b1bab3b5cdd531d9",
            "_model_module": "@jupyter-widgets/controls",
            "children": [
              "IPY_MODEL_2715a4b3bf1d4cf5aade1b9b34498b08",
              "IPY_MODEL_7daaffb9a5324dd99d342bfac0d55692"
            ]
          }
        },
        "6a27ac6b36154a16b1bab3b5cdd531d9": {
          "model_module": "@jupyter-widgets/base",
          "model_name": "LayoutModel",
          "state": {
            "_view_name": "LayoutView",
            "grid_template_rows": null,
            "right": null,
            "justify_content": null,
            "_view_module": "@jupyter-widgets/base",
            "overflow": null,
            "_model_module_version": "1.2.0",
            "_view_count": null,
            "flex_flow": null,
            "width": null,
            "min_width": null,
            "border": null,
            "align_items": null,
            "bottom": null,
            "_model_module": "@jupyter-widgets/base",
            "top": null,
            "grid_column": null,
            "overflow_y": null,
            "overflow_x": null,
            "grid_auto_flow": null,
            "grid_area": null,
            "grid_template_columns": null,
            "flex": null,
            "_model_name": "LayoutModel",
            "justify_items": null,
            "grid_row": null,
            "max_height": null,
            "align_content": null,
            "visibility": null,
            "align_self": null,
            "height": null,
            "min_height": null,
            "padding": null,
            "grid_auto_rows": null,
            "grid_gap": null,
            "max_width": null,
            "order": null,
            "_view_module_version": "1.2.0",
            "grid_template_areas": null,
            "object_position": null,
            "object_fit": null,
            "grid_auto_columns": null,
            "margin": null,
            "display": null,
            "left": null
          }
        },
        "2715a4b3bf1d4cf5aade1b9b34498b08": {
          "model_module": "@jupyter-widgets/controls",
          "model_name": "FloatProgressModel",
          "state": {
            "_view_name": "ProgressView",
            "style": "IPY_MODEL_71e40ad2e4384e50a4ec389d8f296a38",
            "_dom_classes": [],
            "description": "100%",
            "_model_name": "FloatProgressModel",
            "bar_style": "success",
            "max": 112067,
            "_view_module": "@jupyter-widgets/controls",
            "_model_module_version": "1.5.0",
            "value": 112067,
            "_view_count": null,
            "_view_module_version": "1.5.0",
            "orientation": "horizontal",
            "min": 0,
            "description_tooltip": null,
            "_model_module": "@jupyter-widgets/controls",
            "layout": "IPY_MODEL_c771a92b6f64439386817793d101119a"
          }
        },
        "7daaffb9a5324dd99d342bfac0d55692": {
          "model_module": "@jupyter-widgets/controls",
          "model_name": "HTMLModel",
          "state": {
            "_view_name": "HTMLView",
            "style": "IPY_MODEL_b23082e1d83f419db414c2f94e45121a",
            "_dom_classes": [],
            "description": "",
            "_model_name": "HTMLModel",
            "placeholder": "​",
            "_view_module": "@jupyter-widgets/controls",
            "_model_module_version": "1.5.0",
            "value": " 112067/112067 [33:37&lt;00:00, 55.53it/s]",
            "_view_count": null,
            "_view_module_version": "1.5.0",
            "description_tooltip": null,
            "_model_module": "@jupyter-widgets/controls",
            "layout": "IPY_MODEL_09bd624f0de44295ac0b17af781ab871"
          }
        },
        "71e40ad2e4384e50a4ec389d8f296a38": {
          "model_module": "@jupyter-widgets/controls",
          "model_name": "ProgressStyleModel",
          "state": {
            "_view_name": "StyleView",
            "_model_name": "ProgressStyleModel",
            "description_width": "initial",
            "_view_module": "@jupyter-widgets/base",
            "_model_module_version": "1.5.0",
            "_view_count": null,
            "_view_module_version": "1.2.0",
            "bar_color": null,
            "_model_module": "@jupyter-widgets/controls"
          }
        },
        "c771a92b6f64439386817793d101119a": {
          "model_module": "@jupyter-widgets/base",
          "model_name": "LayoutModel",
          "state": {
            "_view_name": "LayoutView",
            "grid_template_rows": null,
            "right": null,
            "justify_content": null,
            "_view_module": "@jupyter-widgets/base",
            "overflow": null,
            "_model_module_version": "1.2.0",
            "_view_count": null,
            "flex_flow": null,
            "width": null,
            "min_width": null,
            "border": null,
            "align_items": null,
            "bottom": null,
            "_model_module": "@jupyter-widgets/base",
            "top": null,
            "grid_column": null,
            "overflow_y": null,
            "overflow_x": null,
            "grid_auto_flow": null,
            "grid_area": null,
            "grid_template_columns": null,
            "flex": null,
            "_model_name": "LayoutModel",
            "justify_items": null,
            "grid_row": null,
            "max_height": null,
            "align_content": null,
            "visibility": null,
            "align_self": null,
            "height": null,
            "min_height": null,
            "padding": null,
            "grid_auto_rows": null,
            "grid_gap": null,
            "max_width": null,
            "order": null,
            "_view_module_version": "1.2.0",
            "grid_template_areas": null,
            "object_position": null,
            "object_fit": null,
            "grid_auto_columns": null,
            "margin": null,
            "display": null,
            "left": null
          }
        },
        "b23082e1d83f419db414c2f94e45121a": {
          "model_module": "@jupyter-widgets/controls",
          "model_name": "DescriptionStyleModel",
          "state": {
            "_view_name": "StyleView",
            "_model_name": "DescriptionStyleModel",
            "description_width": "",
            "_view_module": "@jupyter-widgets/base",
            "_model_module_version": "1.5.0",
            "_view_count": null,
            "_view_module_version": "1.2.0",
            "_model_module": "@jupyter-widgets/controls"
          }
        },
        "09bd624f0de44295ac0b17af781ab871": {
          "model_module": "@jupyter-widgets/base",
          "model_name": "LayoutModel",
          "state": {
            "_view_name": "LayoutView",
            "grid_template_rows": null,
            "right": null,
            "justify_content": null,
            "_view_module": "@jupyter-widgets/base",
            "overflow": null,
            "_model_module_version": "1.2.0",
            "_view_count": null,
            "flex_flow": null,
            "width": null,
            "min_width": null,
            "border": null,
            "align_items": null,
            "bottom": null,
            "_model_module": "@jupyter-widgets/base",
            "top": null,
            "grid_column": null,
            "overflow_y": null,
            "overflow_x": null,
            "grid_auto_flow": null,
            "grid_area": null,
            "grid_template_columns": null,
            "flex": null,
            "_model_name": "LayoutModel",
            "justify_items": null,
            "grid_row": null,
            "max_height": null,
            "align_content": null,
            "visibility": null,
            "align_self": null,
            "height": null,
            "min_height": null,
            "padding": null,
            "grid_auto_rows": null,
            "grid_gap": null,
            "max_width": null,
            "order": null,
            "_view_module_version": "1.2.0",
            "grid_template_areas": null,
            "object_position": null,
            "object_fit": null,
            "grid_auto_columns": null,
            "margin": null,
            "display": null,
            "left": null
          }
        },
        "25f3ffe5f98f40799d7c377e0735a7ad": {
          "model_module": "@jupyter-widgets/controls",
          "model_name": "HBoxModel",
          "state": {
            "_view_name": "HBoxView",
            "_dom_classes": [],
            "_model_name": "HBoxModel",
            "_view_module": "@jupyter-widgets/controls",
            "_model_module_version": "1.5.0",
            "_view_count": null,
            "_view_module_version": "1.5.0",
            "box_style": "",
            "layout": "IPY_MODEL_caa23d31b757451a8ea341ee4193008d",
            "_model_module": "@jupyter-widgets/controls",
            "children": [
              "IPY_MODEL_ec51a94d7e98447fab854c5ddcabb249",
              "IPY_MODEL_94aea597c2e149a6ac032d4aef14d9a7"
            ]
          }
        },
        "caa23d31b757451a8ea341ee4193008d": {
          "model_module": "@jupyter-widgets/base",
          "model_name": "LayoutModel",
          "state": {
            "_view_name": "LayoutView",
            "grid_template_rows": null,
            "right": null,
            "justify_content": null,
            "_view_module": "@jupyter-widgets/base",
            "overflow": null,
            "_model_module_version": "1.2.0",
            "_view_count": null,
            "flex_flow": null,
            "width": null,
            "min_width": null,
            "border": null,
            "align_items": null,
            "bottom": null,
            "_model_module": "@jupyter-widgets/base",
            "top": null,
            "grid_column": null,
            "overflow_y": null,
            "overflow_x": null,
            "grid_auto_flow": null,
            "grid_area": null,
            "grid_template_columns": null,
            "flex": null,
            "_model_name": "LayoutModel",
            "justify_items": null,
            "grid_row": null,
            "max_height": null,
            "align_content": null,
            "visibility": null,
            "align_self": null,
            "height": null,
            "min_height": null,
            "padding": null,
            "grid_auto_rows": null,
            "grid_gap": null,
            "max_width": null,
            "order": null,
            "_view_module_version": "1.2.0",
            "grid_template_areas": null,
            "object_position": null,
            "object_fit": null,
            "grid_auto_columns": null,
            "margin": null,
            "display": null,
            "left": null
          }
        },
        "ec51a94d7e98447fab854c5ddcabb249": {
          "model_module": "@jupyter-widgets/controls",
          "model_name": "FloatProgressModel",
          "state": {
            "_view_name": "ProgressView",
            "style": "IPY_MODEL_8fe527d14a194b2da5029c6cf4d220c6",
            "_dom_classes": [],
            "description": "100%",
            "_model_name": "FloatProgressModel",
            "bar_style": "success",
            "max": 112067,
            "_view_module": "@jupyter-widgets/controls",
            "_model_module_version": "1.5.0",
            "value": 112067,
            "_view_count": null,
            "_view_module_version": "1.5.0",
            "orientation": "horizontal",
            "min": 0,
            "description_tooltip": null,
            "_model_module": "@jupyter-widgets/controls",
            "layout": "IPY_MODEL_1abe13dff1064a6090ddc3293de987ae"
          }
        },
        "94aea597c2e149a6ac032d4aef14d9a7": {
          "model_module": "@jupyter-widgets/controls",
          "model_name": "HTMLModel",
          "state": {
            "_view_name": "HTMLView",
            "style": "IPY_MODEL_b3499c157cbb47ff846110d38e0fbb51",
            "_dom_classes": [],
            "description": "",
            "_model_name": "HTMLModel",
            "placeholder": "​",
            "_view_module": "@jupyter-widgets/controls",
            "_model_module_version": "1.5.0",
            "value": " 112067/112067 [32:23&lt;00:00, 57.67it/s]",
            "_view_count": null,
            "_view_module_version": "1.5.0",
            "description_tooltip": null,
            "_model_module": "@jupyter-widgets/controls",
            "layout": "IPY_MODEL_edff3c5248f34012b6999ceb96d7e7aa"
          }
        },
        "8fe527d14a194b2da5029c6cf4d220c6": {
          "model_module": "@jupyter-widgets/controls",
          "model_name": "ProgressStyleModel",
          "state": {
            "_view_name": "StyleView",
            "_model_name": "ProgressStyleModel",
            "description_width": "initial",
            "_view_module": "@jupyter-widgets/base",
            "_model_module_version": "1.5.0",
            "_view_count": null,
            "_view_module_version": "1.2.0",
            "bar_color": null,
            "_model_module": "@jupyter-widgets/controls"
          }
        },
        "1abe13dff1064a6090ddc3293de987ae": {
          "model_module": "@jupyter-widgets/base",
          "model_name": "LayoutModel",
          "state": {
            "_view_name": "LayoutView",
            "grid_template_rows": null,
            "right": null,
            "justify_content": null,
            "_view_module": "@jupyter-widgets/base",
            "overflow": null,
            "_model_module_version": "1.2.0",
            "_view_count": null,
            "flex_flow": null,
            "width": null,
            "min_width": null,
            "border": null,
            "align_items": null,
            "bottom": null,
            "_model_module": "@jupyter-widgets/base",
            "top": null,
            "grid_column": null,
            "overflow_y": null,
            "overflow_x": null,
            "grid_auto_flow": null,
            "grid_area": null,
            "grid_template_columns": null,
            "flex": null,
            "_model_name": "LayoutModel",
            "justify_items": null,
            "grid_row": null,
            "max_height": null,
            "align_content": null,
            "visibility": null,
            "align_self": null,
            "height": null,
            "min_height": null,
            "padding": null,
            "grid_auto_rows": null,
            "grid_gap": null,
            "max_width": null,
            "order": null,
            "_view_module_version": "1.2.0",
            "grid_template_areas": null,
            "object_position": null,
            "object_fit": null,
            "grid_auto_columns": null,
            "margin": null,
            "display": null,
            "left": null
          }
        },
        "b3499c157cbb47ff846110d38e0fbb51": {
          "model_module": "@jupyter-widgets/controls",
          "model_name": "DescriptionStyleModel",
          "state": {
            "_view_name": "StyleView",
            "_model_name": "DescriptionStyleModel",
            "description_width": "",
            "_view_module": "@jupyter-widgets/base",
            "_model_module_version": "1.5.0",
            "_view_count": null,
            "_view_module_version": "1.2.0",
            "_model_module": "@jupyter-widgets/controls"
          }
        },
        "edff3c5248f34012b6999ceb96d7e7aa": {
          "model_module": "@jupyter-widgets/base",
          "model_name": "LayoutModel",
          "state": {
            "_view_name": "LayoutView",
            "grid_template_rows": null,
            "right": null,
            "justify_content": null,
            "_view_module": "@jupyter-widgets/base",
            "overflow": null,
            "_model_module_version": "1.2.0",
            "_view_count": null,
            "flex_flow": null,
            "width": null,
            "min_width": null,
            "border": null,
            "align_items": null,
            "bottom": null,
            "_model_module": "@jupyter-widgets/base",
            "top": null,
            "grid_column": null,
            "overflow_y": null,
            "overflow_x": null,
            "grid_auto_flow": null,
            "grid_area": null,
            "grid_template_columns": null,
            "flex": null,
            "_model_name": "LayoutModel",
            "justify_items": null,
            "grid_row": null,
            "max_height": null,
            "align_content": null,
            "visibility": null,
            "align_self": null,
            "height": null,
            "min_height": null,
            "padding": null,
            "grid_auto_rows": null,
            "grid_gap": null,
            "max_width": null,
            "order": null,
            "_view_module_version": "1.2.0",
            "grid_template_areas": null,
            "object_position": null,
            "object_fit": null,
            "grid_auto_columns": null,
            "margin": null,
            "display": null,
            "left": null
          }
        }
      }
    }
  },
  "cells": [
    {
      "cell_type": "markdown",
      "metadata": {
        "id": "pDfV4huF7cbU"
      },
      "source": [
        "# **Functions and Imports**"
      ]
    },
    {
      "cell_type": "code",
      "metadata": {
        "colab": {
          "base_uri": "https://localhost:8080/"
        },
        "id": "bXVDRkqgllOT",
        "outputId": "7348841f-b28d-41a7-f864-099a3f013003"
      },
      "source": [
        "import tensorflow as tf\n",
        "import pandas as pd\n",
        "from tensorflow import keras\n",
        "from tensorflow.keras import layers\n",
        "from keras.optimizers import RMSprop\n",
        "\n",
        "import numpy as np\n",
        "import random\n",
        "import io\n",
        "import math\n",
        "\n",
        "print(\"Num GPUs Available: \", len(tf.config.experimental.list_physical_devices('GPU')))"
      ],
      "execution_count": null,
      "outputs": [
        {
          "output_type": "stream",
          "text": [
            "Num GPUs Available:  1\n"
          ],
          "name": "stdout"
        }
      ]
    },
    {
      "cell_type": "code",
      "metadata": {
        "colab": {
          "base_uri": "https://localhost:8080/"
        },
        "id": "RLwTfHNTlmyo",
        "outputId": "35bcf270-57d4-4828-bca2-34351ea01658"
      },
      "source": [
        "from google.colab import drive\n",
        "drive.mount('/content/drive')"
      ],
      "execution_count": null,
      "outputs": [
        {
          "output_type": "stream",
          "text": [
            "Mounted at /content/drive\n"
          ],
          "name": "stdout"
        }
      ]
    },
    {
      "cell_type": "code",
      "metadata": {
        "id": "xDMoSMZdlrFN"
      },
      "source": [
        "main_url = '/content/drive/My Drive/DLWorkshop/ass3/home_depot_product_search_relevance/'"
      ],
      "execution_count": null,
      "outputs": []
    },
    {
      "cell_type": "code",
      "metadata": {
        "id": "7MLc2k-Pfitr"
      },
      "source": [
        "%matplotlib inline\r\n",
        "import matplotlib.pyplot as plt\r\n",
        "def draw_plots(history):\r\n",
        "  plt.plot(history.history['loss'], label='Train Loss')\r\n",
        "  plt.plot(history.history['val_loss'], label='Test Loss')\r\n",
        "  plt.title('Model Loss (Mean Squared Error)')\r\n",
        "  plt.xlabel('Epochs')\r\n",
        "  plt.ylabel('Loss')\r\n",
        "  plt.legend()\r\n",
        "  plt.show()"
      ],
      "execution_count": null,
      "outputs": []
    },
    {
      "cell_type": "code",
      "metadata": {
        "id": "NkiuYSxvfl2E"
      },
      "source": [
        "from sklearn.metrics import mean_absolute_error, mean_squared_error\r\n",
        "\r\n",
        "def evaluate_model(y_expected, y_actual, stage):\r\n",
        "  print(\"Model MSE Loss in \" + stage + \" stage: \" + str(mean_squared_error(y_expected, y_actual)))\r\n",
        "  print(\"Model RMSE Loss in \" + stage + \" stage: \" + str(math.sqrt(mean_squared_error(y_expected, y_actual))))\r\n",
        "  print(\"Model MAE Loss in \" + stage + \" stage: \" + str(mean_absolute_error(y_expected, y_actual)))\r\n",
        "  print()"
      ],
      "execution_count": null,
      "outputs": []
    },
    {
      "cell_type": "code",
      "metadata": {
        "id": "yq5Dw9NwUlsD"
      },
      "source": [
        "def convert_strings_to_lists(x_train, x_test):\r\n",
        "  x_train['product_title'] = x_train['product_title'].apply(lambda x: list(x))\r\n",
        "  x_train['search_term'] = x_train['search_term'].apply(lambda x: list(x))\r\n",
        "  x_test['product_title'] = x_test['product_title'].apply(lambda x: list(x))\r\n",
        "  x_test['search_term'] = x_test['search_term'].apply(lambda x: list(x))\r\n",
        "\r\n",
        "  display(x_train.head())\r\n",
        "  display(x_test.head())\r\n",
        "\r\n",
        "  return x_train, x_test"
      ],
      "execution_count": null,
      "outputs": []
    },
    {
      "cell_type": "code",
      "metadata": {
        "id": "iMHCgBONU_wy"
      },
      "source": [
        "from keras.preprocessing.text import Tokenizer\r\n",
        "\r\n",
        "def tokenize_words(x_train, x_test, num_words):\r\n",
        "  tokenizer = Tokenizer(num_words=num_words)\r\n",
        "  tokenizer.fit_on_texts(list(x_train['search_term']) + list(x_train['product_title']))\r\n",
        "\r\n",
        "  x_train['product_title'] = x_train['product_title'].apply(lambda product_title: tokenizer.texts_to_sequences([product_title])[0])\r\n",
        "  x_train['search_term'] = x_train['search_term'].apply(lambda search_term: tokenizer.texts_to_sequences([search_term])[0])\r\n",
        "  x_test['product_title'] = x_test['product_title'].apply(lambda product_title: tokenizer.texts_to_sequences([product_title])[0])\r\n",
        "  x_test['search_term'] = x_test['search_term'].apply(lambda search_term: tokenizer.texts_to_sequences([search_term])[0])\r\n",
        "\r\n",
        "  display(x_train.head())\r\n",
        "  display(x_test.head())\r\n",
        "\r\n",
        "  return x_train, x_test"
      ],
      "execution_count": null,
      "outputs": []
    },
    {
      "cell_type": "code",
      "metadata": {
        "id": "mA1ttZdcVev3"
      },
      "source": [
        "from keras.preprocessing.sequence import pad_sequences\r\n",
        "\r\n",
        "def padding_sequences(x_train, x_test, maxlen):\r\n",
        "  x_train['product_title'] = x_train['product_title'].apply(lambda product_title: pad_sequences([product_title], maxlen=maxlen)[0])\r\n",
        "  x_train['search_term'] = x_train['search_term'].apply(lambda search_term: pad_sequences([search_term], maxlen=maxlen)[0])\r\n",
        "  x_test['product_title'] = x_test['product_title'].apply(lambda product_title: pad_sequences([product_title], maxlen=maxlen)[0])\r\n",
        "  x_test['search_term'] = x_test['search_term'].apply(lambda search_term: pad_sequences([search_term], maxlen=maxlen)[0])\r\n",
        "\r\n",
        "  display(x_train.head())\r\n",
        "  display(x_test.head())\r\n",
        "\r\n",
        "  return x_train, x_test"
      ],
      "execution_count": null,
      "outputs": []
    },
    {
      "cell_type": "code",
      "metadata": {
        "id": "XD1pqu_AuC0X"
      },
      "source": [
        "from keras.callbacks import ReduceLROnPlateau, TensorBoard, ModelCheckpoint\r\n",
        "\r\n",
        "def set_callbacks(description='run1', es_patience=10, rlop_patience=7, tb_base_logdir=main_url+'/logs/'):\r\n",
        "    cp = ModelCheckpoint(main_url + 'best_model_weights_{}.h5'.format(description))\r\n",
        "    rlop = ReduceLROnPlateau(patience=rlop_patience)\r\n",
        "    tb = TensorBoard(log_dir='{}{}'.format(tb_base_logdir, description))\r\n",
        "    return [rlop, tb, cp]"
      ],
      "execution_count": null,
      "outputs": []
    },
    {
      "cell_type": "markdown",
      "metadata": {
        "id": "f7E34udifalv"
      },
      "source": [
        "# **Loading the Data**"
      ]
    },
    {
      "cell_type": "code",
      "metadata": {
        "colab": {
          "base_uri": "https://localhost:8080/",
          "height": 712
        },
        "id": "DMKH2ilHmarB",
        "outputId": "3aff2ef2-0b9b-4c84-b3c8-ba18af41351a"
      },
      "source": [
        "train_data = pd.read_csv(main_url+\"train.csv\",sep=',' ,encoding='latin-1')\n",
        "test_data = pd.read_csv(main_url+\"test.csv\",sep=',' ,encoding='latin-1')\n",
        "sol_data = pd.read_csv(main_url+\"solution.csv\")\n",
        "description_data = pd.read_csv(main_url+\"product_descriptions.csv\")\n",
        "\n",
        "display(train_data.head())\n",
        "display(test_data.head())\n",
        "display(sol_data.head())\n",
        "display(description_data.head())"
      ],
      "execution_count": null,
      "outputs": [
        {
          "output_type": "display_data",
          "data": {
            "text/html": [
              "<div>\n",
              "<style scoped>\n",
              "    .dataframe tbody tr th:only-of-type {\n",
              "        vertical-align: middle;\n",
              "    }\n",
              "\n",
              "    .dataframe tbody tr th {\n",
              "        vertical-align: top;\n",
              "    }\n",
              "\n",
              "    .dataframe thead th {\n",
              "        text-align: right;\n",
              "    }\n",
              "</style>\n",
              "<table border=\"1\" class=\"dataframe\">\n",
              "  <thead>\n",
              "    <tr style=\"text-align: right;\">\n",
              "      <th></th>\n",
              "      <th>id</th>\n",
              "      <th>product_uid</th>\n",
              "      <th>product_title</th>\n",
              "      <th>search_term</th>\n",
              "      <th>relevance</th>\n",
              "    </tr>\n",
              "  </thead>\n",
              "  <tbody>\n",
              "    <tr>\n",
              "      <th>0</th>\n",
              "      <td>2</td>\n",
              "      <td>100001</td>\n",
              "      <td>Simpson Strong-Tie 12-Gauge Angle</td>\n",
              "      <td>angle bracket</td>\n",
              "      <td>3.00</td>\n",
              "    </tr>\n",
              "    <tr>\n",
              "      <th>1</th>\n",
              "      <td>3</td>\n",
              "      <td>100001</td>\n",
              "      <td>Simpson Strong-Tie 12-Gauge Angle</td>\n",
              "      <td>l bracket</td>\n",
              "      <td>2.50</td>\n",
              "    </tr>\n",
              "    <tr>\n",
              "      <th>2</th>\n",
              "      <td>9</td>\n",
              "      <td>100002</td>\n",
              "      <td>BEHR Premium Textured DeckOver 1-gal. #SC-141 ...</td>\n",
              "      <td>deck over</td>\n",
              "      <td>3.00</td>\n",
              "    </tr>\n",
              "    <tr>\n",
              "      <th>3</th>\n",
              "      <td>16</td>\n",
              "      <td>100005</td>\n",
              "      <td>Delta Vero 1-Handle Shower Only Faucet Trim Ki...</td>\n",
              "      <td>rain shower head</td>\n",
              "      <td>2.33</td>\n",
              "    </tr>\n",
              "    <tr>\n",
              "      <th>4</th>\n",
              "      <td>17</td>\n",
              "      <td>100005</td>\n",
              "      <td>Delta Vero 1-Handle Shower Only Faucet Trim Ki...</td>\n",
              "      <td>shower only faucet</td>\n",
              "      <td>2.67</td>\n",
              "    </tr>\n",
              "  </tbody>\n",
              "</table>\n",
              "</div>"
            ],
            "text/plain": [
              "   id  product_uid  ...         search_term relevance\n",
              "0   2       100001  ...       angle bracket      3.00\n",
              "1   3       100001  ...           l bracket      2.50\n",
              "2   9       100002  ...           deck over      3.00\n",
              "3  16       100005  ...    rain shower head      2.33\n",
              "4  17       100005  ...  shower only faucet      2.67\n",
              "\n",
              "[5 rows x 5 columns]"
            ]
          },
          "metadata": {
            "tags": []
          }
        },
        {
          "output_type": "display_data",
          "data": {
            "text/html": [
              "<div>\n",
              "<style scoped>\n",
              "    .dataframe tbody tr th:only-of-type {\n",
              "        vertical-align: middle;\n",
              "    }\n",
              "\n",
              "    .dataframe tbody tr th {\n",
              "        vertical-align: top;\n",
              "    }\n",
              "\n",
              "    .dataframe thead th {\n",
              "        text-align: right;\n",
              "    }\n",
              "</style>\n",
              "<table border=\"1\" class=\"dataframe\">\n",
              "  <thead>\n",
              "    <tr style=\"text-align: right;\">\n",
              "      <th></th>\n",
              "      <th>id</th>\n",
              "      <th>product_uid</th>\n",
              "      <th>product_title</th>\n",
              "      <th>search_term</th>\n",
              "    </tr>\n",
              "  </thead>\n",
              "  <tbody>\n",
              "    <tr>\n",
              "      <th>0</th>\n",
              "      <td>1</td>\n",
              "      <td>100001</td>\n",
              "      <td>Simpson Strong-Tie 12-Gauge Angle</td>\n",
              "      <td>90 degree bracket</td>\n",
              "    </tr>\n",
              "    <tr>\n",
              "      <th>1</th>\n",
              "      <td>4</td>\n",
              "      <td>100001</td>\n",
              "      <td>Simpson Strong-Tie 12-Gauge Angle</td>\n",
              "      <td>metal l brackets</td>\n",
              "    </tr>\n",
              "    <tr>\n",
              "      <th>2</th>\n",
              "      <td>5</td>\n",
              "      <td>100001</td>\n",
              "      <td>Simpson Strong-Tie 12-Gauge Angle</td>\n",
              "      <td>simpson sku able</td>\n",
              "    </tr>\n",
              "    <tr>\n",
              "      <th>3</th>\n",
              "      <td>6</td>\n",
              "      <td>100001</td>\n",
              "      <td>Simpson Strong-Tie 12-Gauge Angle</td>\n",
              "      <td>simpson strong  ties</td>\n",
              "    </tr>\n",
              "    <tr>\n",
              "      <th>4</th>\n",
              "      <td>7</td>\n",
              "      <td>100001</td>\n",
              "      <td>Simpson Strong-Tie 12-Gauge Angle</td>\n",
              "      <td>simpson strong tie hcc668</td>\n",
              "    </tr>\n",
              "  </tbody>\n",
              "</table>\n",
              "</div>"
            ],
            "text/plain": [
              "   id  ...                search_term\n",
              "0   1  ...          90 degree bracket\n",
              "1   4  ...           metal l brackets\n",
              "2   5  ...           simpson sku able\n",
              "3   6  ...       simpson strong  ties\n",
              "4   7  ...  simpson strong tie hcc668\n",
              "\n",
              "[5 rows x 4 columns]"
            ]
          },
          "metadata": {
            "tags": []
          }
        },
        {
          "output_type": "display_data",
          "data": {
            "text/html": [
              "<div>\n",
              "<style scoped>\n",
              "    .dataframe tbody tr th:only-of-type {\n",
              "        vertical-align: middle;\n",
              "    }\n",
              "\n",
              "    .dataframe tbody tr th {\n",
              "        vertical-align: top;\n",
              "    }\n",
              "\n",
              "    .dataframe thead th {\n",
              "        text-align: right;\n",
              "    }\n",
              "</style>\n",
              "<table border=\"1\" class=\"dataframe\">\n",
              "  <thead>\n",
              "    <tr style=\"text-align: right;\">\n",
              "      <th></th>\n",
              "      <th>id</th>\n",
              "      <th>relevance</th>\n",
              "      <th>Usage</th>\n",
              "    </tr>\n",
              "  </thead>\n",
              "  <tbody>\n",
              "    <tr>\n",
              "      <th>0</th>\n",
              "      <td>1</td>\n",
              "      <td>-1.00</td>\n",
              "      <td>Ignored</td>\n",
              "    </tr>\n",
              "    <tr>\n",
              "      <th>1</th>\n",
              "      <td>4</td>\n",
              "      <td>2.33</td>\n",
              "      <td>Public</td>\n",
              "    </tr>\n",
              "    <tr>\n",
              "      <th>2</th>\n",
              "      <td>5</td>\n",
              "      <td>2.33</td>\n",
              "      <td>Private</td>\n",
              "    </tr>\n",
              "    <tr>\n",
              "      <th>3</th>\n",
              "      <td>6</td>\n",
              "      <td>2.67</td>\n",
              "      <td>Private</td>\n",
              "    </tr>\n",
              "    <tr>\n",
              "      <th>4</th>\n",
              "      <td>7</td>\n",
              "      <td>2.00</td>\n",
              "      <td>Public</td>\n",
              "    </tr>\n",
              "  </tbody>\n",
              "</table>\n",
              "</div>"
            ],
            "text/plain": [
              "   id  relevance    Usage\n",
              "0   1      -1.00  Ignored\n",
              "1   4       2.33   Public\n",
              "2   5       2.33  Private\n",
              "3   6       2.67  Private\n",
              "4   7       2.00   Public"
            ]
          },
          "metadata": {
            "tags": []
          }
        },
        {
          "output_type": "display_data",
          "data": {
            "text/html": [
              "<div>\n",
              "<style scoped>\n",
              "    .dataframe tbody tr th:only-of-type {\n",
              "        vertical-align: middle;\n",
              "    }\n",
              "\n",
              "    .dataframe tbody tr th {\n",
              "        vertical-align: top;\n",
              "    }\n",
              "\n",
              "    .dataframe thead th {\n",
              "        text-align: right;\n",
              "    }\n",
              "</style>\n",
              "<table border=\"1\" class=\"dataframe\">\n",
              "  <thead>\n",
              "    <tr style=\"text-align: right;\">\n",
              "      <th></th>\n",
              "      <th>product_uid</th>\n",
              "      <th>product_description</th>\n",
              "    </tr>\n",
              "  </thead>\n",
              "  <tbody>\n",
              "    <tr>\n",
              "      <th>0</th>\n",
              "      <td>100001</td>\n",
              "      <td>Not only do angles make joints stronger, they ...</td>\n",
              "    </tr>\n",
              "    <tr>\n",
              "      <th>1</th>\n",
              "      <td>100002</td>\n",
              "      <td>BEHR Premium Textured DECKOVER is an innovativ...</td>\n",
              "    </tr>\n",
              "    <tr>\n",
              "      <th>2</th>\n",
              "      <td>100003</td>\n",
              "      <td>Classic architecture meets contemporary design...</td>\n",
              "    </tr>\n",
              "    <tr>\n",
              "      <th>3</th>\n",
              "      <td>100004</td>\n",
              "      <td>The Grape Solar 265-Watt Polycrystalline PV So...</td>\n",
              "    </tr>\n",
              "    <tr>\n",
              "      <th>4</th>\n",
              "      <td>100005</td>\n",
              "      <td>Update your bathroom with the Delta Vero Singl...</td>\n",
              "    </tr>\n",
              "  </tbody>\n",
              "</table>\n",
              "</div>"
            ],
            "text/plain": [
              "   product_uid                                product_description\n",
              "0       100001  Not only do angles make joints stronger, they ...\n",
              "1       100002  BEHR Premium Textured DECKOVER is an innovativ...\n",
              "2       100003  Classic architecture meets contemporary design...\n",
              "3       100004  The Grape Solar 265-Watt Polycrystalline PV So...\n",
              "4       100005  Update your bathroom with the Delta Vero Singl..."
            ]
          },
          "metadata": {
            "tags": []
          }
        }
      ]
    },
    {
      "cell_type": "code",
      "metadata": {
        "colab": {
          "base_uri": "https://localhost:8080/",
          "height": 365
        },
        "id": "PlENkhn4ps2Z",
        "outputId": "a8131cf3-7398-4b66-c6e7-46046d278394"
      },
      "source": [
        "test_data = pd.merge(test_data, sol_data[[\"id\", \"relevance\"]], on='id')\r\n",
        "test_data = test_data[test_data['relevance'] >= 1]\r\n",
        "test_data = test_data[test_data['relevance'] <= 3]\r\n",
        "\r\n",
        "display(train_data.head())\r\n",
        "display(test_data.head())"
      ],
      "execution_count": null,
      "outputs": [
        {
          "output_type": "display_data",
          "data": {
            "text/html": [
              "<div>\n",
              "<style scoped>\n",
              "    .dataframe tbody tr th:only-of-type {\n",
              "        vertical-align: middle;\n",
              "    }\n",
              "\n",
              "    .dataframe tbody tr th {\n",
              "        vertical-align: top;\n",
              "    }\n",
              "\n",
              "    .dataframe thead th {\n",
              "        text-align: right;\n",
              "    }\n",
              "</style>\n",
              "<table border=\"1\" class=\"dataframe\">\n",
              "  <thead>\n",
              "    <tr style=\"text-align: right;\">\n",
              "      <th></th>\n",
              "      <th>id</th>\n",
              "      <th>product_uid</th>\n",
              "      <th>product_title</th>\n",
              "      <th>search_term</th>\n",
              "      <th>relevance</th>\n",
              "    </tr>\n",
              "  </thead>\n",
              "  <tbody>\n",
              "    <tr>\n",
              "      <th>0</th>\n",
              "      <td>2</td>\n",
              "      <td>100001</td>\n",
              "      <td>Simpson Strong-Tie 12-Gauge Angle</td>\n",
              "      <td>angle bracket</td>\n",
              "      <td>3.00</td>\n",
              "    </tr>\n",
              "    <tr>\n",
              "      <th>1</th>\n",
              "      <td>3</td>\n",
              "      <td>100001</td>\n",
              "      <td>Simpson Strong-Tie 12-Gauge Angle</td>\n",
              "      <td>l bracket</td>\n",
              "      <td>2.50</td>\n",
              "    </tr>\n",
              "    <tr>\n",
              "      <th>2</th>\n",
              "      <td>9</td>\n",
              "      <td>100002</td>\n",
              "      <td>BEHR Premium Textured DeckOver 1-gal. #SC-141 ...</td>\n",
              "      <td>deck over</td>\n",
              "      <td>3.00</td>\n",
              "    </tr>\n",
              "    <tr>\n",
              "      <th>3</th>\n",
              "      <td>16</td>\n",
              "      <td>100005</td>\n",
              "      <td>Delta Vero 1-Handle Shower Only Faucet Trim Ki...</td>\n",
              "      <td>rain shower head</td>\n",
              "      <td>2.33</td>\n",
              "    </tr>\n",
              "    <tr>\n",
              "      <th>4</th>\n",
              "      <td>17</td>\n",
              "      <td>100005</td>\n",
              "      <td>Delta Vero 1-Handle Shower Only Faucet Trim Ki...</td>\n",
              "      <td>shower only faucet</td>\n",
              "      <td>2.67</td>\n",
              "    </tr>\n",
              "  </tbody>\n",
              "</table>\n",
              "</div>"
            ],
            "text/plain": [
              "   id  product_uid  ...         search_term relevance\n",
              "0   2       100001  ...       angle bracket      3.00\n",
              "1   3       100001  ...           l bracket      2.50\n",
              "2   9       100002  ...           deck over      3.00\n",
              "3  16       100005  ...    rain shower head      2.33\n",
              "4  17       100005  ...  shower only faucet      2.67\n",
              "\n",
              "[5 rows x 5 columns]"
            ]
          },
          "metadata": {
            "tags": []
          }
        },
        {
          "output_type": "display_data",
          "data": {
            "text/html": [
              "<div>\n",
              "<style scoped>\n",
              "    .dataframe tbody tr th:only-of-type {\n",
              "        vertical-align: middle;\n",
              "    }\n",
              "\n",
              "    .dataframe tbody tr th {\n",
              "        vertical-align: top;\n",
              "    }\n",
              "\n",
              "    .dataframe thead th {\n",
              "        text-align: right;\n",
              "    }\n",
              "</style>\n",
              "<table border=\"1\" class=\"dataframe\">\n",
              "  <thead>\n",
              "    <tr style=\"text-align: right;\">\n",
              "      <th></th>\n",
              "      <th>id</th>\n",
              "      <th>product_uid</th>\n",
              "      <th>product_title</th>\n",
              "      <th>search_term</th>\n",
              "      <th>relevance</th>\n",
              "    </tr>\n",
              "  </thead>\n",
              "  <tbody>\n",
              "    <tr>\n",
              "      <th>1</th>\n",
              "      <td>4</td>\n",
              "      <td>100001</td>\n",
              "      <td>Simpson Strong-Tie 12-Gauge Angle</td>\n",
              "      <td>metal l brackets</td>\n",
              "      <td>2.33</td>\n",
              "    </tr>\n",
              "    <tr>\n",
              "      <th>2</th>\n",
              "      <td>5</td>\n",
              "      <td>100001</td>\n",
              "      <td>Simpson Strong-Tie 12-Gauge Angle</td>\n",
              "      <td>simpson sku able</td>\n",
              "      <td>2.33</td>\n",
              "    </tr>\n",
              "    <tr>\n",
              "      <th>3</th>\n",
              "      <td>6</td>\n",
              "      <td>100001</td>\n",
              "      <td>Simpson Strong-Tie 12-Gauge Angle</td>\n",
              "      <td>simpson strong  ties</td>\n",
              "      <td>2.67</td>\n",
              "    </tr>\n",
              "    <tr>\n",
              "      <th>4</th>\n",
              "      <td>7</td>\n",
              "      <td>100001</td>\n",
              "      <td>Simpson Strong-Tie 12-Gauge Angle</td>\n",
              "      <td>simpson strong tie hcc668</td>\n",
              "      <td>2.00</td>\n",
              "    </tr>\n",
              "    <tr>\n",
              "      <th>6</th>\n",
              "      <td>10</td>\n",
              "      <td>100003</td>\n",
              "      <td>STERLING Ensemble 33-1/4 in. x 60 in. x 75-1/4...</td>\n",
              "      <td>bath and shower kit</td>\n",
              "      <td>2.67</td>\n",
              "    </tr>\n",
              "  </tbody>\n",
              "</table>\n",
              "</div>"
            ],
            "text/plain": [
              "   id  product_uid  ...                search_term relevance\n",
              "1   4       100001  ...           metal l brackets      2.33\n",
              "2   5       100001  ...           simpson sku able      2.33\n",
              "3   6       100001  ...       simpson strong  ties      2.67\n",
              "4   7       100001  ...  simpson strong tie hcc668      2.00\n",
              "6  10       100003  ...        bath and shower kit      2.67\n",
              "\n",
              "[5 rows x 5 columns]"
            ]
          },
          "metadata": {
            "tags": []
          }
        }
      ]
    },
    {
      "cell_type": "code",
      "metadata": {
        "colab": {
          "base_uri": "https://localhost:8080/",
          "height": 712
        },
        "id": "KtoiqkikEn5H",
        "outputId": "28da632a-ed25-4615-bf39-cd750a2b6db6"
      },
      "source": [
        "x_train = train_data.drop(columns=['id','product_uid','relevance'])\r\n",
        "y_train = train_data[['relevance']]\r\n",
        "x_test = test_data.drop(columns=['id','product_uid', 'relevance'])\r\n",
        "y_test = test_data[['relevance']]\r\n",
        "display(x_train.head())\r\n",
        "display(x_test.head())\r\n",
        "display(y_train.head())\r\n",
        "display(y_test.head())"
      ],
      "execution_count": null,
      "outputs": [
        {
          "output_type": "display_data",
          "data": {
            "text/html": [
              "<div>\n",
              "<style scoped>\n",
              "    .dataframe tbody tr th:only-of-type {\n",
              "        vertical-align: middle;\n",
              "    }\n",
              "\n",
              "    .dataframe tbody tr th {\n",
              "        vertical-align: top;\n",
              "    }\n",
              "\n",
              "    .dataframe thead th {\n",
              "        text-align: right;\n",
              "    }\n",
              "</style>\n",
              "<table border=\"1\" class=\"dataframe\">\n",
              "  <thead>\n",
              "    <tr style=\"text-align: right;\">\n",
              "      <th></th>\n",
              "      <th>product_title</th>\n",
              "      <th>search_term</th>\n",
              "    </tr>\n",
              "  </thead>\n",
              "  <tbody>\n",
              "    <tr>\n",
              "      <th>0</th>\n",
              "      <td>Simpson Strong-Tie 12-Gauge Angle</td>\n",
              "      <td>angle bracket</td>\n",
              "    </tr>\n",
              "    <tr>\n",
              "      <th>1</th>\n",
              "      <td>Simpson Strong-Tie 12-Gauge Angle</td>\n",
              "      <td>l bracket</td>\n",
              "    </tr>\n",
              "    <tr>\n",
              "      <th>2</th>\n",
              "      <td>BEHR Premium Textured DeckOver 1-gal. #SC-141 ...</td>\n",
              "      <td>deck over</td>\n",
              "    </tr>\n",
              "    <tr>\n",
              "      <th>3</th>\n",
              "      <td>Delta Vero 1-Handle Shower Only Faucet Trim Ki...</td>\n",
              "      <td>rain shower head</td>\n",
              "    </tr>\n",
              "    <tr>\n",
              "      <th>4</th>\n",
              "      <td>Delta Vero 1-Handle Shower Only Faucet Trim Ki...</td>\n",
              "      <td>shower only faucet</td>\n",
              "    </tr>\n",
              "  </tbody>\n",
              "</table>\n",
              "</div>"
            ],
            "text/plain": [
              "                                       product_title         search_term\n",
              "0                  Simpson Strong-Tie 12-Gauge Angle       angle bracket\n",
              "1                  Simpson Strong-Tie 12-Gauge Angle           l bracket\n",
              "2  BEHR Premium Textured DeckOver 1-gal. #SC-141 ...           deck over\n",
              "3  Delta Vero 1-Handle Shower Only Faucet Trim Ki...    rain shower head\n",
              "4  Delta Vero 1-Handle Shower Only Faucet Trim Ki...  shower only faucet"
            ]
          },
          "metadata": {
            "tags": []
          }
        },
        {
          "output_type": "display_data",
          "data": {
            "text/html": [
              "<div>\n",
              "<style scoped>\n",
              "    .dataframe tbody tr th:only-of-type {\n",
              "        vertical-align: middle;\n",
              "    }\n",
              "\n",
              "    .dataframe tbody tr th {\n",
              "        vertical-align: top;\n",
              "    }\n",
              "\n",
              "    .dataframe thead th {\n",
              "        text-align: right;\n",
              "    }\n",
              "</style>\n",
              "<table border=\"1\" class=\"dataframe\">\n",
              "  <thead>\n",
              "    <tr style=\"text-align: right;\">\n",
              "      <th></th>\n",
              "      <th>product_title</th>\n",
              "      <th>search_term</th>\n",
              "    </tr>\n",
              "  </thead>\n",
              "  <tbody>\n",
              "    <tr>\n",
              "      <th>1</th>\n",
              "      <td>Simpson Strong-Tie 12-Gauge Angle</td>\n",
              "      <td>metal l brackets</td>\n",
              "    </tr>\n",
              "    <tr>\n",
              "      <th>2</th>\n",
              "      <td>Simpson Strong-Tie 12-Gauge Angle</td>\n",
              "      <td>simpson sku able</td>\n",
              "    </tr>\n",
              "    <tr>\n",
              "      <th>3</th>\n",
              "      <td>Simpson Strong-Tie 12-Gauge Angle</td>\n",
              "      <td>simpson strong  ties</td>\n",
              "    </tr>\n",
              "    <tr>\n",
              "      <th>4</th>\n",
              "      <td>Simpson Strong-Tie 12-Gauge Angle</td>\n",
              "      <td>simpson strong tie hcc668</td>\n",
              "    </tr>\n",
              "    <tr>\n",
              "      <th>6</th>\n",
              "      <td>STERLING Ensemble 33-1/4 in. x 60 in. x 75-1/4...</td>\n",
              "      <td>bath and shower kit</td>\n",
              "    </tr>\n",
              "  </tbody>\n",
              "</table>\n",
              "</div>"
            ],
            "text/plain": [
              "                                       product_title                search_term\n",
              "1                  Simpson Strong-Tie 12-Gauge Angle           metal l brackets\n",
              "2                  Simpson Strong-Tie 12-Gauge Angle           simpson sku able\n",
              "3                  Simpson Strong-Tie 12-Gauge Angle       simpson strong  ties\n",
              "4                  Simpson Strong-Tie 12-Gauge Angle  simpson strong tie hcc668\n",
              "6  STERLING Ensemble 33-1/4 in. x 60 in. x 75-1/4...        bath and shower kit"
            ]
          },
          "metadata": {
            "tags": []
          }
        },
        {
          "output_type": "display_data",
          "data": {
            "text/html": [
              "<div>\n",
              "<style scoped>\n",
              "    .dataframe tbody tr th:only-of-type {\n",
              "        vertical-align: middle;\n",
              "    }\n",
              "\n",
              "    .dataframe tbody tr th {\n",
              "        vertical-align: top;\n",
              "    }\n",
              "\n",
              "    .dataframe thead th {\n",
              "        text-align: right;\n",
              "    }\n",
              "</style>\n",
              "<table border=\"1\" class=\"dataframe\">\n",
              "  <thead>\n",
              "    <tr style=\"text-align: right;\">\n",
              "      <th></th>\n",
              "      <th>relevance</th>\n",
              "    </tr>\n",
              "  </thead>\n",
              "  <tbody>\n",
              "    <tr>\n",
              "      <th>0</th>\n",
              "      <td>3.00</td>\n",
              "    </tr>\n",
              "    <tr>\n",
              "      <th>1</th>\n",
              "      <td>2.50</td>\n",
              "    </tr>\n",
              "    <tr>\n",
              "      <th>2</th>\n",
              "      <td>3.00</td>\n",
              "    </tr>\n",
              "    <tr>\n",
              "      <th>3</th>\n",
              "      <td>2.33</td>\n",
              "    </tr>\n",
              "    <tr>\n",
              "      <th>4</th>\n",
              "      <td>2.67</td>\n",
              "    </tr>\n",
              "  </tbody>\n",
              "</table>\n",
              "</div>"
            ],
            "text/plain": [
              "   relevance\n",
              "0       3.00\n",
              "1       2.50\n",
              "2       3.00\n",
              "3       2.33\n",
              "4       2.67"
            ]
          },
          "metadata": {
            "tags": []
          }
        },
        {
          "output_type": "display_data",
          "data": {
            "text/html": [
              "<div>\n",
              "<style scoped>\n",
              "    .dataframe tbody tr th:only-of-type {\n",
              "        vertical-align: middle;\n",
              "    }\n",
              "\n",
              "    .dataframe tbody tr th {\n",
              "        vertical-align: top;\n",
              "    }\n",
              "\n",
              "    .dataframe thead th {\n",
              "        text-align: right;\n",
              "    }\n",
              "</style>\n",
              "<table border=\"1\" class=\"dataframe\">\n",
              "  <thead>\n",
              "    <tr style=\"text-align: right;\">\n",
              "      <th></th>\n",
              "      <th>relevance</th>\n",
              "    </tr>\n",
              "  </thead>\n",
              "  <tbody>\n",
              "    <tr>\n",
              "      <th>1</th>\n",
              "      <td>2.33</td>\n",
              "    </tr>\n",
              "    <tr>\n",
              "      <th>2</th>\n",
              "      <td>2.33</td>\n",
              "    </tr>\n",
              "    <tr>\n",
              "      <th>3</th>\n",
              "      <td>2.67</td>\n",
              "    </tr>\n",
              "    <tr>\n",
              "      <th>4</th>\n",
              "      <td>2.00</td>\n",
              "    </tr>\n",
              "    <tr>\n",
              "      <th>6</th>\n",
              "      <td>2.67</td>\n",
              "    </tr>\n",
              "  </tbody>\n",
              "</table>\n",
              "</div>"
            ],
            "text/plain": [
              "   relevance\n",
              "1       2.33\n",
              "2       2.33\n",
              "3       2.67\n",
              "4       2.00\n",
              "6       2.67"
            ]
          },
          "metadata": {
            "tags": []
          }
        }
      ]
    },
    {
      "cell_type": "markdown",
      "metadata": {
        "id": "EKxRvElFgtgr"
      },
      "source": [
        "# **1 - Character level LSTM**"
      ]
    },
    {
      "cell_type": "markdown",
      "metadata": {
        "id": "pSRXw4fXe96B"
      },
      "source": [
        "## **1.a - Preprocess the Data**"
      ]
    },
    {
      "cell_type": "code",
      "metadata": {
        "colab": {
          "base_uri": "https://localhost:8080/",
          "height": 391
        },
        "id": "0ydQjHykq1ZC",
        "outputId": "209b82de-22d0-47ff-ca2a-31635783b050"
      },
      "source": [
        "x_train, x_test = convert_strings_to_lists(x_train, x_test)"
      ],
      "execution_count": null,
      "outputs": [
        {
          "output_type": "display_data",
          "data": {
            "text/html": [
              "<div>\n",
              "<style scoped>\n",
              "    .dataframe tbody tr th:only-of-type {\n",
              "        vertical-align: middle;\n",
              "    }\n",
              "\n",
              "    .dataframe tbody tr th {\n",
              "        vertical-align: top;\n",
              "    }\n",
              "\n",
              "    .dataframe thead th {\n",
              "        text-align: right;\n",
              "    }\n",
              "</style>\n",
              "<table border=\"1\" class=\"dataframe\">\n",
              "  <thead>\n",
              "    <tr style=\"text-align: right;\">\n",
              "      <th></th>\n",
              "      <th>product_title</th>\n",
              "      <th>search_term</th>\n",
              "    </tr>\n",
              "  </thead>\n",
              "  <tbody>\n",
              "    <tr>\n",
              "      <th>0</th>\n",
              "      <td>[S, i, m, p, s, o, n,  , S, t, r, o, n, g, -, ...</td>\n",
              "      <td>[a, n, g, l, e,  , b, r, a, c, k, e, t]</td>\n",
              "    </tr>\n",
              "    <tr>\n",
              "      <th>1</th>\n",
              "      <td>[S, i, m, p, s, o, n,  , S, t, r, o, n, g, -, ...</td>\n",
              "      <td>[l,  , b, r, a, c, k, e, t]</td>\n",
              "    </tr>\n",
              "    <tr>\n",
              "      <th>2</th>\n",
              "      <td>[B, E, H, R,  , P, r, e, m, i, u, m,  , T, e, ...</td>\n",
              "      <td>[d, e, c, k,  , o, v, e, r]</td>\n",
              "    </tr>\n",
              "    <tr>\n",
              "      <th>3</th>\n",
              "      <td>[D, e, l, t, a,  , V, e, r, o,  , 1, -, H, a, ...</td>\n",
              "      <td>[r, a, i, n,  , s, h, o, w, e, r,  , h, e, a, d]</td>\n",
              "    </tr>\n",
              "    <tr>\n",
              "      <th>4</th>\n",
              "      <td>[D, e, l, t, a,  , V, e, r, o,  , 1, -, H, a, ...</td>\n",
              "      <td>[s, h, o, w, e, r,  , o, n, l, y,  , f, a, u, ...</td>\n",
              "    </tr>\n",
              "  </tbody>\n",
              "</table>\n",
              "</div>"
            ],
            "text/plain": [
              "                                       product_title                                        search_term\n",
              "0  [S, i, m, p, s, o, n,  , S, t, r, o, n, g, -, ...            [a, n, g, l, e,  , b, r, a, c, k, e, t]\n",
              "1  [S, i, m, p, s, o, n,  , S, t, r, o, n, g, -, ...                        [l,  , b, r, a, c, k, e, t]\n",
              "2  [B, E, H, R,  , P, r, e, m, i, u, m,  , T, e, ...                        [d, e, c, k,  , o, v, e, r]\n",
              "3  [D, e, l, t, a,  , V, e, r, o,  , 1, -, H, a, ...   [r, a, i, n,  , s, h, o, w, e, r,  , h, e, a, d]\n",
              "4  [D, e, l, t, a,  , V, e, r, o,  , 1, -, H, a, ...  [s, h, o, w, e, r,  , o, n, l, y,  , f, a, u, ..."
            ]
          },
          "metadata": {
            "tags": []
          }
        },
        {
          "output_type": "display_data",
          "data": {
            "text/html": [
              "<div>\n",
              "<style scoped>\n",
              "    .dataframe tbody tr th:only-of-type {\n",
              "        vertical-align: middle;\n",
              "    }\n",
              "\n",
              "    .dataframe tbody tr th {\n",
              "        vertical-align: top;\n",
              "    }\n",
              "\n",
              "    .dataframe thead th {\n",
              "        text-align: right;\n",
              "    }\n",
              "</style>\n",
              "<table border=\"1\" class=\"dataframe\">\n",
              "  <thead>\n",
              "    <tr style=\"text-align: right;\">\n",
              "      <th></th>\n",
              "      <th>product_title</th>\n",
              "      <th>search_term</th>\n",
              "    </tr>\n",
              "  </thead>\n",
              "  <tbody>\n",
              "    <tr>\n",
              "      <th>1</th>\n",
              "      <td>[S, i, m, p, s, o, n,  , S, t, r, o, n, g, -, ...</td>\n",
              "      <td>[m, e, t, a, l,  , l,  , b, r, a, c, k, e, t, s]</td>\n",
              "    </tr>\n",
              "    <tr>\n",
              "      <th>2</th>\n",
              "      <td>[S, i, m, p, s, o, n,  , S, t, r, o, n, g, -, ...</td>\n",
              "      <td>[s, i, m, p, s, o, n,  , s, k, u,  , a, b, l, e]</td>\n",
              "    </tr>\n",
              "    <tr>\n",
              "      <th>3</th>\n",
              "      <td>[S, i, m, p, s, o, n,  , S, t, r, o, n, g, -, ...</td>\n",
              "      <td>[s, i, m, p, s, o, n,  , s, t, r, o, n, g,  , ...</td>\n",
              "    </tr>\n",
              "    <tr>\n",
              "      <th>4</th>\n",
              "      <td>[S, i, m, p, s, o, n,  , S, t, r, o, n, g, -, ...</td>\n",
              "      <td>[s, i, m, p, s, o, n,  , s, t, r, o, n, g,  , ...</td>\n",
              "    </tr>\n",
              "    <tr>\n",
              "      <th>6</th>\n",
              "      <td>[S, T, E, R, L, I, N, G,  , E, n, s, e, m, b, ...</td>\n",
              "      <td>[b, a, t, h,  , a, n, d,  , s, h, o, w, e, r, ...</td>\n",
              "    </tr>\n",
              "  </tbody>\n",
              "</table>\n",
              "</div>"
            ],
            "text/plain": [
              "                                       product_title                                        search_term\n",
              "1  [S, i, m, p, s, o, n,  , S, t, r, o, n, g, -, ...   [m, e, t, a, l,  , l,  , b, r, a, c, k, e, t, s]\n",
              "2  [S, i, m, p, s, o, n,  , S, t, r, o, n, g, -, ...   [s, i, m, p, s, o, n,  , s, k, u,  , a, b, l, e]\n",
              "3  [S, i, m, p, s, o, n,  , S, t, r, o, n, g, -, ...  [s, i, m, p, s, o, n,  , s, t, r, o, n, g,  , ...\n",
              "4  [S, i, m, p, s, o, n,  , S, t, r, o, n, g, -, ...  [s, i, m, p, s, o, n,  , s, t, r, o, n, g,  , ...\n",
              "6  [S, T, E, R, L, I, N, G,  , E, n, s, e, m, b, ...  [b, a, t, h,  , a, n, d,  , s, h, o, w, e, r, ..."
            ]
          },
          "metadata": {
            "tags": []
          }
        }
      ]
    },
    {
      "cell_type": "code",
      "metadata": {
        "colab": {
          "base_uri": "https://localhost:8080/",
          "height": 391
        },
        "id": "ekGqv1j_q2CO",
        "outputId": "69d66fdb-2088-4b8d-d0f3-a6a2a788f030"
      },
      "source": [
        "x_train, x_test = tokenize_words(x_train, x_test, 80)"
      ],
      "execution_count": null,
      "outputs": [
        {
          "output_type": "display_data",
          "data": {
            "text/html": [
              "<div>\n",
              "<style scoped>\n",
              "    .dataframe tbody tr th:only-of-type {\n",
              "        vertical-align: middle;\n",
              "    }\n",
              "\n",
              "    .dataframe tbody tr th {\n",
              "        vertical-align: top;\n",
              "    }\n",
              "\n",
              "    .dataframe thead th {\n",
              "        text-align: right;\n",
              "    }\n",
              "</style>\n",
              "<table border=\"1\" class=\"dataframe\">\n",
              "  <thead>\n",
              "    <tr style=\"text-align: right;\">\n",
              "      <th></th>\n",
              "      <th>product_title</th>\n",
              "      <th>search_term</th>\n",
              "    </tr>\n",
              "  </thead>\n",
              "  <tbody>\n",
              "    <tr>\n",
              "      <th>0</th>\n",
              "      <td>[10, 3, 16, 14, 10, 8, 7, 1, 10, 5, 6, 8, 7, 1...</td>\n",
              "      <td>[4, 7, 17, 9, 2, 1, 18, 6, 4, 11, 23, 2, 5]</td>\n",
              "    </tr>\n",
              "    <tr>\n",
              "      <th>1</th>\n",
              "      <td>[10, 3, 16, 14, 10, 8, 7, 1, 10, 5, 6, 8, 7, 1...</td>\n",
              "      <td>[9, 1, 18, 6, 4, 11, 23, 2, 5]</td>\n",
              "    </tr>\n",
              "    <tr>\n",
              "      <th>2</th>\n",
              "      <td>[18, 2, 13, 6, 1, 14, 6, 2, 16, 3, 15, 16, 1, ...</td>\n",
              "      <td>[12, 2, 11, 23, 1, 8, 25, 2, 6]</td>\n",
              "    </tr>\n",
              "    <tr>\n",
              "      <th>3</th>\n",
              "      <td>[12, 2, 9, 5, 4, 1, 25, 2, 6, 8, 1, 24, 22, 13...</td>\n",
              "      <td>[6, 4, 3, 7, 1, 10, 13, 8, 19, 2, 6, 1, 13, 2,...</td>\n",
              "    </tr>\n",
              "    <tr>\n",
              "      <th>4</th>\n",
              "      <td>[12, 2, 9, 5, 4, 1, 25, 2, 6, 8, 1, 24, 22, 13...</td>\n",
              "      <td>[10, 13, 8, 19, 2, 6, 1, 8, 7, 9, 26, 1, 21, 4...</td>\n",
              "    </tr>\n",
              "  </tbody>\n",
              "</table>\n",
              "</div>"
            ],
            "text/plain": [
              "                                       product_title                                        search_term\n",
              "0  [10, 3, 16, 14, 10, 8, 7, 1, 10, 5, 6, 8, 7, 1...        [4, 7, 17, 9, 2, 1, 18, 6, 4, 11, 23, 2, 5]\n",
              "1  [10, 3, 16, 14, 10, 8, 7, 1, 10, 5, 6, 8, 7, 1...                     [9, 1, 18, 6, 4, 11, 23, 2, 5]\n",
              "2  [18, 2, 13, 6, 1, 14, 6, 2, 16, 3, 15, 16, 1, ...                    [12, 2, 11, 23, 1, 8, 25, 2, 6]\n",
              "3  [12, 2, 9, 5, 4, 1, 25, 2, 6, 8, 1, 24, 22, 13...  [6, 4, 3, 7, 1, 10, 13, 8, 19, 2, 6, 1, 13, 2,...\n",
              "4  [12, 2, 9, 5, 4, 1, 25, 2, 6, 8, 1, 24, 22, 13...  [10, 13, 8, 19, 2, 6, 1, 8, 7, 9, 26, 1, 21, 4..."
            ]
          },
          "metadata": {
            "tags": []
          }
        },
        {
          "output_type": "display_data",
          "data": {
            "text/html": [
              "<div>\n",
              "<style scoped>\n",
              "    .dataframe tbody tr th:only-of-type {\n",
              "        vertical-align: middle;\n",
              "    }\n",
              "\n",
              "    .dataframe tbody tr th {\n",
              "        vertical-align: top;\n",
              "    }\n",
              "\n",
              "    .dataframe thead th {\n",
              "        text-align: right;\n",
              "    }\n",
              "</style>\n",
              "<table border=\"1\" class=\"dataframe\">\n",
              "  <thead>\n",
              "    <tr style=\"text-align: right;\">\n",
              "      <th></th>\n",
              "      <th>product_title</th>\n",
              "      <th>search_term</th>\n",
              "    </tr>\n",
              "  </thead>\n",
              "  <tbody>\n",
              "    <tr>\n",
              "      <th>1</th>\n",
              "      <td>[10, 3, 16, 14, 10, 8, 7, 1, 10, 5, 6, 8, 7, 1...</td>\n",
              "      <td>[16, 2, 5, 4, 9, 1, 9, 1, 18, 6, 4, 11, 23, 2,...</td>\n",
              "    </tr>\n",
              "    <tr>\n",
              "      <th>2</th>\n",
              "      <td>[10, 3, 16, 14, 10, 8, 7, 1, 10, 5, 6, 8, 7, 1...</td>\n",
              "      <td>[10, 3, 16, 14, 10, 8, 7, 1, 10, 23, 15, 1, 4,...</td>\n",
              "    </tr>\n",
              "    <tr>\n",
              "      <th>3</th>\n",
              "      <td>[10, 3, 16, 14, 10, 8, 7, 1, 10, 5, 6, 8, 7, 1...</td>\n",
              "      <td>[10, 3, 16, 14, 10, 8, 7, 1, 10, 5, 6, 8, 7, 1...</td>\n",
              "    </tr>\n",
              "    <tr>\n",
              "      <th>4</th>\n",
              "      <td>[10, 3, 16, 14, 10, 8, 7, 1, 10, 5, 6, 8, 7, 1...</td>\n",
              "      <td>[10, 3, 16, 14, 10, 8, 7, 1, 10, 5, 6, 8, 7, 1...</td>\n",
              "    </tr>\n",
              "    <tr>\n",
              "      <th>6</th>\n",
              "      <td>[10, 5, 2, 6, 9, 3, 7, 17, 1, 2, 7, 10, 2, 16,...</td>\n",
              "      <td>[18, 4, 5, 13, 1, 4, 7, 12, 1, 10, 13, 8, 19, ...</td>\n",
              "    </tr>\n",
              "  </tbody>\n",
              "</table>\n",
              "</div>"
            ],
            "text/plain": [
              "                                       product_title                                        search_term\n",
              "1  [10, 3, 16, 14, 10, 8, 7, 1, 10, 5, 6, 8, 7, 1...  [16, 2, 5, 4, 9, 1, 9, 1, 18, 6, 4, 11, 23, 2,...\n",
              "2  [10, 3, 16, 14, 10, 8, 7, 1, 10, 5, 6, 8, 7, 1...  [10, 3, 16, 14, 10, 8, 7, 1, 10, 23, 15, 1, 4,...\n",
              "3  [10, 3, 16, 14, 10, 8, 7, 1, 10, 5, 6, 8, 7, 1...  [10, 3, 16, 14, 10, 8, 7, 1, 10, 5, 6, 8, 7, 1...\n",
              "4  [10, 3, 16, 14, 10, 8, 7, 1, 10, 5, 6, 8, 7, 1...  [10, 3, 16, 14, 10, 8, 7, 1, 10, 5, 6, 8, 7, 1...\n",
              "6  [10, 5, 2, 6, 9, 3, 7, 17, 1, 2, 7, 10, 2, 16,...  [18, 4, 5, 13, 1, 4, 7, 12, 1, 10, 13, 8, 19, ..."
            ]
          },
          "metadata": {
            "tags": []
          }
        }
      ]
    },
    {
      "cell_type": "code",
      "metadata": {
        "colab": {
          "base_uri": "https://localhost:8080/",
          "height": 391
        },
        "id": "L7RiedZX0EzU",
        "outputId": "245289cd-e46b-4e9b-a0a7-103cef39599c"
      },
      "source": [
        "x_train, x_test = padding_sequences(x_train, x_test, 80)"
      ],
      "execution_count": null,
      "outputs": [
        {
          "output_type": "display_data",
          "data": {
            "text/html": [
              "<div>\n",
              "<style scoped>\n",
              "    .dataframe tbody tr th:only-of-type {\n",
              "        vertical-align: middle;\n",
              "    }\n",
              "\n",
              "    .dataframe tbody tr th {\n",
              "        vertical-align: top;\n",
              "    }\n",
              "\n",
              "    .dataframe thead th {\n",
              "        text-align: right;\n",
              "    }\n",
              "</style>\n",
              "<table border=\"1\" class=\"dataframe\">\n",
              "  <thead>\n",
              "    <tr style=\"text-align: right;\">\n",
              "      <th></th>\n",
              "      <th>product_title</th>\n",
              "      <th>search_term</th>\n",
              "    </tr>\n",
              "  </thead>\n",
              "  <tbody>\n",
              "    <tr>\n",
              "      <th>0</th>\n",
              "      <td>[0, 0, 0, 0, 0, 0, 0, 0, 0, 0, 0, 0, 0, 0, 0, ...</td>\n",
              "      <td>[0, 0, 0, 0, 0, 0, 0, 0, 0, 0, 0, 0, 0, 0, 0, ...</td>\n",
              "    </tr>\n",
              "    <tr>\n",
              "      <th>1</th>\n",
              "      <td>[0, 0, 0, 0, 0, 0, 0, 0, 0, 0, 0, 0, 0, 0, 0, ...</td>\n",
              "      <td>[0, 0, 0, 0, 0, 0, 0, 0, 0, 0, 0, 0, 0, 0, 0, ...</td>\n",
              "    </tr>\n",
              "    <tr>\n",
              "      <th>2</th>\n",
              "      <td>[0, 18, 2, 13, 6, 1, 14, 6, 2, 16, 3, 15, 16, ...</td>\n",
              "      <td>[0, 0, 0, 0, 0, 0, 0, 0, 0, 0, 0, 0, 0, 0, 0, ...</td>\n",
              "    </tr>\n",
              "    <tr>\n",
              "      <th>3</th>\n",
              "      <td>[0, 0, 12, 2, 9, 5, 4, 1, 25, 2, 6, 8, 1, 24, ...</td>\n",
              "      <td>[0, 0, 0, 0, 0, 0, 0, 0, 0, 0, 0, 0, 0, 0, 0, ...</td>\n",
              "    </tr>\n",
              "    <tr>\n",
              "      <th>4</th>\n",
              "      <td>[0, 0, 12, 2, 9, 5, 4, 1, 25, 2, 6, 8, 1, 24, ...</td>\n",
              "      <td>[0, 0, 0, 0, 0, 0, 0, 0, 0, 0, 0, 0, 0, 0, 0, ...</td>\n",
              "    </tr>\n",
              "  </tbody>\n",
              "</table>\n",
              "</div>"
            ],
            "text/plain": [
              "                                       product_title                                        search_term\n",
              "0  [0, 0, 0, 0, 0, 0, 0, 0, 0, 0, 0, 0, 0, 0, 0, ...  [0, 0, 0, 0, 0, 0, 0, 0, 0, 0, 0, 0, 0, 0, 0, ...\n",
              "1  [0, 0, 0, 0, 0, 0, 0, 0, 0, 0, 0, 0, 0, 0, 0, ...  [0, 0, 0, 0, 0, 0, 0, 0, 0, 0, 0, 0, 0, 0, 0, ...\n",
              "2  [0, 18, 2, 13, 6, 1, 14, 6, 2, 16, 3, 15, 16, ...  [0, 0, 0, 0, 0, 0, 0, 0, 0, 0, 0, 0, 0, 0, 0, ...\n",
              "3  [0, 0, 12, 2, 9, 5, 4, 1, 25, 2, 6, 8, 1, 24, ...  [0, 0, 0, 0, 0, 0, 0, 0, 0, 0, 0, 0, 0, 0, 0, ...\n",
              "4  [0, 0, 12, 2, 9, 5, 4, 1, 25, 2, 6, 8, 1, 24, ...  [0, 0, 0, 0, 0, 0, 0, 0, 0, 0, 0, 0, 0, 0, 0, ..."
            ]
          },
          "metadata": {
            "tags": []
          }
        },
        {
          "output_type": "display_data",
          "data": {
            "text/html": [
              "<div>\n",
              "<style scoped>\n",
              "    .dataframe tbody tr th:only-of-type {\n",
              "        vertical-align: middle;\n",
              "    }\n",
              "\n",
              "    .dataframe tbody tr th {\n",
              "        vertical-align: top;\n",
              "    }\n",
              "\n",
              "    .dataframe thead th {\n",
              "        text-align: right;\n",
              "    }\n",
              "</style>\n",
              "<table border=\"1\" class=\"dataframe\">\n",
              "  <thead>\n",
              "    <tr style=\"text-align: right;\">\n",
              "      <th></th>\n",
              "      <th>product_title</th>\n",
              "      <th>search_term</th>\n",
              "    </tr>\n",
              "  </thead>\n",
              "  <tbody>\n",
              "    <tr>\n",
              "      <th>1</th>\n",
              "      <td>[0, 0, 0, 0, 0, 0, 0, 0, 0, 0, 0, 0, 0, 0, 0, ...</td>\n",
              "      <td>[0, 0, 0, 0, 0, 0, 0, 0, 0, 0, 0, 0, 0, 0, 0, ...</td>\n",
              "    </tr>\n",
              "    <tr>\n",
              "      <th>2</th>\n",
              "      <td>[0, 0, 0, 0, 0, 0, 0, 0, 0, 0, 0, 0, 0, 0, 0, ...</td>\n",
              "      <td>[0, 0, 0, 0, 0, 0, 0, 0, 0, 0, 0, 0, 0, 0, 0, ...</td>\n",
              "    </tr>\n",
              "    <tr>\n",
              "      <th>3</th>\n",
              "      <td>[0, 0, 0, 0, 0, 0, 0, 0, 0, 0, 0, 0, 0, 0, 0, ...</td>\n",
              "      <td>[0, 0, 0, 0, 0, 0, 0, 0, 0, 0, 0, 0, 0, 0, 0, ...</td>\n",
              "    </tr>\n",
              "    <tr>\n",
              "      <th>4</th>\n",
              "      <td>[0, 0, 0, 0, 0, 0, 0, 0, 0, 0, 0, 0, 0, 0, 0, ...</td>\n",
              "      <td>[0, 0, 0, 0, 0, 0, 0, 0, 0, 0, 0, 0, 0, 0, 0, ...</td>\n",
              "    </tr>\n",
              "    <tr>\n",
              "      <th>6</th>\n",
              "      <td>[24, 33, 30, 1, 3, 7, 20, 1, 27, 1, 35, 29, 1,...</td>\n",
              "      <td>[0, 0, 0, 0, 0, 0, 0, 0, 0, 0, 0, 0, 0, 0, 0, ...</td>\n",
              "    </tr>\n",
              "  </tbody>\n",
              "</table>\n",
              "</div>"
            ],
            "text/plain": [
              "                                       product_title                                        search_term\n",
              "1  [0, 0, 0, 0, 0, 0, 0, 0, 0, 0, 0, 0, 0, 0, 0, ...  [0, 0, 0, 0, 0, 0, 0, 0, 0, 0, 0, 0, 0, 0, 0, ...\n",
              "2  [0, 0, 0, 0, 0, 0, 0, 0, 0, 0, 0, 0, 0, 0, 0, ...  [0, 0, 0, 0, 0, 0, 0, 0, 0, 0, 0, 0, 0, 0, 0, ...\n",
              "3  [0, 0, 0, 0, 0, 0, 0, 0, 0, 0, 0, 0, 0, 0, 0, ...  [0, 0, 0, 0, 0, 0, 0, 0, 0, 0, 0, 0, 0, 0, 0, ...\n",
              "4  [0, 0, 0, 0, 0, 0, 0, 0, 0, 0, 0, 0, 0, 0, 0, ...  [0, 0, 0, 0, 0, 0, 0, 0, 0, 0, 0, 0, 0, 0, 0, ...\n",
              "6  [24, 33, 30, 1, 3, 7, 20, 1, 27, 1, 35, 29, 1,...  [0, 0, 0, 0, 0, 0, 0, 0, 0, 0, 0, 0, 0, 0, 0, ..."
            ]
          },
          "metadata": {
            "tags": []
          }
        }
      ]
    },
    {
      "cell_type": "code",
      "metadata": {
        "id": "_Uq5mfuyjPU1"
      },
      "source": [
        "from sklearn.model_selection import train_test_split\r\n",
        "x_train, x_validate, y_train, y_validate = train_test_split(x_train, y_train, test_size=0.2)"
      ],
      "execution_count": null,
      "outputs": []
    },
    {
      "cell_type": "code",
      "metadata": {
        "id": "EpzXA-WaX1af"
      },
      "source": [
        "x_train = [np.array(x_train['product_title'].tolist()), np.array(x_train['search_term'].tolist())]\r\n",
        "x_validate = [np.array(x_validate['product_title'].tolist()), np.array(x_validate['search_term'].tolist())]\r\n",
        "x_test = [np.array(x_test['product_title'].tolist()), np.array(x_test['search_term'].tolist())]"
      ],
      "execution_count": null,
      "outputs": []
    },
    {
      "cell_type": "markdown",
      "metadata": {
        "id": "HzKkPuNhfNML"
      },
      "source": [
        "## **1.b - Siamese Neural Network**"
      ]
    },
    {
      "cell_type": "code",
      "metadata": {
        "id": "1E1p0-a1uUDR"
      },
      "source": [
        "from keras.layers import Input, Embedding, Dot, Dense, Conv1D, MaxPooling1D, Activation, Add, Flatten, Subtract, LSTM, Bidirectional\n",
        "from keras import Model\n",
        "\n",
        "def construct_siamese_model(input_size=80,emmbedding=80):\n",
        "  inp1 = Input(shape=(input_size,))\n",
        "  inp2 = Input(shape=(input_size,))\n",
        "\n",
        "  out1 = Embedding(emmbedding, int(math.sqrt(emmbedding)))(inp1)\n",
        "  out2 = Embedding(emmbedding, int(math.sqrt(emmbedding)))(inp2)\n",
        "\n",
        "  out1 = LSTM(128, return_sequences=True)(out1)\n",
        "  out2 = LSTM(128, return_sequences=True)(out2)\n",
        "\n",
        "  out1 = MaxPooling1D(pool_size=20)(out1)\n",
        "  out2 = MaxPooling1D(pool_size=20)(out2)\n",
        "\n",
        "  out1 = Activation('relu')(out1)\n",
        "  out2 = Activation('relu')(out2)\n",
        "\n",
        "  out1 = Dense(128)(out1)\n",
        "  out2 = Dense(128)(out2)\n",
        "\n",
        "  out1 = Flatten()(out1)\n",
        "  out2 = Flatten()(out2)\n",
        "\n",
        "  out = Add()([out1, out2])\n",
        "  out = Dense(1)(out)\n",
        "  model = Model(inputs=[inp1, inp2], outputs=out)\n",
        "  return model"
      ],
      "execution_count": null,
      "outputs": []
    },
    {
      "cell_type": "code",
      "metadata": {
        "colab": {
          "base_uri": "https://localhost:8080/"
        },
        "id": "uqYSZ9nZyEI7",
        "outputId": "96a08823-544c-4ce9-a51c-1a39cc69188c"
      },
      "source": [
        "from keras.optimizers import RMSprop\n",
        "\n",
        "model_siamese = construct_siamese_model()\n",
        "model_siamese.summary()\n",
        "model_siamese.compile(loss='mse', optimizer=RMSprop(learning_rate=0.01))"
      ],
      "execution_count": null,
      "outputs": [
        {
          "output_type": "stream",
          "text": [
            "Model: \"model\"\n",
            "__________________________________________________________________________________________________\n",
            "Layer (type)                    Output Shape         Param #     Connected to                     \n",
            "==================================================================================================\n",
            "input_1 (InputLayer)            [(None, 80)]         0                                            \n",
            "__________________________________________________________________________________________________\n",
            "input_2 (InputLayer)            [(None, 80)]         0                                            \n",
            "__________________________________________________________________________________________________\n",
            "embedding (Embedding)           (None, 80, 8)        640         input_1[0][0]                    \n",
            "__________________________________________________________________________________________________\n",
            "embedding_1 (Embedding)         (None, 80, 8)        640         input_2[0][0]                    \n",
            "__________________________________________________________________________________________________\n",
            "lstm (LSTM)                     (None, 80, 128)      70144       embedding[0][0]                  \n",
            "__________________________________________________________________________________________________\n",
            "lstm_1 (LSTM)                   (None, 80, 128)      70144       embedding_1[0][0]                \n",
            "__________________________________________________________________________________________________\n",
            "max_pooling1d (MaxPooling1D)    (None, 4, 128)       0           lstm[0][0]                       \n",
            "__________________________________________________________________________________________________\n",
            "max_pooling1d_1 (MaxPooling1D)  (None, 4, 128)       0           lstm_1[0][0]                     \n",
            "__________________________________________________________________________________________________\n",
            "activation (Activation)         (None, 4, 128)       0           max_pooling1d[0][0]              \n",
            "__________________________________________________________________________________________________\n",
            "activation_1 (Activation)       (None, 4, 128)       0           max_pooling1d_1[0][0]            \n",
            "__________________________________________________________________________________________________\n",
            "dense (Dense)                   (None, 4, 128)       16512       activation[0][0]                 \n",
            "__________________________________________________________________________________________________\n",
            "dense_1 (Dense)                 (None, 4, 128)       16512       activation_1[0][0]               \n",
            "__________________________________________________________________________________________________\n",
            "flatten (Flatten)               (None, 512)          0           dense[0][0]                      \n",
            "__________________________________________________________________________________________________\n",
            "flatten_1 (Flatten)             (None, 512)          0           dense_1[0][0]                    \n",
            "__________________________________________________________________________________________________\n",
            "add (Add)                       (None, 512)          0           flatten[0][0]                    \n",
            "                                                                 flatten_1[0][0]                  \n",
            "__________________________________________________________________________________________________\n",
            "dense_2 (Dense)                 (None, 1)            513         add[0][0]                        \n",
            "==================================================================================================\n",
            "Total params: 175,105\n",
            "Trainable params: 175,105\n",
            "Non-trainable params: 0\n",
            "__________________________________________________________________________________________________\n"
          ],
          "name": "stdout"
        }
      ]
    },
    {
      "cell_type": "code",
      "metadata": {
        "colab": {
          "base_uri": "https://localhost:8080/"
        },
        "id": "rAOe555ebXUW",
        "outputId": "a5f02148-edd6-48e0-f05b-7a017a905c02"
      },
      "source": [
        "%%time\r\n",
        "history = model_siamese.fit(x_train, y_train, validation_data=(x_validate, y_validate), epochs=10, batch_size=32, callbacks=set_callbacks())"
      ],
      "execution_count": null,
      "outputs": [
        {
          "output_type": "stream",
          "text": [
            "Epoch 1/10\n",
            "1852/1852 [==============================] - 43s 18ms/step - loss: 1.3905 - val_loss: 0.2860\n",
            "Epoch 2/10\n",
            "1852/1852 [==============================] - 32s 17ms/step - loss: 0.3035 - val_loss: 0.2896\n",
            "Epoch 3/10\n",
            "1852/1852 [==============================] - 32s 17ms/step - loss: 0.3041 - val_loss: 0.2856\n",
            "Epoch 4/10\n",
            "1852/1852 [==============================] - 32s 17ms/step - loss: 0.2918 - val_loss: 0.2936\n",
            "Epoch 5/10\n",
            "1852/1852 [==============================] - 32s 17ms/step - loss: 0.2914 - val_loss: 0.3470\n",
            "Epoch 6/10\n",
            "1852/1852 [==============================] - 32s 17ms/step - loss: 0.2933 - val_loss: 0.2847\n",
            "Epoch 7/10\n",
            "1852/1852 [==============================] - 32s 17ms/step - loss: 0.2890 - val_loss: 0.2918\n",
            "Epoch 8/10\n",
            "1852/1852 [==============================] - 32s 17ms/step - loss: 0.2914 - val_loss: 0.3026\n",
            "Epoch 9/10\n",
            "1852/1852 [==============================] - 32s 17ms/step - loss: 0.2898 - val_loss: 0.2837\n",
            "Epoch 10/10\n",
            "1852/1852 [==============================] - 32s 17ms/step - loss: 0.2847 - val_loss: 0.3556\n",
            "CPU times: user 6min 27s, sys: 34.5 s, total: 7min 1s\n",
            "Wall time: 5min 33s\n"
          ],
          "name": "stdout"
        }
      ]
    },
    {
      "cell_type": "code",
      "metadata": {
        "colab": {
          "base_uri": "https://localhost:8080/",
          "height": 295
        },
        "id": "9Ye0gn7EfVaH",
        "outputId": "d3f95f99-0224-406c-cdbf-45ee1aca551e"
      },
      "source": [
        "draw_plots(history)"
      ],
      "execution_count": null,
      "outputs": [
        {
          "output_type": "display_data",
          "data": {
            "image/png": "[encoded data removed]",
            "text/plain": [
              "<Figure size 432x288 with 1 Axes>"
            ]
          },
          "metadata": {
            "tags": [],
            "needs_background": "light"
          }
        }
      ]
    },
    {
      "cell_type": "code",
      "metadata": {
        "colab": {
          "base_uri": "https://localhost:8080/"
        },
        "id": "QnCJNz20UrM-",
        "outputId": "09123c6d-40f3-4235-b4e7-93903806f152"
      },
      "source": [
        "%%time\r\n",
        "pred_train = model_siamese.predict(x_train)\r\n",
        "pred_validate = model_siamese.predict(x_validate)\r\n",
        "pred_test = model_siamese.predict(x_test)\r\n",
        "\r\n",
        "evaluate_model(pred_train, y_train, \"training\")\r\n",
        "evaluate_model(pred_validate, y_validate, \"validation\")\r\n",
        "evaluate_model(pred_test, y_test, \"testing\")"
      ],
      "execution_count": null,
      "outputs": [
        {
          "output_type": "stream",
          "text": [
            "Model MSE Loss in training stage: 0.3490113303861441\n",
            "Model RMSE Loss in training stage: 0.5907718090651788\n",
            "Model MAE Loss in training stage: 0.45182181066044985\n",
            "\n",
            "Model MSE Loss in validation stage: 0.355591852594108\n",
            "Model RMSE Loss in validation stage: 0.5963152292153102\n",
            "Model MAE Loss in validation stage: 0.45685159545976717\n",
            "\n",
            "Model MSE Loss in testing stage: 0.3573240610543382\n",
            "Model RMSE Loss in testing stage: 0.5977658915113325\n",
            "Model MAE Loss in testing stage: 0.4558279251903172\n",
            "\n",
            "CPU times: user 44.3 s, sys: 3.66 s, total: 48 s\n",
            "Wall time: 35.3 s\n"
          ],
          "name": "stdout"
        }
      ]
    },
    {
      "cell_type": "markdown",
      "metadata": {
        "id": "X4BA94OBu2wx"
      },
      "source": [
        "## **1.c - Model-Based Benchmark**"
      ]
    },
    {
      "cell_type": "code",
      "metadata": {
        "id": "pZnDM2k1EdEa",
        "colab": {
          "base_uri": "https://localhost:8080/"
        },
        "outputId": "a770bd4e-c65e-4e29-adac-8db761d13c74"
      },
      "source": [
        "from sklearn.feature_extraction.text import CountVectorizer\r\n",
        "\r\n",
        "count_vectorizer = CountVectorizer(analyzer='char')\r\n",
        "count_vectorizer.fit(x_train['product_title'].tolist() + x_train['search_term'].tolist() + x_test['product_title'].tolist() + x_test['search_term'].tolist())"
      ],
      "execution_count": null,
      "outputs": [
        {
          "output_type": "execute_result",
          "data": {
            "text/plain": [
              "CountVectorizer(analyzer='char', binary=False, decode_error='strict',\n",
              "                dtype=<class 'numpy.int64'>, encoding='utf-8', input='content',\n",
              "                lowercase=True, max_df=1.0, max_features=None, min_df=1,\n",
              "                ngram_range=(1, 1), preprocessor=None, stop_words=None,\n",
              "                strip_accents=None, token_pattern='(?u)\\\\b\\\\w\\\\w+\\\\b',\n",
              "                tokenizer=None, vocabulary=None)"
            ]
          },
          "metadata": {
            "tags": []
          },
          "execution_count": 68
        }
      ]
    },
    {
      "cell_type": "code",
      "metadata": {
        "id": "zXjTN_RtOyP3"
      },
      "source": [
        "from sklearn.model_selection import train_test_split\r\n",
        "x_train, x_validate, y_train, y_validate = train_test_split(x_train, y_train, test_size=0.2)"
      ],
      "execution_count": null,
      "outputs": []
    },
    {
      "cell_type": "code",
      "metadata": {
        "id": "ssBGX4GTO7uE"
      },
      "source": [
        "x_train['search_term'] = count_vectorizer.transform(x_train['search_term']).toarray()\r\n",
        "x_train['product_title'] = count_vectorizer.transform(x_train['product_title']).toarray()\r\n",
        "\r\n",
        "x_validate['search_term'] = count_vectorizer.transform(x_validate['search_term']).toarray()\r\n",
        "x_validate['product_title'] = count_vectorizer.transform(x_validate['product_title']).toarray()\r\n",
        "\r\n",
        "x_test['search_term'] = count_vectorizer.transform(x_test['search_term']).toarray()\r\n",
        "x_test['product_title'] = count_vectorizer.transform(x_test['product_title']).toarray()"
      ],
      "execution_count": null,
      "outputs": []
    },
    {
      "cell_type": "code",
      "metadata": {
        "id": "nSZd-POoSejx"
      },
      "source": [
        "y_train = y_train['relevance']\r\n",
        "y_validate = y_validate['relevance']\r\n",
        "y_test = y_test['relevance']"
      ],
      "execution_count": null,
      "outputs": []
    },
    {
      "cell_type": "code",
      "metadata": {
        "colab": {
          "base_uri": "https://localhost:8080/"
        },
        "id": "DKkasGlnQL-v",
        "outputId": "7477cd17-c979-4e52-b935-a851652ca35f"
      },
      "source": [
        "%%time\r\n",
        "from sklearn import svm\r\n",
        "\r\n",
        "naive_model = svm.SVR()\r\n",
        "naive_model.fit(x_train, y_train)"
      ],
      "execution_count": null,
      "outputs": [
        {
          "output_type": "stream",
          "text": [
            "CPU times: user 2min 33s, sys: 54.3 ms, total: 2min 33s\n",
            "Wall time: 2min 33s\n"
          ],
          "name": "stdout"
        }
      ]
    },
    {
      "cell_type": "code",
      "metadata": {
        "colab": {
          "base_uri": "https://localhost:8080/"
        },
        "id": "c67_3rpyJoIW",
        "outputId": "e854a45c-4af0-46a8-fb5d-16917e3f7f5e"
      },
      "source": [
        "%%time\r\n",
        "pred_train = naive_model.predict(x_train)\r\n",
        "pred_validate = naive_model.predict(x_validate)\r\n",
        "pred_test = naive_model.predict(x_test)\r\n",
        "\r\n",
        "evaluate_model(pred_train, y_train, \"training\")\r\n",
        "evaluate_model(pred_validate, y_validate, \"validation\")\r\n",
        "evaluate_model(pred_test, y_test, \"testing\")\r\n"
      ],
      "execution_count": null,
      "outputs": [
        {
          "output_type": "stream",
          "text": [
            "Model MSE Loss in training stage: 0.28567381599933567\n",
            "Model RMSE Loss in training stage: 0.5344846265322658\n",
            "Model MAE Loss in training stage: 0.4341492804962552\n",
            "\n",
            "Model MSE Loss in validation stage: 0.295285938249382\n",
            "Model RMSE Loss in validation stage: 0.5434021883001411\n",
            "Model MAE Loss in validation stage: 0.44133414320061093\n",
            "\n",
            "Model MSE Loss in testing stage: 0.28929693321149924\n",
            "Model RMSE Loss in testing stage: 0.5378633034624125\n",
            "Model MAE Loss in testing stage: 0.4360305556999427\n",
            "\n",
            "CPU times: user 3min 14s, sys: 16.5 ms, total: 3min 14s\n",
            "Wall time: 3min 14s\n"
          ],
          "name": "stdout"
        }
      ]
    },
    {
      "cell_type": "markdown",
      "metadata": {
        "id": "UAas8fiuUP5q"
      },
      "source": [
        "## **1.d - Feature Extractor**\r\n",
        "\r\n"
      ]
    },
    {
      "cell_type": "code",
      "metadata": {
        "id": "zjvq0LZCEgpx"
      },
      "source": [
        "x_train, x_test = convert_strings_to_lists(x_train, x_test)"
      ],
      "execution_count": null,
      "outputs": []
    },
    {
      "cell_type": "code",
      "metadata": {
        "id": "WNIvpFAbWFA6"
      },
      "source": [
        "x_train, x_test = tokenize_words(x_train, x_test, 80)"
      ],
      "execution_count": null,
      "outputs": []
    },
    {
      "cell_type": "code",
      "metadata": {
        "id": "YuKsOL4BWJ_o"
      },
      "source": [
        "x_train, x_test = padding_sequences(x_train, x_test, 80)"
      ],
      "execution_count": null,
      "outputs": []
    },
    {
      "cell_type": "code",
      "metadata": {
        "id": "pxjMvoEAWOaQ"
      },
      "source": [
        "from sklearn.model_selection import train_test_split\r\n",
        "x_train, x_validate, y_train, y_validate = train_test_split(x_train, y_train, test_size=0.2)"
      ],
      "execution_count": null,
      "outputs": []
    },
    {
      "cell_type": "code",
      "metadata": {
        "id": "R0TNr_wFWezq"
      },
      "source": [
        "x_train = [np.array(x_train['product_title'].tolist()), np.array(x_train['search_term'].tolist())]\r\n",
        "x_validate = [np.array(x_validate['product_title'].tolist()), np.array(x_validate['search_term'].tolist())]\r\n",
        "x_test = [np.array(x_test['product_title'].tolist()), np.array(x_test['search_term'].tolist())]"
      ],
      "execution_count": null,
      "outputs": []
    },
    {
      "cell_type": "code",
      "metadata": {
        "id": "8pjlPO2iWsWK"
      },
      "source": [
        "model_siamese = construct_siamese_model()\r\n",
        "model_siamese.load_weights(main_url + 'best_model_weights_{}.h5'.format('try'))\r\n",
        "feature_extractor_model = Model(inputs=model_siamese.input, outputs=model_siamese.layers[len(model_siamese.layers) - 1].output)"
      ],
      "execution_count": null,
      "outputs": []
    },
    {
      "cell_type": "markdown",
      "metadata": {
        "id": "7No-thHX4bh4"
      },
      "source": [
        "### **Random Forest**"
      ]
    },
    {
      "cell_type": "code",
      "metadata": {
        "colab": {
          "base_uri": "https://localhost:8080/"
        },
        "id": "iXkg3xNYvjtP",
        "outputId": "81bb0da3-da57-4416-936f-b921ca4add74"
      },
      "source": [
        "%%time\r\n",
        "from sklearn.ensemble import RandomForestRegressor\r\n",
        "\r\n",
        "random_forest_model = RandomForestRegressor(max_depth=5, random_state=0)\r\n",
        "random_forest_model.fit(feature_extractor_model.predict(x_train), y_train)"
      ],
      "execution_count": null,
      "outputs": [
        {
          "output_type": "stream",
          "text": [
            "/usr/local/lib/python3.6/dist-packages/ipykernel_launcher.py:4: DataConversionWarning: A column-vector y was passed when a 1d array was expected. Please change the shape of y to (n_samples,), for example using ravel().\n",
            "  after removing the cwd from sys.path.\n"
          ],
          "name": "stderr"
        },
        {
          "output_type": "stream",
          "text": [
            "CPU times: user 17.7 s, sys: 1.22 s, total: 18.9 s\n",
            "Wall time: 14.9 s\n"
          ],
          "name": "stdout"
        }
      ]
    },
    {
      "cell_type": "code",
      "metadata": {
        "colab": {
          "base_uri": "https://localhost:8080/"
        },
        "id": "TRKu1CTWyzml",
        "outputId": "e7276fa0-2911-4cdb-cf5a-db3d8eb7ad53"
      },
      "source": [
        "pred_train = random_forest_model.predict(feature_extractor_model.predict(x_train))\r\n",
        "pred_validate = random_forest_model.predict(feature_extractor_model.predict(x_validate))\r\n",
        "pred_test = random_forest_model.predict(feature_extractor_model.predict(x_test))\r\n",
        "\r\n",
        "evaluate_model(pred_train, y_train, \"training\")\r\n",
        "evaluate_model(pred_validate, y_validate, \"validation\")\r\n",
        "evaluate_model(pred_test, y_test, \"testing\")"
      ],
      "execution_count": null,
      "outputs": [
        {
          "output_type": "stream",
          "text": [
            "Model MSE Loss in training stage: 0.2742419033465368\n",
            "Model RMSE Loss in training stage: 0.5236811084491562\n",
            "Model MAE Loss in training stage: 0.4295286090601961\n",
            "\n",
            "Model MSE Loss in validation stage: 0.2790160247483351\n",
            "Model RMSE Loss in validation stage: 0.5282196747077252\n",
            "Model MAE Loss in validation stage: 0.4335954689901303\n",
            "\n",
            "Model MSE Loss in testing stage: 0.28319340864728815\n",
            "Model RMSE Loss in testing stage: 0.5321591948348615\n",
            "Model MAE Loss in testing stage: 0.4363903461930142\n",
            "\n"
          ],
          "name": "stdout"
        }
      ]
    },
    {
      "cell_type": "markdown",
      "metadata": {
        "id": "6p8rQ0b34nc4"
      },
      "source": [
        "### **KNN - K-Nearest Neighbors**"
      ]
    },
    {
      "cell_type": "code",
      "metadata": {
        "colab": {
          "base_uri": "https://localhost:8080/"
        },
        "id": "V0YPuH431d0b",
        "outputId": "ac12cec4-335e-488f-ffd9-cd46bee52a96"
      },
      "source": [
        "%%time\r\n",
        "from sklearn.neighbors import KNeighborsRegressor\r\n",
        "\r\n",
        "k_neighbors_model = KNeighborsRegressor(n_neighbors=10)\r\n",
        "k_neighbors_model.fit(feature_extractor_model.predict(x_train), y_train)"
      ],
      "execution_count": null,
      "outputs": [
        {
          "output_type": "stream",
          "text": [
            "CPU times: user 14.5 s, sys: 1.17 s, total: 15.7 s\n",
            "Wall time: 11.4 s\n"
          ],
          "name": "stdout"
        }
      ]
    },
    {
      "cell_type": "code",
      "metadata": {
        "colab": {
          "base_uri": "https://localhost:8080/"
        },
        "id": "xvfJdCOE2pWp",
        "outputId": "cc1b13a2-0f8c-4520-91ec-021e676f5ec5"
      },
      "source": [
        "%%time\r\n",
        "pred_train = k_neighbors_model.predict(feature_extractor_model.predict(x_train))\r\n",
        "pred_validate = k_neighbors_model.predict(feature_extractor_model.predict(x_validate))\r\n",
        "pred_test = k_neighbors_model.predict(feature_extractor_model.predict(x_test))\r\n",
        "\r\n",
        "evaluate_model(pred_train, y_train, \"training\")\r\n",
        "evaluate_model(pred_validate, y_validate, \"validation\")\r\n",
        "evaluate_model(pred_test, y_test, \"testing\")"
      ],
      "execution_count": null,
      "outputs": [
        {
          "output_type": "stream",
          "text": [
            "Model MSE Loss in training stage: 0.21083841444315055\n",
            "Model RMSE Loss in training stage: 0.4591714434099213\n",
            "Model MAE Loss in training stage: 0.3683891954837729\n",
            "\n",
            "Model MSE Loss in validation stage: 0.26366128520318616\n",
            "Model RMSE Loss in validation stage: 0.5134795859653879\n",
            "Model MAE Loss in validation stage: 0.41406244093425143\n",
            "\n",
            "Model MSE Loss in testing stage: 0.3252689523677799\n",
            "Model RMSE Loss in testing stage: 0.5703235505989385\n",
            "Model MAE Loss in testing stage: 0.46046201825693556\n",
            "\n",
            "CPU times: user 45.3 s, sys: 3.77 s, total: 49.1 s\n",
            "Wall time: 35.8 s\n"
          ],
          "name": "stdout"
        }
      ]
    },
    {
      "cell_type": "markdown",
      "metadata": {
        "id": "W3z38TFHkYx-"
      },
      "source": [
        "# **2 - Word level LSTM**"
      ]
    },
    {
      "cell_type": "code",
      "metadata": {
        "colab": {
          "base_uri": "https://localhost:8080/",
          "height": 1000
        },
        "id": "6JAh2qSelc92",
        "outputId": "9c9e8c9b-8392-4d5b-a3f8-d79b5c129104"
      },
      "source": [
        "!pip install transformers[tf-cpu]"
      ],
      "execution_count": null,
      "outputs": [
        {
          "output_type": "stream",
          "text": [
            "Collecting transformers[tf-cpu]\n",
            "\u001b[?25l  Downloading https://files.pythonhosted.org/packages/50/0c/7d5950fcd80b029be0a8891727ba21e0cd27692c407c51261c3c921f6da3/transformers-4.1.1-py3-none-any.whl (1.5MB)\n",
            "\u001b[K     |████████████████████████████████| 1.5MB 12.6MB/s \n",
            "\u001b[?25hCollecting sacremoses\n",
            "\u001b[?25l  Downloading https://files.pythonhosted.org/packages/7d/34/09d19aff26edcc8eb2a01bed8e98f13a1537005d31e95233fd48216eed10/sacremoses-0.0.43.tar.gz (883kB)\n",
            "\u001b[K     |████████████████████████████████| 890kB 46.6MB/s \n",
            "\u001b[?25hRequirement already satisfied: regex!=2019.12.17 in /usr/local/lib/python3.6/dist-packages (from transformers[tf-cpu]) (2019.12.20)\n",
            "Requirement already satisfied: filelock in /usr/local/lib/python3.6/dist-packages (from transformers[tf-cpu]) (3.0.12)\n",
            "Requirement already satisfied: tqdm>=4.27 in /usr/local/lib/python3.6/dist-packages (from transformers[tf-cpu]) (4.41.1)\n",
            "Requirement already satisfied: numpy in /usr/local/lib/python3.6/dist-packages (from transformers[tf-cpu]) (1.19.5)\n",
            "Requirement already satisfied: requests in /usr/local/lib/python3.6/dist-packages (from transformers[tf-cpu]) (2.23.0)\n",
            "Requirement already satisfied: dataclasses; python_version < \"3.7\" in /usr/local/lib/python3.6/dist-packages (from transformers[tf-cpu]) (0.8)\n",
            "Requirement already satisfied: packaging in /usr/local/lib/python3.6/dist-packages (from transformers[tf-cpu]) (20.8)\n",
            "Collecting tokenizers==0.9.4\n",
            "\u001b[?25l  Downloading https://files.pythonhosted.org/packages/0f/1c/e789a8b12e28be5bc1ce2156cf87cb522b379be9cadc7ad8091a4cc107c4/tokenizers-0.9.4-cp36-cp36m-manylinux2010_x86_64.whl (2.9MB)\n",
            "\u001b[K     |████████████████████████████████| 2.9MB 45.8MB/s \n",
            "\u001b[?25hCollecting keras2onnx; extra == \"tf-cpu\"\n",
            "\u001b[?25l  Downloading https://files.pythonhosted.org/packages/a6/2f/c7aef8f8215c62d55ea05f5b36737c1726e4fea6c73970909523ae497fd9/keras2onnx-1.7.0-py3-none-any.whl (96kB)\n",
            "\u001b[K     |████████████████████████████████| 102kB 11.6MB/s \n",
            "\u001b[?25hCollecting onnxconverter-common; extra == \"tf-cpu\"\n",
            "\u001b[?25l  Downloading https://files.pythonhosted.org/packages/fe/7a/7e30c643cd7d2ad87689188ef34ce93e657bd14da3605f87bcdbc19cd5b1/onnxconverter_common-1.7.0-py2.py3-none-any.whl (64kB)\n",
            "\u001b[K     |████████████████████████████████| 71kB 9.5MB/s \n",
            "\u001b[?25hCollecting tensorflow-cpu>=2.0; extra == \"tf-cpu\"\n",
            "\u001b[?25l  Downloading https://files.pythonhosted.org/packages/38/73/1f8cd6f4277f6a9861b5f41cbe21e1fd4abb3e1122bfc1f4bf745f0f470a/tensorflow_cpu-2.4.0-cp36-cp36m-manylinux2010_x86_64.whl (144.5MB)\n",
            "\u001b[K     |████████████████████████████████| 144.5MB 92kB/s \n",
            "\u001b[?25hRequirement already satisfied: six in /usr/local/lib/python3.6/dist-packages (from sacremoses->transformers[tf-cpu]) (1.15.0)\n",
            "Requirement already satisfied: click in /usr/local/lib/python3.6/dist-packages (from sacremoses->transformers[tf-cpu]) (7.1.2)\n",
            "Requirement already satisfied: joblib in /usr/local/lib/python3.6/dist-packages (from sacremoses->transformers[tf-cpu]) (1.0.0)\n",
            "Requirement already satisfied: certifi>=2017.4.17 in /usr/local/lib/python3.6/dist-packages (from requests->transformers[tf-cpu]) (2020.12.5)\n",
            "Requirement already satisfied: idna<3,>=2.5 in /usr/local/lib/python3.6/dist-packages (from requests->transformers[tf-cpu]) (2.10)\n",
            "Requirement already satisfied: chardet<4,>=3.0.2 in /usr/local/lib/python3.6/dist-packages (from requests->transformers[tf-cpu]) (3.0.4)\n",
            "Requirement already satisfied: urllib3!=1.25.0,!=1.25.1,<1.26,>=1.21.1 in /usr/local/lib/python3.6/dist-packages (from requests->transformers[tf-cpu]) (1.24.3)\n",
            "Requirement already satisfied: pyparsing>=2.0.2 in /usr/local/lib/python3.6/dist-packages (from packaging->transformers[tf-cpu]) (2.4.7)\n",
            "Requirement already satisfied: protobuf in /usr/local/lib/python3.6/dist-packages (from keras2onnx; extra == \"tf-cpu\"->transformers[tf-cpu]) (3.12.4)\n",
            "Collecting onnx\n",
            "\u001b[?25l  Downloading https://files.pythonhosted.org/packages/2a/82/e8d0fb64df623a3b716145192ed50604f444889778b37e0e9262753d5046/onnx-1.8.0-cp36-cp36m-manylinux2010_x86_64.whl (7.7MB)\n",
            "\u001b[K     |████████████████████████████████| 7.7MB 56.7MB/s \n",
            "\u001b[?25hCollecting fire\n",
            "\u001b[?25l  Downloading https://files.pythonhosted.org/packages/34/a7/0e22e70778aca01a52b9c899d9c145c6396d7b613719cd63db97ffa13f2f/fire-0.3.1.tar.gz (81kB)\n",
            "\u001b[K     |████████████████████████████████| 81kB 12.8MB/s \n",
            "\u001b[?25hRequirement already satisfied: wrapt~=1.12.1 in /usr/local/lib/python3.6/dist-packages (from tensorflow-cpu>=2.0; extra == \"tf-cpu\"->transformers[tf-cpu]) (1.12.1)\n",
            "Requirement already satisfied: google-pasta~=0.2 in /usr/local/lib/python3.6/dist-packages (from tensorflow-cpu>=2.0; extra == \"tf-cpu\"->transformers[tf-cpu]) (0.2.0)\n",
            "Requirement already satisfied: flatbuffers~=1.12.0 in /usr/local/lib/python3.6/dist-packages (from tensorflow-cpu>=2.0; extra == \"tf-cpu\"->transformers[tf-cpu]) (1.12)\n",
            "Requirement already satisfied: opt-einsum~=3.3.0 in /usr/local/lib/python3.6/dist-packages (from tensorflow-cpu>=2.0; extra == \"tf-cpu\"->transformers[tf-cpu]) (3.3.0)\n",
            "Requirement already satisfied: keras-preprocessing~=1.1.2 in /usr/local/lib/python3.6/dist-packages (from tensorflow-cpu>=2.0; extra == \"tf-cpu\"->transformers[tf-cpu]) (1.1.2)\n",
            "Requirement already satisfied: typing-extensions~=3.7.4 in /usr/local/lib/python3.6/dist-packages (from tensorflow-cpu>=2.0; extra == \"tf-cpu\"->transformers[tf-cpu]) (3.7.4.3)\n",
            "Requirement already satisfied: wheel~=0.35 in /usr/local/lib/python3.6/dist-packages (from tensorflow-cpu>=2.0; extra == \"tf-cpu\"->transformers[tf-cpu]) (0.36.2)\n",
            "Requirement already satisfied: termcolor~=1.1.0 in /usr/local/lib/python3.6/dist-packages (from tensorflow-cpu>=2.0; extra == \"tf-cpu\"->transformers[tf-cpu]) (1.1.0)\n",
            "Requirement already satisfied: gast==0.3.3 in /usr/local/lib/python3.6/dist-packages (from tensorflow-cpu>=2.0; extra == \"tf-cpu\"->transformers[tf-cpu]) (0.3.3)\n",
            "Requirement already satisfied: absl-py~=0.10 in /usr/local/lib/python3.6/dist-packages (from tensorflow-cpu>=2.0; extra == \"tf-cpu\"->transformers[tf-cpu]) (0.10.0)\n",
            "Requirement already satisfied: astunparse~=1.6.3 in /usr/local/lib/python3.6/dist-packages (from tensorflow-cpu>=2.0; extra == \"tf-cpu\"->transformers[tf-cpu]) (1.6.3)\n",
            "Requirement already satisfied: tensorflow-estimator<2.5.0,>=2.4.0rc0 in /usr/local/lib/python3.6/dist-packages (from tensorflow-cpu>=2.0; extra == \"tf-cpu\"->transformers[tf-cpu]) (2.4.0)\n",
            "Requirement already satisfied: grpcio~=1.32.0 in /usr/local/lib/python3.6/dist-packages (from tensorflow-cpu>=2.0; extra == \"tf-cpu\"->transformers[tf-cpu]) (1.32.0)\n",
            "Requirement already satisfied: h5py~=2.10.0 in /usr/local/lib/python3.6/dist-packages (from tensorflow-cpu>=2.0; extra == \"tf-cpu\"->transformers[tf-cpu]) (2.10.0)\n",
            "Requirement already satisfied: tensorboard~=2.4 in /usr/local/lib/python3.6/dist-packages (from tensorflow-cpu>=2.0; extra == \"tf-cpu\"->transformers[tf-cpu]) (2.4.0)\n",
            "Requirement already satisfied: setuptools in /usr/local/lib/python3.6/dist-packages (from protobuf->keras2onnx; extra == \"tf-cpu\"->transformers[tf-cpu]) (51.1.1)\n",
            "Requirement already satisfied: markdown>=2.6.8 in /usr/local/lib/python3.6/dist-packages (from tensorboard~=2.4->tensorflow-cpu>=2.0; extra == \"tf-cpu\"->transformers[tf-cpu]) (3.3.3)\n",
            "Requirement already satisfied: werkzeug>=0.11.15 in /usr/local/lib/python3.6/dist-packages (from tensorboard~=2.4->tensorflow-cpu>=2.0; extra == \"tf-cpu\"->transformers[tf-cpu]) (1.0.1)\n",
            "Requirement already satisfied: google-auth-oauthlib<0.5,>=0.4.1 in /usr/local/lib/python3.6/dist-packages (from tensorboard~=2.4->tensorflow-cpu>=2.0; extra == \"tf-cpu\"->transformers[tf-cpu]) (0.4.2)\n",
            "Requirement already satisfied: tensorboard-plugin-wit>=1.6.0 in /usr/local/lib/python3.6/dist-packages (from tensorboard~=2.4->tensorflow-cpu>=2.0; extra == \"tf-cpu\"->transformers[tf-cpu]) (1.7.0)\n",
            "Requirement already satisfied: google-auth<2,>=1.6.3 in /usr/local/lib/python3.6/dist-packages (from tensorboard~=2.4->tensorflow-cpu>=2.0; extra == \"tf-cpu\"->transformers[tf-cpu]) (1.17.2)\n",
            "Requirement already satisfied: importlib-metadata; python_version < \"3.8\" in /usr/local/lib/python3.6/dist-packages (from markdown>=2.6.8->tensorboard~=2.4->tensorflow-cpu>=2.0; extra == \"tf-cpu\"->transformers[tf-cpu]) (3.3.0)\n",
            "Requirement already satisfied: requests-oauthlib>=0.7.0 in /usr/local/lib/python3.6/dist-packages (from google-auth-oauthlib<0.5,>=0.4.1->tensorboard~=2.4->tensorflow-cpu>=2.0; extra == \"tf-cpu\"->transformers[tf-cpu]) (1.3.0)\n",
            "Requirement already satisfied: pyasn1-modules>=0.2.1 in /usr/local/lib/python3.6/dist-packages (from google-auth<2,>=1.6.3->tensorboard~=2.4->tensorflow-cpu>=2.0; extra == \"tf-cpu\"->transformers[tf-cpu]) (0.2.8)\n",
            "Requirement already satisfied: rsa<5,>=3.1.4; python_version >= \"3\" in /usr/local/lib/python3.6/dist-packages (from google-auth<2,>=1.6.3->tensorboard~=2.4->tensorflow-cpu>=2.0; extra == \"tf-cpu\"->transformers[tf-cpu]) (4.6)\n",
            "Requirement already satisfied: cachetools<5.0,>=2.0.0 in /usr/local/lib/python3.6/dist-packages (from google-auth<2,>=1.6.3->tensorboard~=2.4->tensorflow-cpu>=2.0; extra == \"tf-cpu\"->transformers[tf-cpu]) (4.2.0)\n",
            "Requirement already satisfied: zipp>=0.5 in /usr/local/lib/python3.6/dist-packages (from importlib-metadata; python_version < \"3.8\"->markdown>=2.6.8->tensorboard~=2.4->tensorflow-cpu>=2.0; extra == \"tf-cpu\"->transformers[tf-cpu]) (3.4.0)\n",
            "Requirement already satisfied: oauthlib>=3.0.0 in /usr/local/lib/python3.6/dist-packages (from requests-oauthlib>=0.7.0->google-auth-oauthlib<0.5,>=0.4.1->tensorboard~=2.4->tensorflow-cpu>=2.0; extra == \"tf-cpu\"->transformers[tf-cpu]) (3.1.0)\n",
            "Requirement already satisfied: pyasn1<0.5.0,>=0.4.6 in /usr/local/lib/python3.6/dist-packages (from pyasn1-modules>=0.2.1->google-auth<2,>=1.6.3->tensorboard~=2.4->tensorflow-cpu>=2.0; extra == \"tf-cpu\"->transformers[tf-cpu]) (0.4.8)\n",
            "Building wheels for collected packages: sacremoses, fire\n",
            "  Building wheel for sacremoses (setup.py) ... \u001b[?25l\u001b[?25hdone\n",
            "  Created wheel for sacremoses: filename=sacremoses-0.0.43-cp36-none-any.whl size=893261 sha256=040dc6e506b31f0b4a7e28de48d6c98d6b213460dbdb3c95b458b4f578c03d9a\n",
            "  Stored in directory: /root/.cache/pip/wheels/29/3c/fd/7ce5c3f0666dab31a50123635e6fb5e19ceb42ce38d4e58f45\n",
            "  Building wheel for fire (setup.py) ... \u001b[?25l\u001b[?25hdone\n",
            "  Created wheel for fire: filename=fire-0.3.1-py2.py3-none-any.whl size=111006 sha256=b336a6d3fde8f99b6b6f9ac76b3690917e45cc93f825faf3e1b7cc5ac8fc84cb\n",
            "  Stored in directory: /root/.cache/pip/wheels/c1/61/df/768b03527bf006b546dce284eb4249b185669e65afc5fbb2ac\n",
            "Successfully built sacremoses fire\n",
            "Installing collected packages: sacremoses, tokenizers, onnx, onnxconverter-common, fire, keras2onnx, tensorflow-cpu, transformers\n",
            "Successfully installed fire-0.3.1 keras2onnx-1.7.0 onnx-1.8.0 onnxconverter-common-1.7.0 sacremoses-0.0.43 tensorflow-cpu-2.4.0 tokenizers-0.9.4 transformers-4.1.1\n"
          ],
          "name": "stdout"
        },
        {
          "output_type": "display_data",
          "data": {
            "application/vnd.colab-display-data+json": {
              "pip_warning": {
                "packages": [
                  "tensorflow"
                ]
              }
            }
          },
          "metadata": {
            "tags": []
          }
        }
      ]
    },
    {
      "cell_type": "code",
      "metadata": {
        "id": "1wy8qeFelVkv"
      },
      "source": [
        "from transformers import AutoTokenizer"
      ],
      "execution_count": null,
      "outputs": []
    },
    {
      "cell_type": "code",
      "metadata": {
        "colab": {
          "base_uri": "https://localhost:8080/"
        },
        "id": "xCKKHdMipQFD",
        "outputId": "91bd2659-0fb9-4281-a783-e5900a672f3a"
      },
      "source": [
        "from tqdm._tqdm_notebook import tqdm_notebook\r\n",
        "import pandas as pd\r\n",
        "tqdm_notebook.pandas()"
      ],
      "execution_count": null,
      "outputs": [
        {
          "output_type": "stream",
          "text": [
            "/usr/local/lib/python3.6/dist-packages/ipykernel_launcher.py:1: TqdmDeprecationWarning: This function will be removed in tqdm==5.0.0\n",
            "Please use `tqdm.notebook.*` instead of `tqdm._tqdm_notebook.*`\n",
            "  \"\"\"Entry point for launching an IPython kernel.\n"
          ],
          "name": "stderr"
        }
      ]
    },
    {
      "cell_type": "markdown",
      "metadata": {
        "id": "Jbu_F104kgOG"
      },
      "source": [
        "## **2.a - Preprocess the Data**"
      ]
    },
    {
      "cell_type": "markdown",
      "metadata": {
        "id": "fkwn5pTkt0we"
      },
      "source": [
        "we'll try to use the product description with the product title"
      ]
    },
    {
      "cell_type": "code",
      "metadata": {
        "id": "FGAQ906EP4PC"
      },
      "source": [
        "train_data = pd.read_csv(main_url+\"train.csv\",sep=',' ,encoding='latin-1')\r\n",
        "test_data = pd.read_csv(main_url+\"test.csv\",sep=',' ,encoding='latin-1')\r\n",
        "sol_data = pd.read_csv(main_url+\"solution.csv\")\r\n",
        "description_data = pd.read_csv(main_url+\"product_descriptions.csv\")\r\n",
        "test_data = pd.merge(test_data, sol_data[[\"id\", \"relevance\"]], on='id')\r\n",
        "test_data = test_data[test_data['relevance'] >= 1]\r\n",
        "test_data = test_data[test_data['relevance'] <= 3]\r\n"
      ],
      "execution_count": null,
      "outputs": []
    },
    {
      "cell_type": "code",
      "metadata": {
        "id": "HXbrq3fVkdJO"
      },
      "source": [
        "train_data = train_data.merge(description_data, on='product_uid', how='left')\r\n",
        "train_data.product_title = train_data.product_title + \" \" + train_data.product_description\r\n",
        "\r\n",
        "test_data = test_data.merge(description_data, on='product_uid', how='left')\r\n",
        "test_data.product_title = test_data.product_title + \" \" + test_data.product_description"
      ],
      "execution_count": null,
      "outputs": []
    },
    {
      "cell_type": "code",
      "metadata": {
        "id": "Rssp-_IxtWpy"
      },
      "source": [
        ""
      ],
      "execution_count": null,
      "outputs": []
    },
    {
      "cell_type": "markdown",
      "metadata": {
        "id": "eDWkFopwspkl"
      },
      "source": [
        "## **2.b - Build Word Embedding**"
      ]
    },
    {
      "cell_type": "code",
      "metadata": {
        "id": "L5aonuEIm6YM",
        "colab": {
          "base_uri": "https://localhost:8080/",
          "height": 169,
          "referenced_widgets": [
            "46e46ccb026a4397bca93ea1420c9be9",
            "fe6b77ab52884a89b31ca15c537b12bb",
            "1db78e96301840619e10dcfddc89c65f",
            "46cd63d92e944a78918dd9d6505a6f9e",
            "085a0cdd7e204297a7b5612b241627a4",
            "441a2558d0344845b08f111a2ded8869",
            "cdd39f5c9f8345a5982a2a7022e2e09a",
            "af8ef5c5fac04e30ae2e4feb01479bbc",
            "e5879a6d8e9d4cfcbf048b36046748e5",
            "eae404e33dd74cc2a71b39d04098b23e",
            "a6f516813dd94093b1e2ac61937041f7",
            "cea2624f678f4c9ba61bbea7825b3e1b",
            "c7120e4f10e54c3e891fbaf3b42fd5d6",
            "2f49353ee870498bb8a2afa7f68e8a30",
            "9e6a23119fca447fad0dc9d0a723d1cc",
            "9ad9fe6ad455400686c373a5f04d66e8",
            "44f6ec7760bb4148a3e963e1086df4d4",
            "7f92e66a17a74ca6b99769aba2f3bd32",
            "ed8eaca42d9445c7acaab49079a27c0f",
            "a049f1e466224f718438d2b49543fea9",
            "a4d93fc9793f425a8c9f1bb22e6de3ba",
            "1d0be03ad923400ebc01dc42882a07e2",
            "3b7945cb395649a0823e84bb2a78354b",
            "4b32eeef15bb41ab856dec09d57c3c6d"
          ]
        },
        "outputId": "ac05a1f0-c92c-405c-ebc4-078e33790dbd"
      },
      "source": [
        "tokenizer = AutoTokenizer.from_pretrained(\"bert-base-uncased\",return_tensors=\"tf\",max_length=512)"
      ],
      "execution_count": null,
      "outputs": [
        {
          "output_type": "display_data",
          "data": {
            "application/vnd.jupyter.widget-view+json": {
              "model_id": "46e46ccb026a4397bca93ea1420c9be9",
              "version_minor": 0,
              "version_major": 2
            },
            "text/plain": [
              "HBox(children=(FloatProgress(value=0.0, description='Downloading', max=433.0, style=ProgressStyle(description_…"
            ]
          },
          "metadata": {
            "tags": []
          }
        },
        {
          "output_type": "stream",
          "text": [
            "\n"
          ],
          "name": "stdout"
        },
        {
          "output_type": "display_data",
          "data": {
            "application/vnd.jupyter.widget-view+json": {
              "model_id": "e5879a6d8e9d4cfcbf048b36046748e5",
              "version_minor": 0,
              "version_major": 2
            },
            "text/plain": [
              "HBox(children=(FloatProgress(value=0.0, description='Downloading', max=231508.0, style=ProgressStyle(descripti…"
            ]
          },
          "metadata": {
            "tags": []
          }
        },
        {
          "output_type": "stream",
          "text": [
            "\n"
          ],
          "name": "stdout"
        },
        {
          "output_type": "display_data",
          "data": {
            "application/vnd.jupyter.widget-view+json": {
              "model_id": "44f6ec7760bb4148a3e963e1086df4d4",
              "version_minor": 0,
              "version_major": 2
            },
            "text/plain": [
              "HBox(children=(FloatProgress(value=0.0, description='Downloading', max=466062.0, style=ProgressStyle(descripti…"
            ]
          },
          "metadata": {
            "tags": []
          }
        },
        {
          "output_type": "stream",
          "text": [
            "\n"
          ],
          "name": "stdout"
        }
      ]
    },
    {
      "cell_type": "code",
      "metadata": {
        "colab": {
          "base_uri": "https://localhost:8080/",
          "height": 219,
          "referenced_widgets": [
            "f35ef79c4a4446728400a011982527a3",
            "c83a650e8b834ab28a7d8a698c23b531",
            "baafc5d40eae4e068be98a7fd32852c3",
            "203e32f7158d48d18aef9184e796678a",
            "e705b8541c8445bb9e48a3b56012b9bb",
            "40432dbac042467c9b8519d33c09fb80",
            "097b12d6c93a4663a6ce070f1961e793",
            "6023ed472f85432e8493df1a469e9ca2",
            "682fc5ec93cb4de78b0063b0da2ad6fc",
            "9c90925670b04750b298e52ae13a156d",
            "5df091f0df1049449a025d680627e717",
            "8de7fe8817f24a6ba1c1b8fea19e2354",
            "065790b8019d4e9e920ab9e8be7fc9d6",
            "250db55651d3449483aa2000358552ad",
            "353fe6220dba489594c7e5abe597257f",
            "e1b4f940f908461fa627610b3b851751",
            "c6e45fc918c04d2da4841d796cc39ea3",
            "6a27ac6b36154a16b1bab3b5cdd531d9",
            "2715a4b3bf1d4cf5aade1b9b34498b08",
            "7daaffb9a5324dd99d342bfac0d55692",
            "71e40ad2e4384e50a4ec389d8f296a38",
            "c771a92b6f64439386817793d101119a",
            "b23082e1d83f419db414c2f94e45121a",
            "09bd624f0de44295ac0b17af781ab871",
            "25f3ffe5f98f40799d7c377e0735a7ad",
            "caa23d31b757451a8ea341ee4193008d",
            "ec51a94d7e98447fab854c5ddcabb249",
            "94aea597c2e149a6ac032d4aef14d9a7",
            "8fe527d14a194b2da5029c6cf4d220c6",
            "1abe13dff1064a6090ddc3293de987ae",
            "b3499c157cbb47ff846110d38e0fbb51",
            "edff3c5248f34012b6999ceb96d7e7aa"
          ]
        },
        "id": "d3cu8TY6m9ip",
        "outputId": "7685ddec-b8b4-4b29-f038-68fd96af724a"
      },
      "source": [
        "train_data['product_title']=train_data['product_title'].astype(str).progress_apply(lambda x: tokenizer(x, padding=True).input_ids)\r\n",
        "train_data['search_term']=train_data['search_term'].astype(str).progress_apply(lambda x: tokenizer(x, padding=True).input_ids)\r\n",
        "\r\n",
        "test_data['product_title']=test_data['product_title'].astype(str).progress_apply(lambda x: tokenizer(x, padding=True).input_ids)\r\n",
        "test_data['search_term']=test_data['search_term'].astype(str).progress_apply(lambda x: tokenizer(x, padding=True).input_ids)"
      ],
      "execution_count": null,
      "outputs": [
        {
          "output_type": "display_data",
          "data": {
            "application/vnd.jupyter.widget-view+json": {
              "model_id": "f35ef79c4a4446728400a011982527a3",
              "version_minor": 0,
              "version_major": 2
            },
            "text/plain": [
              "HBox(children=(FloatProgress(value=0.0, max=74067.0), HTML(value='')))"
            ]
          },
          "metadata": {
            "tags": []
          }
        },
        {
          "output_type": "stream",
          "text": [
            "\n"
          ],
          "name": "stdout"
        },
        {
          "output_type": "display_data",
          "data": {
            "application/vnd.jupyter.widget-view+json": {
              "model_id": "682fc5ec93cb4de78b0063b0da2ad6fc",
              "version_minor": 0,
              "version_major": 2
            },
            "text/plain": [
              "HBox(children=(FloatProgress(value=0.0, max=74067.0), HTML(value='')))"
            ]
          },
          "metadata": {
            "tags": []
          }
        },
        {
          "output_type": "stream",
          "text": [
            "\n"
          ],
          "name": "stdout"
        },
        {
          "output_type": "display_data",
          "data": {
            "application/vnd.jupyter.widget-view+json": {
              "model_id": "c6e45fc918c04d2da4841d796cc39ea3",
              "version_minor": 0,
              "version_major": 2
            },
            "text/plain": [
              "HBox(children=(FloatProgress(value=0.0, max=112067.0), HTML(value='')))"
            ]
          },
          "metadata": {
            "tags": []
          }
        },
        {
          "output_type": "stream",
          "text": [
            "\n"
          ],
          "name": "stdout"
        },
        {
          "output_type": "display_data",
          "data": {
            "application/vnd.jupyter.widget-view+json": {
              "model_id": "25f3ffe5f98f40799d7c377e0735a7ad",
              "version_minor": 0,
              "version_major": 2
            },
            "text/plain": [
              "HBox(children=(FloatProgress(value=0.0, max=112067.0), HTML(value='')))"
            ]
          },
          "metadata": {
            "tags": []
          }
        },
        {
          "output_type": "stream",
          "text": [
            "\n"
          ],
          "name": "stdout"
        }
      ]
    },
    {
      "cell_type": "code",
      "metadata": {
        "colab": {
          "base_uri": "https://localhost:8080/",
          "height": 615
        },
        "id": "CCvLnBMK6gud",
        "outputId": "a8f2c312-11f0-4502-bc8d-c4a9f6c898b3"
      },
      "source": [
        "test_data"
      ],
      "execution_count": null,
      "outputs": [
        {
          "output_type": "execute_result",
          "data": {
            "text/html": [
              "<div>\n",
              "<style scoped>\n",
              "    .dataframe tbody tr th:only-of-type {\n",
              "        vertical-align: middle;\n",
              "    }\n",
              "\n",
              "    .dataframe tbody tr th {\n",
              "        vertical-align: top;\n",
              "    }\n",
              "\n",
              "    .dataframe thead th {\n",
              "        text-align: right;\n",
              "    }\n",
              "</style>\n",
              "<table border=\"1\" class=\"dataframe\">\n",
              "  <thead>\n",
              "    <tr style=\"text-align: right;\">\n",
              "      <th></th>\n",
              "      <th>id</th>\n",
              "      <th>product_uid</th>\n",
              "      <th>product_title</th>\n",
              "      <th>search_term</th>\n",
              "      <th>relevance</th>\n",
              "      <th>product_description</th>\n",
              "    </tr>\n",
              "  </thead>\n",
              "  <tbody>\n",
              "    <tr>\n",
              "      <th>0</th>\n",
              "      <td>4</td>\n",
              "      <td>100001</td>\n",
              "      <td>[101, 9304, 2844, 1011, 5495, 2260, 1011, 7633...</td>\n",
              "      <td>[101, 3384, 1048, 19719, 102]</td>\n",
              "      <td>2.33</td>\n",
              "      <td>Not only do angles make joints stronger, they ...</td>\n",
              "    </tr>\n",
              "    <tr>\n",
              "      <th>1</th>\n",
              "      <td>5</td>\n",
              "      <td>100001</td>\n",
              "      <td>[101, 9304, 2844, 1011, 5495, 2260, 1011, 7633...</td>\n",
              "      <td>[101, 9304, 15315, 2226, 2583, 102]</td>\n",
              "      <td>2.33</td>\n",
              "      <td>Not only do angles make joints stronger, they ...</td>\n",
              "    </tr>\n",
              "    <tr>\n",
              "      <th>2</th>\n",
              "      <td>6</td>\n",
              "      <td>100001</td>\n",
              "      <td>[101, 9304, 2844, 1011, 5495, 2260, 1011, 7633...</td>\n",
              "      <td>[101, 9304, 2844, 7208, 102]</td>\n",
              "      <td>2.67</td>\n",
              "      <td>Not only do angles make joints stronger, they ...</td>\n",
              "    </tr>\n",
              "    <tr>\n",
              "      <th>3</th>\n",
              "      <td>7</td>\n",
              "      <td>100001</td>\n",
              "      <td>[101, 9304, 2844, 1011, 5495, 2260, 1011, 7633...</td>\n",
              "      <td>[101, 9304, 2844, 5495, 16731, 2278, 28756, 26...</td>\n",
              "      <td>2.00</td>\n",
              "      <td>Not only do angles make joints stronger, they ...</td>\n",
              "    </tr>\n",
              "    <tr>\n",
              "      <th>4</th>\n",
              "      <td>10</td>\n",
              "      <td>100003</td>\n",
              "      <td>[101, 10933, 7241, 3943, 1011, 1015, 1013, 101...</td>\n",
              "      <td>[101, 7198, 1998, 6457, 8934, 102]</td>\n",
              "      <td>2.67</td>\n",
              "      <td>Classic architecture meets contemporary design...</td>\n",
              "    </tr>\n",
              "    <tr>\n",
              "      <th>...</th>\n",
              "      <td>...</td>\n",
              "      <td>...</td>\n",
              "      <td>...</td>\n",
              "      <td>...</td>\n",
              "      <td>...</td>\n",
              "      <td>...</td>\n",
              "    </tr>\n",
              "    <tr>\n",
              "      <th>112062</th>\n",
              "      <td>221467</td>\n",
              "      <td>206644</td>\n",
              "      <td>[101, 4098, 1014, 1011, 7633, 3565, 4412, 2121...</td>\n",
              "      <td>[101, 4412, 13774, 2075, 3282, 102]</td>\n",
              "      <td>2.33</td>\n",
              "      <td>The CN445R2 is the latest version of the MAX S...</td>\n",
              "    </tr>\n",
              "    <tr>\n",
              "      <th>112063</th>\n",
              "      <td>221468</td>\n",
              "      <td>206645</td>\n",
              "      <td>[101, 24665, 11631, 2063, 3203, 25148, 1017, 4...</td>\n",
              "      <td>[101, 3829, 4013, 24665, 5833, 102]</td>\n",
              "      <td>1.00</td>\n",
              "      <td>The GROHE Ladylux 3 Pro Single-Handle Pull-Out...</td>\n",
              "    </tr>\n",
              "    <tr>\n",
              "      <th>112064</th>\n",
              "      <td>221469</td>\n",
              "      <td>206646</td>\n",
              "      <td>[101, 3438, 1999, 1012, 1060, 2382, 1999, 1012...</td>\n",
              "      <td>[101, 14090, 23615, 2382, 1060, 3438, 2813, 59...</td>\n",
              "      <td>2.67</td>\n",
              "      <td>The Tile Kit bathtub wall set has a tile-like ...</td>\n",
              "    </tr>\n",
              "    <tr>\n",
              "      <th>112065</th>\n",
              "      <td>221470</td>\n",
              "      <td>206647</td>\n",
              "      <td>[101, 7057, 3117, 7368, 3057, 2210, 5061, 4615...</td>\n",
              "      <td>[101, 2422, 6942, 14028, 2005, 2210, 3057, 102]</td>\n",
              "      <td>1.00</td>\n",
              "      <td>Your daughter will be a queen ready to cast he...</td>\n",
              "    </tr>\n",
              "    <tr>\n",
              "      <th>112066</th>\n",
              "      <td>221472</td>\n",
              "      <td>206649</td>\n",
              "      <td>[101, 2430, 3871, 1998, 9004, 2340, 1012, 1019...</td>\n",
              "      <td>[101, 3871, 18911, 15270, 5596, 102]</td>\n",
              "      <td>2.33</td>\n",
              "      <td>The 11.5 in. Sharazad Egg Pot is a great addit...</td>\n",
              "    </tr>\n",
              "  </tbody>\n",
              "</table>\n",
              "<p>112067 rows × 6 columns</p>\n",
              "</div>"
            ],
            "text/plain": [
              "            id  ...                                product_description\n",
              "0            4  ...  Not only do angles make joints stronger, they ...\n",
              "1            5  ...  Not only do angles make joints stronger, they ...\n",
              "2            6  ...  Not only do angles make joints stronger, they ...\n",
              "3            7  ...  Not only do angles make joints stronger, they ...\n",
              "4           10  ...  Classic architecture meets contemporary design...\n",
              "...        ...  ...                                                ...\n",
              "112062  221467  ...  The CN445R2 is the latest version of the MAX S...\n",
              "112063  221468  ...  The GROHE Ladylux 3 Pro Single-Handle Pull-Out...\n",
              "112064  221469  ...  The Tile Kit bathtub wall set has a tile-like ...\n",
              "112065  221470  ...  Your daughter will be a queen ready to cast he...\n",
              "112066  221472  ...  The 11.5 in. Sharazad Egg Pot is a great addit...\n",
              "\n",
              "[112067 rows x 6 columns]"
            ]
          },
          "metadata": {
            "tags": []
          },
          "execution_count": 43
        }
      ]
    },
    {
      "cell_type": "code",
      "metadata": {
        "colab": {
          "base_uri": "https://localhost:8080/",
          "height": 597
        },
        "id": "on5i-eYowOxF",
        "outputId": "fb1db4ed-fd69-4ce8-9b89-8d099713abe5"
      },
      "source": [
        "train_data"
      ],
      "execution_count": null,
      "outputs": [
        {
          "output_type": "execute_result",
          "data": {
            "text/html": [
              "<div>\n",
              "<style scoped>\n",
              "    .dataframe tbody tr th:only-of-type {\n",
              "        vertical-align: middle;\n",
              "    }\n",
              "\n",
              "    .dataframe tbody tr th {\n",
              "        vertical-align: top;\n",
              "    }\n",
              "\n",
              "    .dataframe thead th {\n",
              "        text-align: right;\n",
              "    }\n",
              "</style>\n",
              "<table border=\"1\" class=\"dataframe\">\n",
              "  <thead>\n",
              "    <tr style=\"text-align: right;\">\n",
              "      <th></th>\n",
              "      <th>id</th>\n",
              "      <th>product_uid</th>\n",
              "      <th>product_title</th>\n",
              "      <th>search_term</th>\n",
              "      <th>relevance</th>\n",
              "      <th>product_description</th>\n",
              "    </tr>\n",
              "  </thead>\n",
              "  <tbody>\n",
              "    <tr>\n",
              "      <th>0</th>\n",
              "      <td>2</td>\n",
              "      <td>100001</td>\n",
              "      <td>[101, 9304, 2844, 1011, 5495, 2260, 1011, 7633...</td>\n",
              "      <td>[101, 6466, 21605, 102]</td>\n",
              "      <td>3.00</td>\n",
              "      <td>Not only do angles make joints stronger, they ...</td>\n",
              "    </tr>\n",
              "    <tr>\n",
              "      <th>1</th>\n",
              "      <td>3</td>\n",
              "      <td>100001</td>\n",
              "      <td>[101, 9304, 2844, 1011, 5495, 2260, 1011, 7633...</td>\n",
              "      <td>[101, 1048, 21605, 102]</td>\n",
              "      <td>2.50</td>\n",
              "      <td>Not only do angles make joints stronger, they ...</td>\n",
              "    </tr>\n",
              "    <tr>\n",
              "      <th>2</th>\n",
              "      <td>9</td>\n",
              "      <td>100002</td>\n",
              "      <td>[101, 2022, 8093, 12882, 14902, 2094, 5877, 78...</td>\n",
              "      <td>[101, 5877, 2058, 102]</td>\n",
              "      <td>3.00</td>\n",
              "      <td>BEHR Premium Textured DECKOVER is an innovativ...</td>\n",
              "    </tr>\n",
              "    <tr>\n",
              "      <th>3</th>\n",
              "      <td>16</td>\n",
              "      <td>100005</td>\n",
              "      <td>[101, 7160, 2310, 3217, 1015, 1011, 5047, 6457...</td>\n",
              "      <td>[101, 4542, 6457, 2132, 102]</td>\n",
              "      <td>2.33</td>\n",
              "      <td>Update your bathroom with the Delta Vero Singl...</td>\n",
              "    </tr>\n",
              "    <tr>\n",
              "      <th>4</th>\n",
              "      <td>17</td>\n",
              "      <td>100005</td>\n",
              "      <td>[101, 7160, 2310, 3217, 1015, 1011, 5047, 6457...</td>\n",
              "      <td>[101, 6457, 2069, 6904, 18796, 2102, 102]</td>\n",
              "      <td>2.67</td>\n",
              "      <td>Update your bathroom with the Delta Vero Singl...</td>\n",
              "    </tr>\n",
              "    <tr>\n",
              "      <th>...</th>\n",
              "      <td>...</td>\n",
              "      <td>...</td>\n",
              "      <td>...</td>\n",
              "      <td>...</td>\n",
              "      <td>...</td>\n",
              "      <td>...</td>\n",
              "    </tr>\n",
              "    <tr>\n",
              "      <th>74062</th>\n",
              "      <td>221457</td>\n",
              "      <td>206638</td>\n",
              "      <td>[101, 4448, 3332, 9739, 2063, 5401, 2575, 3729...</td>\n",
              "      <td>[101, 2694, 4125, 2099, 3221, 102]</td>\n",
              "      <td>1.00</td>\n",
              "      <td>Atlantic, Inc. 94835722 Uniquely designed for ...</td>\n",
              "    </tr>\n",
              "    <tr>\n",
              "      <th>74063</th>\n",
              "      <td>221458</td>\n",
              "      <td>206639</td>\n",
              "      <td>[101, 19087, 2871, 1011, 15231, 17201, 6914, 1...</td>\n",
              "      <td>[101, 1054, 11387, 17201, 6914, 2422, 102]</td>\n",
              "      <td>3.00</td>\n",
              "      <td>Philips Energy Advantage lamps use less energy...</td>\n",
              "    </tr>\n",
              "    <tr>\n",
              "      <th>74064</th>\n",
              "      <td>221463</td>\n",
              "      <td>206641</td>\n",
              "      <td>[101, 8040, 7317, 4270, 19130, 4140, 1999, 101...</td>\n",
              "      <td>[101, 8040, 7317, 4270, 5843, 23754, 2431, 243...</td>\n",
              "      <td>2.33</td>\n",
              "      <td>The Schlage Camelot In-Active Aged Bronze Hand...</td>\n",
              "    </tr>\n",
              "    <tr>\n",
              "      <th>74065</th>\n",
              "      <td>221471</td>\n",
              "      <td>206648</td>\n",
              "      <td>[101, 20228, 14083, 8586, 2340, 1999, 1012, 10...</td>\n",
              "      <td>[101, 16729, 3871, 25545, 102]</td>\n",
              "      <td>3.00</td>\n",
              "      <td>The Rose Garden is inspired by the popular ear...</td>\n",
              "    </tr>\n",
              "    <tr>\n",
              "      <th>74066</th>\n",
              "      <td>221473</td>\n",
              "      <td>206650</td>\n",
              "      <td>[101, 5622, 10143, 11029, 4770, 2630, 2053, 10...</td>\n",
              "      <td>[101, 2986, 11591, 11002, 6191, 5282, 102]</td>\n",
              "      <td>2.33</td>\n",
              "      <td>No. 918 Millennial Ryan heathered texture semi...</td>\n",
              "    </tr>\n",
              "  </tbody>\n",
              "</table>\n",
              "<p>74067 rows × 6 columns</p>\n",
              "</div>"
            ],
            "text/plain": [
              "           id  ...                                product_description\n",
              "0           2  ...  Not only do angles make joints stronger, they ...\n",
              "1           3  ...  Not only do angles make joints stronger, they ...\n",
              "2           9  ...  BEHR Premium Textured DECKOVER is an innovativ...\n",
              "3          16  ...  Update your bathroom with the Delta Vero Singl...\n",
              "4          17  ...  Update your bathroom with the Delta Vero Singl...\n",
              "...       ...  ...                                                ...\n",
              "74062  221457  ...  Atlantic, Inc. 94835722 Uniquely designed for ...\n",
              "74063  221458  ...  Philips Energy Advantage lamps use less energy...\n",
              "74064  221463  ...  The Schlage Camelot In-Active Aged Bronze Hand...\n",
              "74065  221471  ...  The Rose Garden is inspired by the popular ear...\n",
              "74066  221473  ...  No. 918 Millennial Ryan heathered texture semi...\n",
              "\n",
              "[74067 rows x 6 columns]"
            ]
          },
          "metadata": {
            "tags": []
          },
          "execution_count": 44
        }
      ]
    },
    {
      "cell_type": "code",
      "metadata": {
        "colab": {
          "base_uri": "https://localhost:8080/",
          "height": 569
        },
        "id": "U1uxRIYXp-vi",
        "outputId": "b655be1b-6372-48b9-aee6-10a00ddda4ba"
      },
      "source": [
        "x_train, x_test = padding_sequences(train_data, test_data, 512)"
      ],
      "execution_count": null,
      "outputs": [
        {
          "output_type": "display_data",
          "data": {
            "text/html": [
              "<div>\n",
              "<style scoped>\n",
              "    .dataframe tbody tr th:only-of-type {\n",
              "        vertical-align: middle;\n",
              "    }\n",
              "\n",
              "    .dataframe tbody tr th {\n",
              "        vertical-align: top;\n",
              "    }\n",
              "\n",
              "    .dataframe thead th {\n",
              "        text-align: right;\n",
              "    }\n",
              "</style>\n",
              "<table border=\"1\" class=\"dataframe\">\n",
              "  <thead>\n",
              "    <tr style=\"text-align: right;\">\n",
              "      <th></th>\n",
              "      <th>id</th>\n",
              "      <th>product_uid</th>\n",
              "      <th>product_title</th>\n",
              "      <th>search_term</th>\n",
              "      <th>relevance</th>\n",
              "      <th>product_description</th>\n",
              "    </tr>\n",
              "  </thead>\n",
              "  <tbody>\n",
              "    <tr>\n",
              "      <th>0</th>\n",
              "      <td>2</td>\n",
              "      <td>100001</td>\n",
              "      <td>[0, 0, 0, 0, 0, 0, 0, 0, 0, 0, 0, 0, 0, 0, 0, ...</td>\n",
              "      <td>[0, 0, 0, 0, 0, 0, 0, 0, 0, 0, 0, 0, 0, 0, 0, ...</td>\n",
              "      <td>3.00</td>\n",
              "      <td>Not only do angles make joints stronger, they ...</td>\n",
              "    </tr>\n",
              "    <tr>\n",
              "      <th>1</th>\n",
              "      <td>3</td>\n",
              "      <td>100001</td>\n",
              "      <td>[0, 0, 0, 0, 0, 0, 0, 0, 0, 0, 0, 0, 0, 0, 0, ...</td>\n",
              "      <td>[0, 0, 0, 0, 0, 0, 0, 0, 0, 0, 0, 0, 0, 0, 0, ...</td>\n",
              "      <td>2.50</td>\n",
              "      <td>Not only do angles make joints stronger, they ...</td>\n",
              "    </tr>\n",
              "    <tr>\n",
              "      <th>2</th>\n",
              "      <td>9</td>\n",
              "      <td>100002</td>\n",
              "      <td>[0, 0, 0, 0, 0, 0, 0, 0, 0, 0, 0, 0, 0, 0, 0, ...</td>\n",
              "      <td>[0, 0, 0, 0, 0, 0, 0, 0, 0, 0, 0, 0, 0, 0, 0, ...</td>\n",
              "      <td>3.00</td>\n",
              "      <td>BEHR Premium Textured DECKOVER is an innovativ...</td>\n",
              "    </tr>\n",
              "    <tr>\n",
              "      <th>3</th>\n",
              "      <td>16</td>\n",
              "      <td>100005</td>\n",
              "      <td>[0, 0, 0, 0, 0, 0, 0, 0, 0, 0, 0, 0, 0, 0, 0, ...</td>\n",
              "      <td>[0, 0, 0, 0, 0, 0, 0, 0, 0, 0, 0, 0, 0, 0, 0, ...</td>\n",
              "      <td>2.33</td>\n",
              "      <td>Update your bathroom with the Delta Vero Singl...</td>\n",
              "    </tr>\n",
              "    <tr>\n",
              "      <th>4</th>\n",
              "      <td>17</td>\n",
              "      <td>100005</td>\n",
              "      <td>[0, 0, 0, 0, 0, 0, 0, 0, 0, 0, 0, 0, 0, 0, 0, ...</td>\n",
              "      <td>[0, 0, 0, 0, 0, 0, 0, 0, 0, 0, 0, 0, 0, 0, 0, ...</td>\n",
              "      <td>2.67</td>\n",
              "      <td>Update your bathroom with the Delta Vero Singl...</td>\n",
              "    </tr>\n",
              "  </tbody>\n",
              "</table>\n",
              "</div>"
            ],
            "text/plain": [
              "   id  ...                                product_description\n",
              "0   2  ...  Not only do angles make joints stronger, they ...\n",
              "1   3  ...  Not only do angles make joints stronger, they ...\n",
              "2   9  ...  BEHR Premium Textured DECKOVER is an innovativ...\n",
              "3  16  ...  Update your bathroom with the Delta Vero Singl...\n",
              "4  17  ...  Update your bathroom with the Delta Vero Singl...\n",
              "\n",
              "[5 rows x 6 columns]"
            ]
          },
          "metadata": {
            "tags": []
          }
        },
        {
          "output_type": "display_data",
          "data": {
            "text/html": [
              "<div>\n",
              "<style scoped>\n",
              "    .dataframe tbody tr th:only-of-type {\n",
              "        vertical-align: middle;\n",
              "    }\n",
              "\n",
              "    .dataframe tbody tr th {\n",
              "        vertical-align: top;\n",
              "    }\n",
              "\n",
              "    .dataframe thead th {\n",
              "        text-align: right;\n",
              "    }\n",
              "</style>\n",
              "<table border=\"1\" class=\"dataframe\">\n",
              "  <thead>\n",
              "    <tr style=\"text-align: right;\">\n",
              "      <th></th>\n",
              "      <th>id</th>\n",
              "      <th>product_uid</th>\n",
              "      <th>product_title</th>\n",
              "      <th>search_term</th>\n",
              "      <th>relevance</th>\n",
              "      <th>product_description</th>\n",
              "    </tr>\n",
              "  </thead>\n",
              "  <tbody>\n",
              "    <tr>\n",
              "      <th>0</th>\n",
              "      <td>4</td>\n",
              "      <td>100001</td>\n",
              "      <td>[0, 0, 0, 0, 0, 0, 0, 0, 0, 0, 0, 0, 0, 0, 0, ...</td>\n",
              "      <td>[0, 0, 0, 0, 0, 0, 0, 0, 0, 0, 0, 0, 0, 0, 0, ...</td>\n",
              "      <td>2.33</td>\n",
              "      <td>Not only do angles make joints stronger, they ...</td>\n",
              "    </tr>\n",
              "    <tr>\n",
              "      <th>1</th>\n",
              "      <td>5</td>\n",
              "      <td>100001</td>\n",
              "      <td>[0, 0, 0, 0, 0, 0, 0, 0, 0, 0, 0, 0, 0, 0, 0, ...</td>\n",
              "      <td>[0, 0, 0, 0, 0, 0, 0, 0, 0, 0, 0, 0, 0, 0, 0, ...</td>\n",
              "      <td>2.33</td>\n",
              "      <td>Not only do angles make joints stronger, they ...</td>\n",
              "    </tr>\n",
              "    <tr>\n",
              "      <th>2</th>\n",
              "      <td>6</td>\n",
              "      <td>100001</td>\n",
              "      <td>[0, 0, 0, 0, 0, 0, 0, 0, 0, 0, 0, 0, 0, 0, 0, ...</td>\n",
              "      <td>[0, 0, 0, 0, 0, 0, 0, 0, 0, 0, 0, 0, 0, 0, 0, ...</td>\n",
              "      <td>2.67</td>\n",
              "      <td>Not only do angles make joints stronger, they ...</td>\n",
              "    </tr>\n",
              "    <tr>\n",
              "      <th>3</th>\n",
              "      <td>7</td>\n",
              "      <td>100001</td>\n",
              "      <td>[0, 0, 0, 0, 0, 0, 0, 0, 0, 0, 0, 0, 0, 0, 0, ...</td>\n",
              "      <td>[0, 0, 0, 0, 0, 0, 0, 0, 0, 0, 0, 0, 0, 0, 0, ...</td>\n",
              "      <td>2.00</td>\n",
              "      <td>Not only do angles make joints stronger, they ...</td>\n",
              "    </tr>\n",
              "    <tr>\n",
              "      <th>4</th>\n",
              "      <td>10</td>\n",
              "      <td>100003</td>\n",
              "      <td>[0, 0, 0, 0, 0, 0, 0, 0, 0, 0, 0, 0, 0, 0, 0, ...</td>\n",
              "      <td>[0, 0, 0, 0, 0, 0, 0, 0, 0, 0, 0, 0, 0, 0, 0, ...</td>\n",
              "      <td>2.67</td>\n",
              "      <td>Classic architecture meets contemporary design...</td>\n",
              "    </tr>\n",
              "  </tbody>\n",
              "</table>\n",
              "</div>"
            ],
            "text/plain": [
              "   id  ...                                product_description\n",
              "0   4  ...  Not only do angles make joints stronger, they ...\n",
              "1   5  ...  Not only do angles make joints stronger, they ...\n",
              "2   6  ...  Not only do angles make joints stronger, they ...\n",
              "3   7  ...  Not only do angles make joints stronger, they ...\n",
              "4  10  ...  Classic architecture meets contemporary design...\n",
              "\n",
              "[5 rows x 6 columns]"
            ]
          },
          "metadata": {
            "tags": []
          }
        }
      ]
    },
    {
      "cell_type": "code",
      "metadata": {
        "id": "ar8CApckrCsV"
      },
      "source": [
        "y_train = train_data['relevance']\r\n",
        "y_test = test_data['relevance']"
      ],
      "execution_count": null,
      "outputs": []
    },
    {
      "cell_type": "code",
      "metadata": {
        "id": "didBZMRerJOP"
      },
      "source": [
        "from sklearn.model_selection import train_test_split\r\n",
        "x_train, x_validate, y_train, y_validate = train_test_split(x_train, y_train, test_size=0.2)"
      ],
      "execution_count": null,
      "outputs": []
    },
    {
      "cell_type": "code",
      "metadata": {
        "id": "Cs6S-BvztEGy"
      },
      "source": [
        ""
      ],
      "execution_count": null,
      "outputs": []
    },
    {
      "cell_type": "code",
      "metadata": {
        "id": "Gs6tHq65thKG"
      },
      "source": [
        "x_train = [np.array(x_train['product_title'].tolist()), np.array(x_train['search_term'].tolist())]\r\n",
        "x_validate = [np.array(x_validate['product_title'].tolist()), np.array(x_validate['search_term'].tolist())]\r\n",
        "x_test = [np.array(x_test['product_title'].tolist()), np.array(x_test['search_term'].tolist())]"
      ],
      "execution_count": null,
      "outputs": []
    },
    {
      "cell_type": "markdown",
      "metadata": {
        "id": "X9VzhSKbuEHe"
      },
      "source": [
        "\r\n",
        "## **2.c - Siamese Neural Network**"
      ]
    },
    {
      "cell_type": "code",
      "metadata": {
        "colab": {
          "base_uri": "https://localhost:8080/"
        },
        "id": "3ftINP05uKK4",
        "outputId": "1531554a-f14a-4dfd-9b68-3e650aa34ac2"
      },
      "source": [
        "model_siamese = construct_siamese_model(512,30522)\r\n",
        "model_siamese.summary()\r\n",
        "model_siamese.compile(loss='mse', optimizer=RMSprop(learning_rate=0.01))"
      ],
      "execution_count": null,
      "outputs": [
        {
          "output_type": "stream",
          "text": [
            "Model: \"model_5\"\n",
            "__________________________________________________________________________________________________\n",
            "Layer (type)                    Output Shape         Param #     Connected to                     \n",
            "==================================================================================================\n",
            "input_9 (InputLayer)            [(None, 512)]        0                                            \n",
            "__________________________________________________________________________________________________\n",
            "input_10 (InputLayer)           [(None, 512)]        0                                            \n",
            "__________________________________________________________________________________________________\n",
            "embedding_8 (Embedding)         (None, 512, 174)     5310828     input_9[0][0]                    \n",
            "__________________________________________________________________________________________________\n",
            "embedding_9 (Embedding)         (None, 512, 174)     5310828     input_10[0][0]                   \n",
            "__________________________________________________________________________________________________\n",
            "lstm_8 (LSTM)                   (None, 512, 128)     155136      embedding_8[0][0]                \n",
            "__________________________________________________________________________________________________\n",
            "lstm_9 (LSTM)                   (None, 512, 128)     155136      embedding_9[0][0]                \n",
            "__________________________________________________________________________________________________\n",
            "max_pooling1d_8 (MaxPooling1D)  (None, 25, 128)      0           lstm_8[0][0]                     \n",
            "__________________________________________________________________________________________________\n",
            "max_pooling1d_9 (MaxPooling1D)  (None, 25, 128)      0           lstm_9[0][0]                     \n",
            "__________________________________________________________________________________________________\n",
            "activation_12 (Activation)      (None, 25, 128)      0           max_pooling1d_8[0][0]            \n",
            "__________________________________________________________________________________________________\n",
            "activation_13 (Activation)      (None, 25, 128)      0           max_pooling1d_9[0][0]            \n",
            "__________________________________________________________________________________________________\n",
            "dense_12 (Dense)                (None, 25, 128)      16512       activation_12[0][0]              \n",
            "__________________________________________________________________________________________________\n",
            "dense_13 (Dense)                (None, 25, 128)      16512       activation_13[0][0]              \n",
            "__________________________________________________________________________________________________\n",
            "flatten_8 (Flatten)             (None, 3200)         0           dense_12[0][0]                   \n",
            "__________________________________________________________________________________________________\n",
            "flatten_9 (Flatten)             (None, 3200)         0           dense_13[0][0]                   \n",
            "__________________________________________________________________________________________________\n",
            "add_4 (Add)                     (None, 3200)         0           flatten_8[0][0]                  \n",
            "                                                                 flatten_9[0][0]                  \n",
            "__________________________________________________________________________________________________\n",
            "dense_14 (Dense)                (None, 1)            3201        add_4[0][0]                      \n",
            "==================================================================================================\n",
            "Total params: 10,968,153\n",
            "Trainable params: 10,968,153\n",
            "Non-trainable params: 0\n",
            "__________________________________________________________________________________________________\n"
          ],
          "name": "stdout"
        }
      ]
    },
    {
      "cell_type": "code",
      "metadata": {
        "colab": {
          "base_uri": "https://localhost:8080/"
        },
        "id": "J6UM6sI-uZct",
        "outputId": "27a1cff2-9165-460b-d099-5e982163b076"
      },
      "source": [
        "%%time\r\n",
        "history = model_siamese.fit([x_train[0],x_train[1]], y_train, validation_data=(x_validate, y_validate), epochs=10, batch_size=32, callbacks=set_callbacks(description = \"word_siamense\"))"
      ],
      "execution_count": null,
      "outputs": [
        {
          "output_type": "stream",
          "text": [
            "Epoch 1/10\n",
            "1852/1852 [==============================] - 198s 106ms/step - loss: 59.4141 - val_loss: 0.3605\n",
            "Epoch 2/10\n",
            "1852/1852 [==============================] - 191s 103ms/step - loss: 0.7451 - val_loss: 0.3470\n",
            "Epoch 3/10\n",
            "1852/1852 [==============================] - 191s 103ms/step - loss: 0.7360 - val_loss: 0.2924\n",
            "Epoch 4/10\n",
            "1852/1852 [==============================] - 193s 104ms/step - loss: 2.5025 - val_loss: 0.2940\n",
            "Epoch 5/10\n",
            "1852/1852 [==============================] - 192s 103ms/step - loss: 1.5585 - val_loss: 0.4671\n",
            "Epoch 6/10\n",
            "1852/1852 [==============================] - 192s 104ms/step - loss: 1.5098 - val_loss: 0.3089\n",
            "Epoch 7/10\n",
            "1852/1852 [==============================] - 192s 104ms/step - loss: 1.8147 - val_loss: 0.3595\n",
            "Epoch 8/10\n",
            "1852/1852 [==============================] - 191s 103ms/step - loss: 1.6814 - val_loss: 1.6721\n",
            "Epoch 9/10\n",
            "1852/1852 [==============================] - 193s 104ms/step - loss: 1.8676 - val_loss: 0.3032\n",
            "Epoch 10/10\n",
            "1852/1852 [==============================] - 194s 105ms/step - loss: 2.1947 - val_loss: 0.3331\n",
            "CPU times: user 40min 40s, sys: 1min 24s, total: 42min 5s\n",
            "Wall time: 32min 13s\n"
          ],
          "name": "stdout"
        }
      ]
    },
    {
      "cell_type": "code",
      "metadata": {
        "id": "4ytO5D_xuoMx",
        "colab": {
          "base_uri": "https://localhost:8080/",
          "height": 295
        },
        "outputId": "0cde72d1-34cd-4ae4-91a2-91f4cfec5d61"
      },
      "source": [
        "draw_plots(history)"
      ],
      "execution_count": null,
      "outputs": [
        {
          "output_type": "display_data",
          "data": {
            "image/png": "[encoded data removed]",
            "text/plain": [
              "<Figure size 432x288 with 1 Axes>"
            ]
          },
          "metadata": {
            "tags": [],
            "needs_background": "light"
          }
        }
      ]
    },
    {
      "cell_type": "code",
      "metadata": {
        "id": "VIFiR3Blz7Ge",
        "colab": {
          "base_uri": "https://localhost:8080/"
        },
        "outputId": "c06d602f-3774-41d6-eb28-ca060ff3b75f"
      },
      "source": [
        "%%time\r\n",
        "pred_train = model_siamese.predict(x_train)\r\n",
        "pred_validate = model_siamese.predict(x_validate)\r\n",
        "pred_test = model_siamese.predict(x_test)\r\n",
        "\r\n",
        "evaluate_model(pred_train, y_train, \"training\")\r\n",
        "evaluate_model(pred_validate, y_validate, \"validation\")\r\n",
        "evaluate_model(pred_test, y_test, \"testing\")"
      ],
      "execution_count": null,
      "outputs": [
        {
          "output_type": "stream",
          "text": [
            "Model MSE Loss in training stage: 0.33107421680618326\n",
            "Model RMSE Loss in training stage: 0.5753904907158123\n",
            "Model MAE Loss in training stage: 0.45251095853278306\n",
            "\n",
            "Model MSE Loss in validation stage: 0.33309087301372436\n",
            "Model RMSE Loss in validation stage: 0.5771402541962607\n",
            "Model MAE Loss in validation stage: 0.454474730137889\n",
            "\n",
            "Model MSE Loss in testing stage: 0.33437002468187266\n",
            "Model RMSE Loss in testing stage: 0.5782473732598122\n",
            "Model MAE Loss in testing stage: 0.45345793752717006\n",
            "\n",
            "CPU times: user 2min 57s, sys: 4.04 s, total: 3min 1s\n",
            "Wall time: 2min 40s\n"
          ],
          "name": "stdout"
        }
      ]
    },
    {
      "cell_type": "markdown",
      "metadata": {
        "id": "3qaDxKcm8CqP"
      },
      "source": [
        "## **2.d - Feature Extractor**\r\n"
      ]
    },
    {
      "cell_type": "code",
      "metadata": {
        "id": "4yXzKXaR6Ko5"
      },
      "source": [
        "model_siamese = construct_siamese_model(512,30522)\r\n",
        "model_siamese.load_weights(main_url + 'best_model_weights_{}.h5'.format(\"word_siamense\"))\r\n",
        "feature_extractor_model = Model(inputs=model_siamese.input, outputs=model_siamese.layers[len(model_siamese.layers) - 1].output)"
      ],
      "execution_count": null,
      "outputs": []
    },
    {
      "cell_type": "markdown",
      "metadata": {
        "id": "MAwXqzGy8g2N"
      },
      "source": [
        "### **Random Forest**"
      ]
    },
    {
      "cell_type": "code",
      "metadata": {
        "id": "Y8Bvxv0J8PO1",
        "colab": {
          "base_uri": "https://localhost:8080/"
        },
        "outputId": "137d46a9-e93a-4f3e-af85-19b93470c486"
      },
      "source": [
        "%%time\r\n",
        "from sklearn.ensemble import RandomForestRegressor\r\n",
        "\r\n",
        "random_forest_model = RandomForestRegressor(max_depth=5, random_state=0)\r\n",
        "random_forest_model.fit(feature_extractor_model.predict(x_train), y_train)"
      ],
      "execution_count": null,
      "outputs": [
        {
          "output_type": "stream",
          "text": [
            "CPU times: user 56.3 s, sys: 1.35 s, total: 57.7 s\n",
            "Wall time: 51.5 s\n"
          ],
          "name": "stdout"
        }
      ]
    },
    {
      "cell_type": "code",
      "metadata": {
        "id": "eHN8-zlY8SXk",
        "colab": {
          "base_uri": "https://localhost:8080/"
        },
        "outputId": "94652836-ba47-43ea-9702-b599f2543477"
      },
      "source": [
        "%%time\r\n",
        "pred_train = random_forest_model.predict(feature_extractor_model.predict(x_train))\r\n",
        "pred_validate = random_forest_model.predict(feature_extractor_model.predict(x_validate))\r\n",
        "pred_test = random_forest_model.predict(feature_extractor_model.predict(x_test))\r\n",
        "\r\n",
        "evaluate_model(pred_train, y_train, \"training\")\r\n",
        "evaluate_model(pred_validate, y_validate, \"validation\")\r\n",
        "evaluate_model(pred_test, y_test, \"testing\")"
      ],
      "execution_count": null,
      "outputs": [
        {
          "output_type": "stream",
          "text": [
            "Model MSE Loss in training stage: 0.28345228698105307\n",
            "Model RMSE Loss in training stage: 0.5324023731925441\n",
            "Model MAE Loss in training stage: 0.43621475715963326\n",
            "\n",
            "Model MSE Loss in validation stage: 0.2861693842338098\n",
            "Model RMSE Loss in validation stage: 0.534948020123273\n",
            "Model MAE Loss in validation stage: 0.4388157115373447\n",
            "\n",
            "Model MSE Loss in testing stage: 0.28666521931420397\n",
            "Model RMSE Loss in testing stage: 0.5354112618485009\n",
            "Model MAE Loss in testing stage: 0.4386784263289731\n",
            "\n",
            "CPU times: user 3min, sys: 4.11 s, total: 3min 4s\n",
            "Wall time: 2min 42s\n"
          ],
          "name": "stdout"
        }
      ]
    },
    {
      "cell_type": "markdown",
      "metadata": {
        "id": "MHDmuwNvABid"
      },
      "source": [
        "### **XGBoost**"
      ]
    },
    {
      "cell_type": "code",
      "metadata": {
        "id": "UG9ctgIn8zVh"
      },
      "source": [
        "import xgboost as xgb"
      ],
      "execution_count": null,
      "outputs": []
    },
    {
      "cell_type": "code",
      "metadata": {
        "id": "e6a_79op92cd",
        "colab": {
          "base_uri": "https://localhost:8080/"
        },
        "outputId": "0f2ec4a2-73f0-454d-92ad-50a1301807dd"
      },
      "source": [
        "%%time\r\n",
        "param = {'max_depth':7}\r\n",
        "num_round = 24\r\n",
        "xg_train = xgb.DMatrix(feature_extractor_model.predict(x_train), label=y_train)\r\n",
        "clf = xgb.train( param, xg_train, num_round)"
      ],
      "execution_count": null,
      "outputs": [
        {
          "output_type": "stream",
          "text": [
            "CPU times: user 59.8 s, sys: 1.29 s, total: 1min 1s\n",
            "Wall time: 54.1 s\n"
          ],
          "name": "stdout"
        }
      ]
    },
    {
      "cell_type": "code",
      "metadata": {
        "id": "NDsW45lF-qEE",
        "colab": {
          "base_uri": "https://localhost:8080/"
        },
        "outputId": "647247da-632d-4b93-e49b-c5966c549201"
      },
      "source": [
        "%%time\r\n",
        "pred_train = clf.predict(xgb.DMatrix(feature_extractor_model.predict(x_train)))\r\n",
        "pred_validate = clf.predict(xgb.DMatrix(feature_extractor_model.predict(x_validate)))\r\n",
        "pred_test = clf.predict(xgb.DMatrix(feature_extractor_model.predict(x_test)))\r\n",
        "\r\n",
        "evaluate_model(pred_train, y_train, \"training\")\r\n",
        "evaluate_model(pred_validate, y_validate, \"validation\")\r\n",
        "evaluate_model(pred_test, y_test, \"testing\")"
      ],
      "execution_count": null,
      "outputs": [
        {
          "output_type": "stream",
          "text": [
            "Model MSE Loss in training stage: 0.28206781331253716\n",
            "Model RMSE Loss in training stage: 0.5311005679836326\n",
            "Model MAE Loss in training stage: 0.4348784134526507\n",
            "\n",
            "Model MSE Loss in validation stage: 0.285999370069196\n",
            "Model RMSE Loss in validation stage: 0.534789089332604\n",
            "Model MAE Loss in validation stage: 0.43870868631456644\n",
            "\n",
            "Model MSE Loss in testing stage: 0.2871447084809795\n",
            "Model RMSE Loss in testing stage: 0.5358588512668047\n",
            "Model MAE Loss in testing stage: 0.4388913719565603\n",
            "\n",
            "CPU times: user 3min 7s, sys: 4.12 s, total: 3min 11s\n",
            "Wall time: 2min 47s\n"
          ],
          "name": "stdout"
        }
      ]
    },
    {
      "cell_type": "markdown",
      "metadata": {
        "id": "--WdK5ONRmMo"
      },
      "source": [
        "# **3 - Result table**"
      ]
    },
    {
      "cell_type": "code",
      "metadata": {
        "id": "znbyOdeC_O3i",
        "colab": {
          "base_uri": "https://localhost:8080/",
          "height": 248
        },
        "outputId": "03ff765a-1012-40e0-bf32-6c3d856d8ac2"
      },
      "source": [
        "columns = ['Runtime','Train-RMSE','Val-RMSE','Test-RMSE','Train-MAE','Val-MAE','Test-MAE']\r\n",
        "result = {}\r\n",
        "\r\n",
        "result['Naïve Benchmark'] = ['5min 47sec',0.5344,0.5434,0.5378,0.4341,0.4413,0.4360]\r\n",
        "result['Character Level LSTM']=['7min 32sec',0.5280,0.5318,0.5352,0.4351,0.4389,0.4412]\r\n",
        "result['Character Level Random Forest']=['18.9sec',0.5236,0.5282,0.5321,0.4295,0.4335,0.4363]\r\n",
        "result['Character Level KNN']=['15.7sec',0.4591,0.5134,0.5703,0.3683,0.4140,0.4604]\r\n",
        "result['Word Level LSTM']=['42min 5sec',0.5753,0.5771,0.5782,0.4525,0.4544,0.4534]\r\n",
        "result['Word Level Random Forest']=['57.7sec',0.5324,0.5354,0.5321,0.4362,0.4388,0.4386]\r\n",
        "result['Word Level XGBoost']=['1min 1sec',0.5311,0.5347,0.5358,0.4348,0.4387,0.4388]\r\n",
        "\r\n",
        "pd.DataFrame.from_dict(result, orient='index',columns=columns)"
      ],
      "execution_count": null,
      "outputs": [
        {
          "output_type": "execute_result",
          "data": {
            "text/html": [
              "<div>\n",
              "<style scoped>\n",
              "    .dataframe tbody tr th:only-of-type {\n",
              "        vertical-align: middle;\n",
              "    }\n",
              "\n",
              "    .dataframe tbody tr th {\n",
              "        vertical-align: top;\n",
              "    }\n",
              "\n",
              "    .dataframe thead th {\n",
              "        text-align: right;\n",
              "    }\n",
              "</style>\n",
              "<table border=\"1\" class=\"dataframe\">\n",
              "  <thead>\n",
              "    <tr style=\"text-align: right;\">\n",
              "      <th></th>\n",
              "      <th>Runtime</th>\n",
              "      <th>Train-RMSE</th>\n",
              "      <th>Val-RMSE</th>\n",
              "      <th>Test-RMSE</th>\n",
              "      <th>Train-MAE</th>\n",
              "      <th>Val-MAE</th>\n",
              "      <th>Test-MAE</th>\n",
              "    </tr>\n",
              "  </thead>\n",
              "  <tbody>\n",
              "    <tr>\n",
              "      <th>Naïve Benchmark</th>\n",
              "      <td>5min 47sec</td>\n",
              "      <td>0.5344</td>\n",
              "      <td>0.5434</td>\n",
              "      <td>0.5378</td>\n",
              "      <td>0.4341</td>\n",
              "      <td>0.4413</td>\n",
              "      <td>0.4360</td>\n",
              "    </tr>\n",
              "    <tr>\n",
              "      <th>Character Level LSTM</th>\n",
              "      <td>7min 32sec</td>\n",
              "      <td>0.5280</td>\n",
              "      <td>0.5318</td>\n",
              "      <td>0.5352</td>\n",
              "      <td>0.4351</td>\n",
              "      <td>0.4389</td>\n",
              "      <td>0.4412</td>\n",
              "    </tr>\n",
              "    <tr>\n",
              "      <th>Character Level Random Forest</th>\n",
              "      <td>18.9sec</td>\n",
              "      <td>0.5236</td>\n",
              "      <td>0.5282</td>\n",
              "      <td>0.5321</td>\n",
              "      <td>0.4295</td>\n",
              "      <td>0.4335</td>\n",
              "      <td>0.4363</td>\n",
              "    </tr>\n",
              "    <tr>\n",
              "      <th>Character Level KNN</th>\n",
              "      <td>15.7sec</td>\n",
              "      <td>0.4591</td>\n",
              "      <td>0.5134</td>\n",
              "      <td>0.5703</td>\n",
              "      <td>0.3683</td>\n",
              "      <td>0.4140</td>\n",
              "      <td>0.4604</td>\n",
              "    </tr>\n",
              "    <tr>\n",
              "      <th>Word Level LSTM</th>\n",
              "      <td>42min 5sec</td>\n",
              "      <td>0.5753</td>\n",
              "      <td>0.5771</td>\n",
              "      <td>0.5782</td>\n",
              "      <td>0.4525</td>\n",
              "      <td>0.4544</td>\n",
              "      <td>0.4534</td>\n",
              "    </tr>\n",
              "    <tr>\n",
              "      <th>Word Level Random Forest</th>\n",
              "      <td>57.7sec</td>\n",
              "      <td>0.5324</td>\n",
              "      <td>0.5354</td>\n",
              "      <td>0.5321</td>\n",
              "      <td>0.4362</td>\n",
              "      <td>0.4388</td>\n",
              "      <td>0.4386</td>\n",
              "    </tr>\n",
              "    <tr>\n",
              "      <th>Word Level XGBoost</th>\n",
              "      <td>1min 1sec</td>\n",
              "      <td>0.5311</td>\n",
              "      <td>0.5347</td>\n",
              "      <td>0.5358</td>\n",
              "      <td>0.4348</td>\n",
              "      <td>0.4387</td>\n",
              "      <td>0.4388</td>\n",
              "    </tr>\n",
              "  </tbody>\n",
              "</table>\n",
              "</div>"
            ],
            "text/plain": [
              "                                  Runtime  Train-RMSE  ...  Val-MAE  Test-MAE\n",
              "Naïve Benchmark                5min 47sec      0.5344  ...   0.4413    0.4360\n",
              "Character Level LSTM           7min 32sec      0.5280  ...   0.4389    0.4412\n",
              "Character Level Random Forest     18.9sec      0.5236  ...   0.4335    0.4363\n",
              "Character Level KNN               15.7sec      0.4591  ...   0.4140    0.4604\n",
              "Word Level LSTM                42min 5sec      0.5753  ...   0.4544    0.4534\n",
              "Word Level Random Forest          57.7sec      0.5324  ...   0.4388    0.4386\n",
              "Word Level XGBoost              1min 1sec      0.5311  ...   0.4387    0.4388\n",
              "\n",
              "[7 rows x 7 columns]"
            ]
          },
          "metadata": {
            "tags": []
          },
          "execution_count": 76
        }
      ]
    },
    {
      "cell_type": "code",
      "metadata": {
        "id": "sipwwm37QwA1"
      },
      "source": [
        ""
      ],
      "execution_count": null,
      "outputs": []
    }
  ]
}